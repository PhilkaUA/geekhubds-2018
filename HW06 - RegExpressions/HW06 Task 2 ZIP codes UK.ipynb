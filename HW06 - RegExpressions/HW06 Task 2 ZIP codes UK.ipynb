{
 "cells": [
  {
   "cell_type": "markdown",
   "metadata": {},
   "source": [
    "# ZIP codes UK"
   ]
  },
  {
   "cell_type": "code",
   "execution_count": 3,
   "metadata": {},
   "outputs": [],
   "source": [
    "import re"
   ]
  },
  {
   "cell_type": "code",
   "execution_count": null,
   "metadata": {},
   "outputs": [],
   "source": [
    "# Zip Codes\n",
    "# https://postal-code.co.uk/\n",
    "# https://en.wikipedia.org/wiki/Postcodes_in_the_United_Kingdom"
   ]
  },
  {
   "cell_type": "code",
   "execution_count": 17,
   "metadata": {},
   "outputs": [
    {
     "data": {
      "text/plain": [
       "'\\nexamples\\n\\nAA9A 9AA\\nA9A 9AA\\nA9 9AA\\nA99 9AA\\nAA9 9AA\\nAA99 9AA\\n'"
      ]
     },
     "execution_count": 17,
     "metadata": {},
     "output_type": "execute_result"
    }
   ],
   "source": [
    "'''\n",
    "examples\n",
    "\n",
    "AA9A 9AA\n",
    "A9A 9AA\n",
    "A9 9AA\n",
    "A99 9AA\n",
    "AA9 9AA\n",
    "AA99 9AA\n",
    "'''"
   ]
  },
  {
   "cell_type": "code",
   "execution_count": 48,
   "metadata": {},
   "outputs": [
    {
     "name": "stdout",
     "output_type": "stream",
     "text": [
      "['EC1A 1BB', 'W1A 0AX', 'M1 1AE', 'B33 8TH', 'CR2 6XH', 'DN55 1PT']\n"
     ]
    }
   ],
   "source": [
    "test_zip_codes = 'код EC1A 1BB и W1A 0AX и M1 1AE и B33 8TH и CR2 6XH та DN55 1PT'\n",
    "\n",
    "\n",
    "zip_codes = re.findall(r'\\b[A-Z]{1,2}[0-9]{1}[A-Z0-9]?\\s[0-9][A-Z]{2}\\b', test_zip_codes)\n",
    "\n",
    "print(zip_codes)\n"
   ]
  },
  {
   "cell_type": "code",
   "execution_count": null,
   "metadata": {},
   "outputs": [],
   "source": []
  },
  {
   "cell_type": "code",
   "execution_count": null,
   "metadata": {},
   "outputs": [],
   "source": []
  },
  {
   "cell_type": "code",
   "execution_count": null,
   "metadata": {},
   "outputs": [],
   "source": []
  },
  {
   "cell_type": "code",
   "execution_count": null,
   "metadata": {},
   "outputs": [],
   "source": []
  }
 ],
 "metadata": {
  "kernelspec": {
   "display_name": "Python 3",
   "language": "python",
   "name": "python3"
  },
  "language_info": {
   "codemirror_mode": {
    "name": "ipython",
    "version": 3
   },
   "file_extension": ".py",
   "mimetype": "text/x-python",
   "name": "python",
   "nbconvert_exporter": "python",
   "pygments_lexer": "ipython3",
   "version": "3.6.5"
  }
 },
 "nbformat": 4,
 "nbformat_minor": 2
}
