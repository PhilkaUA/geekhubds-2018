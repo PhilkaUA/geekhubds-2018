{
 "cells": [
  {
   "cell_type": "markdown",
   "metadata": {},
   "source": [
    "# HW11 Task 2 - Linear model\n",
    "# KNN, LMNN, SVM, ENN"
   ]
  },
  {
   "cell_type": "code",
   "execution_count": 1,
   "metadata": {},
   "outputs": [],
   "source": [
    "#install packets\n",
    "#!pip3 install pylmnn\n",
    "# !pip install enn"
   ]
  },
  {
   "cell_type": "code",
   "execution_count": 6,
   "metadata": {},
   "outputs": [
    {
     "name": "stdout",
     "output_type": "stream",
     "text": [
      "0.20.2\n"
     ]
    }
   ],
   "source": [
    "import numpy as np\n",
    "import pandas as pd\n",
    "import matplotlib\n",
    "import sklearn\n",
    "import time\n",
    "import timeit\n",
    "\n",
    "from enn.enn import ENN\n",
    "from numba.decorators import autojit\n",
    "from pylmnn import LargeMarginNearestNeighbor as LMNN\n",
    "from scipy.spatial.distance import euclidean, mahalanobis, minkowski, chebyshev\n",
    "from sklearn.neighbors import DistanceMetric\n",
    "from sklearn.model_selection import GridSearchCV\n",
    "from sklearn.metrics import accuracy_score, f1_score, precision_score, recall_score, roc_auc_score\n",
    "from sklearn.model_selection import train_test_split\n",
    "from sklearn.model_selection import cross_val_score\n",
    "from sklearn.neighbors import KNeighborsClassifier\n",
    "from sklearn.svm import SVC\n",
    "from sklearn.utils import shuffle\n",
    "\n",
    "%matplotlib inline\n",
    "# matplotlib.style.use('seaborn')\n",
    "\n",
    "print (sklearn.__version__)"
   ]
  },
  {
   "cell_type": "code",
   "execution_count": 7,
   "metadata": {},
   "outputs": [
    {
     "name": "stdout",
     "output_type": "stream",
     "text": [
      "\n",
      " shape:  (1599, 12)\n",
      "\n",
      " type:  quality\n",
      "3     10\n",
      "4     53\n",
      "5    681\n",
      "6    638\n",
      "7    199\n",
      "8     18\n",
      "Name: quality, dtype: int64\n"
     ]
    }
   ],
   "source": [
    "# path to data\n",
    "path='winequality-red.csv'\n",
    "df=pd.read_csv(path, sep=\";\")\n",
    "df.head()\n",
    "# data size\n",
    "print('\\n shape: ',df.shape)\n",
    "\n",
    "# data info\n",
    "df.describe()\n",
    "\n",
    "# target count\n",
    "type=df['quality'].groupby(df['quality']).count()\n",
    "print('\\n type: ',type)"
   ]
  },
  {
   "cell_type": "code",
   "execution_count": 8,
   "metadata": {},
   "outputs": [
    {
     "data": {
      "text/html": [
       "<div>\n",
       "<style scoped>\n",
       "    .dataframe tbody tr th:only-of-type {\n",
       "        vertical-align: middle;\n",
       "    }\n",
       "\n",
       "    .dataframe tbody tr th {\n",
       "        vertical-align: top;\n",
       "    }\n",
       "\n",
       "    .dataframe thead th {\n",
       "        text-align: right;\n",
       "    }\n",
       "</style>\n",
       "<table border=\"1\" class=\"dataframe\">\n",
       "  <thead>\n",
       "    <tr style=\"text-align: right;\">\n",
       "      <th></th>\n",
       "      <th>fixed acidity</th>\n",
       "      <th>volatile acidity</th>\n",
       "      <th>citric acid</th>\n",
       "      <th>residual sugar</th>\n",
       "      <th>chlorides</th>\n",
       "      <th>free sulfur dioxide</th>\n",
       "      <th>total sulfur dioxide</th>\n",
       "      <th>density</th>\n",
       "      <th>pH</th>\n",
       "      <th>sulphates</th>\n",
       "      <th>alcohol</th>\n",
       "      <th>quality</th>\n",
       "    </tr>\n",
       "  </thead>\n",
       "  <tbody>\n",
       "    <tr>\n",
       "      <th>0</th>\n",
       "      <td>7.4</td>\n",
       "      <td>0.70</td>\n",
       "      <td>0.00</td>\n",
       "      <td>1.9</td>\n",
       "      <td>0.076</td>\n",
       "      <td>11.0</td>\n",
       "      <td>34.0</td>\n",
       "      <td>0.9978</td>\n",
       "      <td>3.51</td>\n",
       "      <td>0.56</td>\n",
       "      <td>9.4</td>\n",
       "      <td>5</td>\n",
       "    </tr>\n",
       "    <tr>\n",
       "      <th>1</th>\n",
       "      <td>7.8</td>\n",
       "      <td>0.88</td>\n",
       "      <td>0.00</td>\n",
       "      <td>2.6</td>\n",
       "      <td>0.098</td>\n",
       "      <td>25.0</td>\n",
       "      <td>67.0</td>\n",
       "      <td>0.9968</td>\n",
       "      <td>3.20</td>\n",
       "      <td>0.68</td>\n",
       "      <td>9.8</td>\n",
       "      <td>5</td>\n",
       "    </tr>\n",
       "    <tr>\n",
       "      <th>2</th>\n",
       "      <td>7.8</td>\n",
       "      <td>0.76</td>\n",
       "      <td>0.04</td>\n",
       "      <td>2.3</td>\n",
       "      <td>0.092</td>\n",
       "      <td>15.0</td>\n",
       "      <td>54.0</td>\n",
       "      <td>0.9970</td>\n",
       "      <td>3.26</td>\n",
       "      <td>0.65</td>\n",
       "      <td>9.8</td>\n",
       "      <td>5</td>\n",
       "    </tr>\n",
       "    <tr>\n",
       "      <th>3</th>\n",
       "      <td>11.2</td>\n",
       "      <td>0.28</td>\n",
       "      <td>0.56</td>\n",
       "      <td>1.9</td>\n",
       "      <td>0.075</td>\n",
       "      <td>17.0</td>\n",
       "      <td>60.0</td>\n",
       "      <td>0.9980</td>\n",
       "      <td>3.16</td>\n",
       "      <td>0.58</td>\n",
       "      <td>9.8</td>\n",
       "      <td>6</td>\n",
       "    </tr>\n",
       "    <tr>\n",
       "      <th>4</th>\n",
       "      <td>7.4</td>\n",
       "      <td>0.70</td>\n",
       "      <td>0.00</td>\n",
       "      <td>1.9</td>\n",
       "      <td>0.076</td>\n",
       "      <td>11.0</td>\n",
       "      <td>34.0</td>\n",
       "      <td>0.9978</td>\n",
       "      <td>3.51</td>\n",
       "      <td>0.56</td>\n",
       "      <td>9.4</td>\n",
       "      <td>5</td>\n",
       "    </tr>\n",
       "  </tbody>\n",
       "</table>\n",
       "</div>"
      ],
      "text/plain": [
       "   fixed acidity  volatile acidity  citric acid  residual sugar  chlorides  \\\n",
       "0            7.4              0.70         0.00             1.9      0.076   \n",
       "1            7.8              0.88         0.00             2.6      0.098   \n",
       "2            7.8              0.76         0.04             2.3      0.092   \n",
       "3           11.2              0.28         0.56             1.9      0.075   \n",
       "4            7.4              0.70         0.00             1.9      0.076   \n",
       "\n",
       "   free sulfur dioxide  total sulfur dioxide  density    pH  sulphates  \\\n",
       "0                 11.0                  34.0   0.9978  3.51       0.56   \n",
       "1                 25.0                  67.0   0.9968  3.20       0.68   \n",
       "2                 15.0                  54.0   0.9970  3.26       0.65   \n",
       "3                 17.0                  60.0   0.9980  3.16       0.58   \n",
       "4                 11.0                  34.0   0.9978  3.51       0.56   \n",
       "\n",
       "   alcohol  quality  \n",
       "0      9.4        5  \n",
       "1      9.8        5  \n",
       "2      9.8        5  \n",
       "3      9.8        6  \n",
       "4      9.4        5  "
      ]
     },
     "execution_count": 8,
     "metadata": {},
     "output_type": "execute_result"
    }
   ],
   "source": [
    "df.head()"
   ]
  },
  {
   "cell_type": "code",
   "execution_count": 9,
   "metadata": {},
   "outputs": [
    {
     "data": {
      "image/png": "[encoded data removed]",
      "text/plain": [
       "<Figure size 432x288 with 1 Axes>"
      ]
     },
     "metadata": {
      "needs_background": "light"
     },
     "output_type": "display_data"
    }
   ],
   "source": [
    "# count target plot\n",
    "type.plot('bar');"
   ]
  },
  {
   "cell_type": "code",
   "execution_count": 10,
   "metadata": {},
   "outputs": [],
   "source": [
    "# input data\n",
    "\n",
    "# get column titles except the last column\n",
    "features=df.columns[:-1].tolist()\n",
    "\n",
    "# get data set features\n",
    "X=df[features].values\n",
    "# get labels\n",
    "y=df['quality'].values\n",
    "\n",
    "# split data to train data set and test data set\n",
    "X_train,X_test,y_train,y_test=train_test_split(X,y,test_size=0.25,random_state=1)"
   ]
  },
  {
   "cell_type": "code",
   "execution_count": 6,
   "metadata": {},
   "outputs": [
    {
     "name": "stdout",
     "output_type": "stream",
     "text": [
      "best score: 0.619  nieghbor: 25\n",
      "prediction precision rate: 0.64000\n",
      "Wall time: 1min 4s\n"
     ]
    }
   ],
   "source": [
    "%%time\n",
    "# KNN && Gridsearch\n",
    "n_neighbors_array = list(range(1,31))\n",
    "param_grid={'n_neighbors':n_neighbors_array, 'algorithm':['kd_tree','ball_tree'],\\\n",
    "            'metric':['chebyshev','manhattan','minkowski'], 'weights':['uniform','distance']}\n",
    "\n",
    "knn = KNeighborsClassifier()\n",
    "grid = GridSearchCV(knn, param_grid, cv=5, iid=True)\n",
    "\n",
    "grid.fit(X_train, y_train)\n",
    "\n",
    "best_neighbors = grid.best_params_.get('n_neighbors')\n",
    "\n",
    "print(f'best score: {grid.best_score_:.3f}  nieghbor: {best_neighbors}')\n",
    "print(f'prediction precision rate: {grid.score(X_test,y_test):.5f}')"
   ]
  },
  {
   "cell_type": "code",
   "execution_count": 7,
   "metadata": {},
   "outputs": [
    {
     "name": "stdout",
     "output_type": "stream",
     "text": [
      "best score: 0.569   nieghbor LMNN: 1\n",
      "prediction precision rate: 0.48250\n",
      "time: 4 s \n",
      "\n",
      "best score: 0.564   nieghbor LMNN: 2\n",
      "prediction precision rate: 0.37000\n",
      "time: 3 s \n",
      "\n",
      "best score: 0.568   nieghbor LMNN: 3\n",
      "prediction precision rate: 0.41000\n",
      "time: 3 s \n",
      "\n",
      "best score: 0.569   nieghbor LMNN: 4\n",
      "prediction precision rate: 0.05250\n",
      "time: 6 s \n",
      "\n",
      "best score: 0.579   nieghbor LMNN: 5\n",
      "prediction precision rate: 0.42250\n",
      "time: 4 s \n",
      "\n",
      "best score: 0.565   nieghbor LMNN: 6\n",
      "prediction precision rate: 0.42250\n",
      "time: 4 s \n",
      "\n",
      "best score: 0.590   nieghbor LMNN: 7\n",
      "prediction precision rate: 0.39500\n",
      "time: 7 s \n",
      "\n",
      "best score: 0.585   nieghbor LMNN: 8\n",
      "prediction precision rate: 0.42000\n",
      "time: 5 s \n",
      "\n",
      "\n",
      "Result Nieghbor LMNN algorytm\n",
      "nieghbor LMNN: 7 score: 0.395  predict precision rate: 0.590\n",
      "\n",
      "prediction precision rate: 0.65500\n",
      "Wall time: 43.1 s\n"
     ]
    }
   ],
   "source": [
    "%%time\n",
    "# KNN & LMNN metric GridSearchSV\n",
    "\n",
    "# LMNN metric\n",
    "scores = []\n",
    "# paraments for GridSearchCV\n",
    "#k_test_neighbors_array = list(range(1,10))\n",
    "param_grid_knn={'n_neighbors':[1], 'algorithm':['kd_tree','ball_tree'],\\\n",
    "            'metric':['chebyshev','manhattan','minkowski'], 'weights':['uniform','distance']}\n",
    "\n",
    "# loop k from 1 to 5, and get cross validation score of each K value\n",
    "n_components, max_iter = X.shape[1], 5\n",
    "\n",
    "for k in range(1,9):\n",
    "    start_time = timeit.default_timer()\n",
    "    # Instantiate the metric learner\n",
    "    lmnn = LMNN(n_neighbors=k, max_iter=max_iter, n_components=n_components)\n",
    "    # Train the metric learner\n",
    "    lmnn.fit(X_train, y_train)\n",
    "     \n",
    "    #KNN Algorytm\n",
    "    knn = KNeighborsClassifier()\n",
    "    grid = GridSearchCV(knn, param_grid_knn, cv=5, iid=True)\n",
    "    \n",
    "    grid.fit(lmnn.transform(X_train), y_train)\n",
    "    \n",
    "    best_neighbors = grid.best_params_.get('n_neighbors')\n",
    "    \n",
    "    end_time = timeit.default_timer() - start_time\n",
    "    \n",
    "    print(f'best score: {grid.best_score_:.3f}   nieghbor LMNN: {k}')\n",
    "    print(f'prediction precision rate: {grid.score(X_test,y_test):.5f}')\n",
    "    print(f'time: {end_time:.0f} s \\n')\n",
    "\n",
    "    scores.append([grid.best_score_, best_neighbors, grid.score(X_test,y_test), k])\n",
    "\n",
    "result_scores = sorted(scores, key=lambda x: x[0], reverse=True)[0]\n",
    "print('\\nResult Nieghbor LMNN algorytm')\n",
    "print(f'nieghbor LMNN: {result_scores[3]} score: {result_scores[2]}  predict precision rate: {result_scores[0]:.3f}')\n",
    "\n",
    "# KNN model \n",
    "best_k = result_scores[3]\n",
    "# Instantiate the metric learner\n",
    "lmnn = LMNN(n_neighbors=int(best_k), max_iter=max_iter, n_components=n_components)\n",
    "# Train the metric learner\n",
    "lmnn.fit(X_train, y_train)\n",
    "\n",
    "# generate KNN model & GridSearchCV\n",
    "knn=KNeighborsClassifier(n_neighbors=best_k)\n",
    "\n",
    "param_grid_knn={'n_neighbors':[best_k], 'algorithm':['kd_tree','ball_tree'],\\\n",
    "            'metric':['chebyshev','manhattan','minkowski'], 'weights':['uniform','distance']}\n",
    "\n",
    "grid_knn = GridSearchCV(knn, param_grid_knn, cv=5, iid=True)\n",
    "# fit with train data set\n",
    "grid_knn.fit(lmnn.transform(X_train), y_train)\n",
    "\n",
    "print(f'\\nprediction precision rate: {grid_knn.score(lmnn.transform(X_test),y_test):.5f}')"
   ]
  },
  {
   "cell_type": "code",
   "execution_count": 8,
   "metadata": {},
   "outputs": [
    {
     "name": "stdout",
     "output_type": "stream",
     "text": [
      "neibors: 1  ->  score: 0.55307  <-  time: 4 s\n",
      "neibors: 2  ->  score: 0.56645  <-  time: 3 s\n",
      "neibors: 3  ->  score: 0.56310  <-  time: 2 s\n",
      "neibors: 4  ->  score: 0.58141  <-  time: 3 s\n",
      "neibors: 5  ->  score: 0.58055  <-  time: 6 s\n",
      "neibors: 6  ->  score: 0.60558  <-  time: 8 s\n",
      "neibors: 7  ->  score: 0.59052  <-  time: 6 s\n",
      "neibors: 8  ->  score: 0.57470  <-  time: 8 s\n",
      "\n",
      "neibor: 6\n",
      "prediction precision rate: 0.59000\n",
      "Wall time: 47 s\n"
     ]
    }
   ],
   "source": [
    "%%time\n",
    "# KNN & LMNN metric GridSearchSV less\n",
    "\n",
    "# LMNN metric\n",
    "#https://pylmnn.readthedocs.io/en/stable/api.html#module-pylmnn.lmnn\n",
    "\n",
    "scores=[]\n",
    "# loop k from 1 to 9, and get cross validation score of each K value\n",
    "k_test, n_components, max_iter = 1, X.shape[1], 10\n",
    "\n",
    "for k in range(1,9):\n",
    "    start_time = timeit.default_timer()\n",
    "    # Instantiate the metric learner\n",
    "    lmnn = LMNN(n_neighbors=k, max_iter=max_iter, n_components=n_components)\n",
    "    # Train the metric learner\n",
    "    lmnn.fit(X_train, y_train)\n",
    "    # Fit the nearest neighbors classifier\n",
    "    knn = KNeighborsClassifier(n_neighbors=k_test, algorithm='kd_tree', metric='chebyshev', weights='uniform')\n",
    "    knn.fit(lmnn.transform(X_train), y_train)\n",
    "    score_val=cross_val_score(knn,lmnn.transform(X_train),y_train,scoring='accuracy',cv=5)\n",
    "    score_mean=score_val.mean()\n",
    "    scores.append(score_mean)\n",
    "    \n",
    "    end_time = timeit.default_timer() - start_time\n",
    "    \n",
    "    print(f'neibors: {k}  ->  score: {score_mean:.5f}  <-  time: {end_time:.0f} s')\n",
    "\n",
    "# KNN model \n",
    "\n",
    "# get index of maxium score along axis, default axis=0 for 1 dimensional array\n",
    "best_k=np.argmax(scores)+1\n",
    "print('\\nneibor:',best_k)\n",
    "# Instantiate the metric learner\n",
    "lmnn = LMNN(n_neighbors=int(best_k), max_iter=max_iter, n_components=n_components)\n",
    "# Train the metric learner\n",
    "lmnn.fit(X_train, y_train)\n",
    "# generate KNN model\n",
    "knn=KNeighborsClassifier(n_neighbors=best_k)\n",
    "# fit with train data set\n",
    "knn.fit(lmnn.transform(X_train), y_train)\n",
    "# get Modes presicion rate using test set\n",
    "print(f'prediction precision rate: {knn.score(lmnn.transform(X_test),y_test):.5f}')"
   ]
  },
  {
   "cell_type": "code",
   "execution_count": 44,
   "metadata": {
    "scrolled": false
   },
   "outputs": [
    {
     "name": "stdout",
     "output_type": "stream",
     "text": [
      "\n",
      "evalueted paremetrs SVC:  {'C': 1, 'gamma': 0.3775862068965517}\n",
      "prediction precision rate: 0.56500 \n",
      "\n",
      "Train scores: \n",
      "\n",
      "accuracy_score = 0.56500\n",
      "precision_score = 0.33886\n",
      "recall_score = 0.25505\n",
      "f1_score = 0.26192 \n",
      "\n",
      "Wall time: 2min 24s\n"
     ]
    },
    {
     "name": "stderr",
     "output_type": "stream",
     "text": [
      "C:\\ProgramData\\Anaconda3\\lib\\site-packages\\sklearn\\metrics\\classification.py:1143: UndefinedMetricWarning: Precision is ill-defined and being set to 0.0 in labels with no predicted samples.\n",
      "  'precision', 'predicted', average, warn_for)\n",
      "C:\\ProgramData\\Anaconda3\\lib\\site-packages\\sklearn\\metrics\\classification.py:1143: UndefinedMetricWarning: F-score is ill-defined and being set to 0.0 in labels with no predicted samples.\n",
      "  'precision', 'predicted', average, warn_for)\n"
     ]
    }
   ],
   "source": [
    "%%time\n",
    "# SVC model GridSearchSV\n",
    "\n",
    "gamma_aray = np.linspace(0.35, 0.55, 30).tolist()\n",
    "parameters_svc = {'gamma':gamma_aray, 'C':[1,10]}\n",
    "svc = SVC()\n",
    "clf = GridSearchCV(svc, parameters_svc, cv=5)\n",
    "clf.fit(X_train, y_train);\n",
    "\n",
    "print('\\nevalueted paremetrs SVC: ',clf.best_params_)\n",
    "print(f'prediction precision rate: {clf.score(X_test,y_test):.5f} \\n')\n",
    "\n",
    "y_pred = clf.predict(X_test)\n",
    "\n",
    "print('Train scores: \\n')\n",
    "print(f'accuracy_score = {accuracy_score(y_test, y_pred):.5f}')\n",
    "print(f'precision_score = {precision_score(y_test, y_pred, average=\"macro\"):.5f}')\n",
    "print(f'recall_score = {recall_score(y_test, y_pred, average=\"macro\"):.5f}')\n",
    "print(f'f1_score = {f1_score(y_test, y_pred, average=\"macro\"):.5f} \\n')"
   ]
  },
  {
   "cell_type": "code",
   "execution_count": 41,
   "metadata": {},
   "outputs": [
    {
     "name": "stdout",
     "output_type": "stream",
     "text": [
      "prediction precision rate: 0.56500 \n",
      "\n",
      "Train scores: \n",
      "\n",
      "accuracy_score = 0.56500\n",
      "precision_score = 0.33951\n",
      "recall_score = 0.24890\n",
      "f1_score = 0.25092 \n",
      "\n",
      "Wall time: 626 ms\n"
     ]
    },
    {
     "name": "stderr",
     "output_type": "stream",
     "text": [
      "C:\\ProgramData\\Anaconda3\\lib\\site-packages\\sklearn\\metrics\\classification.py:1143: UndefinedMetricWarning: Precision is ill-defined and being set to 0.0 in labels with no predicted samples.\n",
      "  'precision', 'predicted', average, warn_for)\n",
      "C:\\ProgramData\\Anaconda3\\lib\\site-packages\\sklearn\\metrics\\classification.py:1143: UndefinedMetricWarning: F-score is ill-defined and being set to 0.0 in labels with no predicted samples.\n",
      "  'precision', 'predicted', average, warn_for)\n"
     ]
    }
   ],
   "source": [
    "%%time\n",
    "# SVC model GridSearchSV less\n",
    "\n",
    "# The implementation is based on libsvm. \n",
    "# The fit time complexity is more than quadratic with the number of samples \n",
    "# which makes it hard to scale to dataset with more than a couple of 10000 samples.\n",
    "\n",
    "clf = SVC(gamma=0.53, C=1)\n",
    "clf.fit(X_train, y_train)\n",
    "print(f'prediction precision rate: {clf.score(X_test,y_test):.5f} \\n')\n",
    "\n",
    "y_pred = clf.predict(X_test)\n",
    "\n",
    "print('Train scores: \\n')\n",
    "print(f'accuracy_score = {accuracy_score(y_test, y_pred):.5f}')\n",
    "print(f'precision_score = {precision_score(y_test, y_pred, average=\"macro\"):.5f}')\n",
    "print(f'recall_score = {recall_score(y_test, y_pred, average=\"macro\"):.5f}')\n",
    "print(f'f1_score = {f1_score(y_test, y_pred, average=\"macro\"):.5f} \\n')\n",
    "#print('roc_auc_score = ', roc_auc_score(y_train, y_pred))"
   ]
  },
  {
   "cell_type": "code",
   "execution_count": 11,
   "metadata": {},
   "outputs": [
    {
     "name": "stdout",
     "output_type": "stream",
     "text": [
      "\n",
      "evalueted paremetrs ENN:  {'distance_function': CPUDispatcher(<function euclidean at 0x000000000BA2CC80>), 'k': 1}\n",
      "\n",
      " Model ENN: \n",
      " Train scores: \n",
      "\n",
      " accuracy_score = 0.52000\n",
      " precision_score = 0.28674\n",
      " recall_score = 0.31960\n",
      " f1_score = 0.29066 \n",
      "\n",
      "Wall time: 44.5 s\n"
     ]
    }
   ],
   "source": [
    "%%time\n",
    "# ENN model GridSearchSV\n",
    "# https://github.com/timo-stoettner/ENN/blob/master/README.md\n",
    "# article https://mlbootcamp.ru/article/tutorial/\n",
    "\n",
    "# optimized function for euclidean metric in ENN\n",
    "def euclidean(x,y):   \n",
    "    return np.sqrt(np.sum((x-y)**2))\n",
    "\n",
    "optimized_euclidean = autojit(euclidean)\n",
    "\n",
    "k_array = list(range(1,3))\n",
    "parameters_enn = {'k':k_array, 'distance_function':[optimized_euclidean]}\n",
    "enn = ENN()\n",
    "clf = GridSearchCV(enn, parameters_enn, cv=5)\n",
    "clf.fit(X_train, y_train)\n",
    "print('\\nevalueted paremetrs ENN: ',clf.best_params_)\n",
    "\n",
    "y_pred = clf.predict(X_test)\n",
    "\n",
    "print('\\n Model ENN: ')\n",
    "print(' Train scores: \\n')\n",
    "print(f' accuracy_score = {accuracy_score(y_test, y_pred):.5f}')\n",
    "print(f' precision_score = {precision_score(y_test, y_pred, average=\"macro\"):.5f}')\n",
    "print(f' recall_score = {recall_score(y_test, y_pred, average=\"macro\"):.5f}')\n",
    "print(f' f1_score = {f1_score(y_test, y_pred, average=\"macro\"):.5f} \\n')"
   ]
  },
  {
   "cell_type": "code",
   "execution_count": 12,
   "metadata": {},
   "outputs": [
    {
     "name": "stdout",
     "output_type": "stream",
     "text": [
      "\n",
      " Model ENN: \n",
      " Train scores: \n",
      "\n",
      " accuracy_score = 0.52000\n",
      " precision_score = 0.28674\n",
      " recall_score = 0.31960\n",
      " f1_score = 0.29066 \n",
      "\n",
      "Wall time: 1.8 s\n"
     ]
    }
   ],
   "source": [
    "%%time\n",
    "# ENN model  GridSearchSV less\n",
    "# https://github.com/timo-stoettner/ENN/blob/master/README.md\n",
    "# article https://mlbootcamp.ru/article/tutorial/\n",
    "\n",
    "clf = ENN(k=1, distance_function=optimized_euclidean)\n",
    "clf.fit(X_train, y_train)\n",
    "y_pred = clf.predict(X_test)\n",
    "\n",
    "print('\\n Model ENN: ')\n",
    "print(' Train scores: \\n')\n",
    "print(f' accuracy_score = {accuracy_score(y_test, y_pred):.5f}')\n",
    "print(f' precision_score = {precision_score(y_test, y_pred, average=\"macro\"):.5f}')\n",
    "print(f' recall_score = {recall_score(y_test, y_pred, average=\"macro\"):.5f}')\n",
    "print(f' f1_score = {f1_score(y_test, y_pred, average=\"macro\"):.5f} \\n')"
   ]
  },
  {
   "cell_type": "code",
   "execution_count": 13,
   "metadata": {},
   "outputs": [
    {
     "name": "stdout",
     "output_type": "stream",
     "text": [
      "df: (1599, 12)  -->>  balanced df: (3898, 12)\n"
     ]
    }
   ],
   "source": [
    "# Scoring improvement\n",
    "\n",
    "# Get balanced sample by oversampling\n",
    "def balanced_koef(serie, element):\n",
    "    '''evaluation multiply koefficient'''\n",
    "    return (serie.max() // serie[element])\n",
    "\n",
    "# balancing algorytm - primitive upsampling \n",
    "\n",
    "aray_df = []\n",
    "for i in type.index:\n",
    "    \n",
    "    df_target = df[df['quality'] == i]\n",
    "    \n",
    "#     if balanced_koef(type, i) != 0:\n",
    "#         df_target = pd.concat([df_target] * balanced_koef(type, i))\n",
    "    df_target = pd.concat([df_target] * balanced_koef(type, i))\n",
    "    aray_df.append(df_target)\n",
    "\n",
    "df_balanced = pd.concat(aray_df)\n",
    "\n",
    "print(f'df: {df.shape}  -->>  balanced df: {df_balanced.shape}')"
   ]
  },
  {
   "cell_type": "code",
   "execution_count": 14,
   "metadata": {},
   "outputs": [
    {
     "data": {
      "image/png": "[encoded data removed]",
      "text/plain": [
       "<Figure size 432x288 with 1 Axes>"
      ]
     },
     "metadata": {
      "needs_background": "light"
     },
     "output_type": "display_data"
    }
   ],
   "source": [
    "# Count balances type in dataset\n",
    "type_balanced=df_balanced['quality'].groupby(df_balanced['quality']).count()\n",
    "type_balanced.plot('bar');\n",
    "df_balanced = shuffle(df_balanced)"
   ]
  },
  {
   "cell_type": "code",
   "execution_count": 15,
   "metadata": {},
   "outputs": [],
   "source": [
    "# Balanced dataframe\n",
    "\n",
    "# df.columns is column labels property\n",
    "features=df_balanced.columns[:-1].tolist()\n",
    "X = df_balanced[features].values\n",
    "y = df_balanced['quality']\n",
    "\n",
    "X_train,X_test,y_train,y_test=train_test_split(X,y,test_size=0.25,random_state=1)\n",
    "\n",
    "# set y to arrays\n",
    "y_train = y_train.values\n",
    "y_test = y_test.values"
   ]
  },
  {
   "cell_type": "code",
   "execution_count": 56,
   "metadata": {},
   "outputs": [
    {
     "name": "stdout",
     "output_type": "stream",
     "text": [
      "best score: 0.856  nieghbor: 1\n",
      "prediction precision rate: 0.86564\n",
      "Wall time: 45.4 s\n"
     ]
    }
   ],
   "source": [
    "%%time\n",
    "# KNN && Gridsearch\n",
    "n_neighbors_array = list(range(1,11))\n",
    "param_grid={'n_neighbors':n_neighbors_array, 'algorithm':['kd_tree','ball_tree'],\\\n",
    "            'metric':['chebyshev','manhattan','minkowski'], 'weights':['uniform','distance']}\n",
    "\n",
    "knn = KNeighborsClassifier()\n",
    "grid = GridSearchCV(knn, param_grid, cv=5, iid=True)\n",
    "\n",
    "grid.fit(X_train, y_train)\n",
    "\n",
    "best_neighbors = grid.best_params_.get('n_neighbors')\n",
    "\n",
    "print(f'best score: {grid.best_score_:.3f}  nieghbor: {best_neighbors}')\n",
    "print(f'prediction precision rate: {grid.score(X_test,y_test):.5f}')"
   ]
  },
  {
   "cell_type": "code",
   "execution_count": 16,
   "metadata": {},
   "outputs": [
    {
     "name": "stdout",
     "output_type": "stream",
     "text": [
      "\n",
      "evalueted paremetrs ENN:  {'distance_function': CPUDispatcher(<function euclidean at 0x000000000BA2CC80>), 'k': 1}\n",
      "\n",
      " Model ENN: \n",
      " Train scores: \n",
      "\n",
      " accuracy_score = 0.86462\n",
      " precision_score = 0.85787\n",
      " recall_score = 0.86495\n",
      " f1_score = 0.86069 \n",
      "\n",
      "Wall time: 3min 37s\n"
     ]
    }
   ],
   "source": [
    "%%time\n",
    "# ENN model balanced DF & GridSearchSV\n",
    "\n",
    "k_array = list(range(1,3))\n",
    "parameters_enn = {'k':k_array, 'distance_function':[optimized_euclidean]}\n",
    "enn = ENN()\n",
    "clf = GridSearchCV(enn, parameters_enn, cv=5)\n",
    "clf.fit(X_train, y_train)\n",
    "print('\\nevalueted paremetrs ENN: ',clf.best_params_)\n",
    "\n",
    "y_pred = clf.predict(X_test)\n",
    "\n",
    "print('\\n Model ENN: ')\n",
    "print(' Train scores: \\n')\n",
    "print(f' accuracy_score = {accuracy_score(y_test, y_pred):.5f}')\n",
    "print(f' precision_score = {precision_score(y_test, y_pred, average=\"macro\"):.5f}')\n",
    "print(f' recall_score = {recall_score(y_test, y_pred, average=\"macro\"):.5f}')\n",
    "print(f' f1_score = {f1_score(y_test, y_pred, average=\"macro\"):.5f} \\n')"
   ]
  },
  {
   "cell_type": "code",
   "execution_count": null,
   "metadata": {},
   "outputs": [],
   "source": []
  },
  {
   "cell_type": "code",
   "execution_count": null,
   "metadata": {},
   "outputs": [],
   "source": []
  },
  {
   "cell_type": "code",
   "execution_count": null,
   "metadata": {},
   "outputs": [],
   "source": []
  }
 ],
 "metadata": {
  "kernelspec": {
   "display_name": "Python 3",
   "language": "python",
   "name": "python3"
  },
  "language_info": {
   "codemirror_mode": {
    "name": "ipython",
    "version": 3
   },
   "file_extension": ".py",
   "mimetype": "text/x-python",
   "name": "python",
   "nbconvert_exporter": "python",
   "pygments_lexer": "ipython3",
   "version": "3.7.1"
  }
 },
 "nbformat": 4,
 "nbformat_minor": 2
}
