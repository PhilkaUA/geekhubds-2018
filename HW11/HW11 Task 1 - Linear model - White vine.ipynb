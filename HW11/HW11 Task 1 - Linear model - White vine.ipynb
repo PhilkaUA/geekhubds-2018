{
 "cells": [
  {
   "cell_type": "markdown",
   "metadata": {},
   "source": [
    "# HW11 Task 1 - Linear model\n",
    "# KNN, LMNN, SVM, ENN"
   ]
  },
  {
   "cell_type": "code",
   "execution_count": 1,
   "metadata": {},
   "outputs": [],
   "source": [
    "#install packets\n",
    "#!pip3 install pylmnn\n",
    "# !pip install enn"
   ]
  },
  {
   "cell_type": "code",
   "execution_count": 46,
   "metadata": {},
   "outputs": [
    {
     "name": "stdout",
     "output_type": "stream",
     "text": [
      "0.20.2\n"
     ]
    }
   ],
   "source": [
    "import numpy as np\n",
    "import pandas as pd\n",
    "import matplotlib\n",
    "import sklearn\n",
    "import time\n",
    "import timeit\n",
    "\n",
    "from enn.enn import ENN\n",
    "from numba.decorators import autojit\n",
    "from pylmnn import LargeMarginNearestNeighbor as LMNN\n",
    "from scipy.spatial.distance import euclidean, mahalanobis, minkowski, chebyshev\n",
    "from sklearn.neighbors import DistanceMetric\n",
    "from sklearn.model_selection import GridSearchCV\n",
    "from sklearn.metrics import accuracy_score, f1_score, precision_score, recall_score, roc_auc_score\n",
    "from sklearn.model_selection import train_test_split\n",
    "from sklearn.model_selection import cross_val_score\n",
    "from sklearn.neighbors import KNeighborsClassifier\n",
    "from sklearn.svm import SVC\n",
    "from sklearn.utils import shuffle\n",
    "\n",
    "\n",
    "%matplotlib inline\n",
    "# matplotlib.style.use('seaborn')\n",
    "\n",
    "print (sklearn.__version__)"
   ]
  },
  {
   "cell_type": "code",
   "execution_count": 2,
   "metadata": {},
   "outputs": [
    {
     "name": "stdout",
     "output_type": "stream",
     "text": [
      "\n",
      " shape:  (4898, 12)\n",
      "\n",
      " type:  quality\n",
      "3      20\n",
      "4     163\n",
      "5    1457\n",
      "6    2198\n",
      "7     880\n",
      "8     175\n",
      "9       5\n",
      "Name: quality, dtype: int64\n"
     ]
    }
   ],
   "source": [
    "# path to data\n",
    "path='winequality-white.csv'\n",
    "df=pd.read_csv(path, sep=\";\")\n",
    "df.head()\n",
    "# data size\n",
    "print('\\n shape: ',df.shape)\n",
    "\n",
    "# data info\n",
    "df.describe()\n",
    "\n",
    "# target count\n",
    "type=df['quality'].groupby(df['quality']).count()\n",
    "print('\\n type: ',type)"
   ]
  },
  {
   "cell_type": "code",
   "execution_count": 9,
   "metadata": {},
   "outputs": [
    {
     "data": {
      "text/html": [
       "<div>\n",
       "<style scoped>\n",
       "    .dataframe tbody tr th:only-of-type {\n",
       "        vertical-align: middle;\n",
       "    }\n",
       "\n",
       "    .dataframe tbody tr th {\n",
       "        vertical-align: top;\n",
       "    }\n",
       "\n",
       "    .dataframe thead th {\n",
       "        text-align: right;\n",
       "    }\n",
       "</style>\n",
       "<table border=\"1\" class=\"dataframe\">\n",
       "  <thead>\n",
       "    <tr style=\"text-align: right;\">\n",
       "      <th></th>\n",
       "      <th>fixed acidity</th>\n",
       "      <th>volatile acidity</th>\n",
       "      <th>citric acid</th>\n",
       "      <th>residual sugar</th>\n",
       "      <th>chlorides</th>\n",
       "      <th>free sulfur dioxide</th>\n",
       "      <th>total sulfur dioxide</th>\n",
       "      <th>density</th>\n",
       "      <th>pH</th>\n",
       "      <th>sulphates</th>\n",
       "      <th>alcohol</th>\n",
       "      <th>quality</th>\n",
       "    </tr>\n",
       "  </thead>\n",
       "  <tbody>\n",
       "    <tr>\n",
       "      <th>0</th>\n",
       "      <td>7.0</td>\n",
       "      <td>0.27</td>\n",
       "      <td>0.36</td>\n",
       "      <td>20.7</td>\n",
       "      <td>0.045</td>\n",
       "      <td>45.0</td>\n",
       "      <td>170.0</td>\n",
       "      <td>1.0010</td>\n",
       "      <td>3.00</td>\n",
       "      <td>0.45</td>\n",
       "      <td>8.8</td>\n",
       "      <td>6</td>\n",
       "    </tr>\n",
       "    <tr>\n",
       "      <th>1</th>\n",
       "      <td>6.3</td>\n",
       "      <td>0.30</td>\n",
       "      <td>0.34</td>\n",
       "      <td>1.6</td>\n",
       "      <td>0.049</td>\n",
       "      <td>14.0</td>\n",
       "      <td>132.0</td>\n",
       "      <td>0.9940</td>\n",
       "      <td>3.30</td>\n",
       "      <td>0.49</td>\n",
       "      <td>9.5</td>\n",
       "      <td>6</td>\n",
       "    </tr>\n",
       "    <tr>\n",
       "      <th>2</th>\n",
       "      <td>8.1</td>\n",
       "      <td>0.28</td>\n",
       "      <td>0.40</td>\n",
       "      <td>6.9</td>\n",
       "      <td>0.050</td>\n",
       "      <td>30.0</td>\n",
       "      <td>97.0</td>\n",
       "      <td>0.9951</td>\n",
       "      <td>3.26</td>\n",
       "      <td>0.44</td>\n",
       "      <td>10.1</td>\n",
       "      <td>6</td>\n",
       "    </tr>\n",
       "    <tr>\n",
       "      <th>3</th>\n",
       "      <td>7.2</td>\n",
       "      <td>0.23</td>\n",
       "      <td>0.32</td>\n",
       "      <td>8.5</td>\n",
       "      <td>0.058</td>\n",
       "      <td>47.0</td>\n",
       "      <td>186.0</td>\n",
       "      <td>0.9956</td>\n",
       "      <td>3.19</td>\n",
       "      <td>0.40</td>\n",
       "      <td>9.9</td>\n",
       "      <td>6</td>\n",
       "    </tr>\n",
       "    <tr>\n",
       "      <th>4</th>\n",
       "      <td>7.2</td>\n",
       "      <td>0.23</td>\n",
       "      <td>0.32</td>\n",
       "      <td>8.5</td>\n",
       "      <td>0.058</td>\n",
       "      <td>47.0</td>\n",
       "      <td>186.0</td>\n",
       "      <td>0.9956</td>\n",
       "      <td>3.19</td>\n",
       "      <td>0.40</td>\n",
       "      <td>9.9</td>\n",
       "      <td>6</td>\n",
       "    </tr>\n",
       "  </tbody>\n",
       "</table>\n",
       "</div>"
      ],
      "text/plain": [
       "   fixed acidity  volatile acidity  citric acid  residual sugar  chlorides  \\\n",
       "0            7.0              0.27         0.36            20.7      0.045   \n",
       "1            6.3              0.30         0.34             1.6      0.049   \n",
       "2            8.1              0.28         0.40             6.9      0.050   \n",
       "3            7.2              0.23         0.32             8.5      0.058   \n",
       "4            7.2              0.23         0.32             8.5      0.058   \n",
       "\n",
       "   free sulfur dioxide  total sulfur dioxide  density    pH  sulphates  \\\n",
       "0                 45.0                 170.0   1.0010  3.00       0.45   \n",
       "1                 14.0                 132.0   0.9940  3.30       0.49   \n",
       "2                 30.0                  97.0   0.9951  3.26       0.44   \n",
       "3                 47.0                 186.0   0.9956  3.19       0.40   \n",
       "4                 47.0                 186.0   0.9956  3.19       0.40   \n",
       "\n",
       "   alcohol  quality  \n",
       "0      8.8        6  \n",
       "1      9.5        6  \n",
       "2     10.1        6  \n",
       "3      9.9        6  \n",
       "4      9.9        6  "
      ]
     },
     "execution_count": 9,
     "metadata": {},
     "output_type": "execute_result"
    }
   ],
   "source": [
    "df.head()"
   ]
  },
  {
   "cell_type": "code",
   "execution_count": 11,
   "metadata": {},
   "outputs": [
    {
     "data": {
      "image/png": "[encoded data removed]",
      "text/plain": [
       "<Figure size 432x288 with 1 Axes>"
      ]
     },
     "metadata": {
      "needs_background": "light"
     },
     "output_type": "display_data"
    }
   ],
   "source": [
    "# count target plot\n",
    "type.plot('bar');"
   ]
  },
  {
   "cell_type": "code",
   "execution_count": 12,
   "metadata": {},
   "outputs": [],
   "source": [
    "# input data\n",
    "\n",
    "# get column titles except the last column\n",
    "features=df.columns[:-1].tolist()\n",
    "\n",
    "# get data set features\n",
    "X=df[features].values\n",
    "# get labels\n",
    "y=df['quality'].values\n",
    "\n",
    "# split data to train data set and test data set\n",
    "X_train,X_test,y_train,y_test=train_test_split(X,y,test_size=0.25,random_state=1)"
   ]
  },
  {
   "cell_type": "code",
   "execution_count": 7,
   "metadata": {},
   "outputs": [
    {
     "name": "stdout",
     "output_type": "stream",
     "text": [
      "\n",
      "\n",
      " We used kd_tree - sorting alhorytm, manhattan metric, with uniform weights, its a compromise on accuracy and speed \n",
      "\n",
      "\n",
      " For result KNN alhorytm we used chebyshev metric, that increase score for 0.2 points \n",
      "\n",
      "\n",
      "neibors: 1 score: 0.552\n",
      "neibors: 2 score: 0.481\n",
      "neibors: 3 score: 0.453\n",
      "neibors: 4 score: 0.469\n",
      "neibors: 5 score: 0.460\n",
      "neibors: 6 score: 0.472\n",
      "neibors: 7 score: 0.467\n",
      "neibors: 8 score: 0.465\n",
      "neibors: 9 score: 0.458\n",
      "neibors: 10 score: 0.462\n",
      "neibors: 11 score: 0.467\n",
      "neibors: 12 score: 0.461\n",
      "neibors: 13 score: 0.463\n",
      "neibors: 14 score: 0.467\n",
      "neibors: 15 score: 0.469\n",
      "neibors: 16 score: 0.462\n",
      "neibors: 17 score: 0.460\n",
      "neibors: 18 score: 0.461\n",
      "neibors: 19 score: 0.463\n",
      "neibors: 20 score: 0.463\n",
      "neibors: 21 score: 0.468\n",
      "neibors: 22 score: 0.468\n",
      "neibors: 23 score: 0.468\n",
      "neibors: 24 score: 0.467\n",
      "neibors: 25 score: 0.467\n",
      "neibors: 26 score: 0.465\n",
      "neibors: 27 score: 0.465\n",
      "neibors: 28 score: 0.471\n",
      "neibors: 29 score: 0.470\n",
      "neibors: 30 score: 0.467\n",
      "\n",
      "neibor: 1\n",
      "prediction precision rate: 0.58204\n",
      "Wall time: 4.01 s\n"
     ]
    }
   ],
   "source": [
    "%%time\n",
    "# KNN\n",
    "# https://scikit-learn.org/stable/modules/generated/sklearn.neighbors.KNeighborsClassifier.html\n",
    "# https://scikit-learn.org/stable/modules/generated/sklearn.neighbors.DistanceMetric.html\n",
    "\n",
    "print('\\n\\n We used kd_tree - sorting alhorytm, manhattan metric, with uniform weights, \\\n",
    "its a compromise on accuracy and speed \\n')\n",
    "\n",
    "print('\\n For result KNN alhorytm we used chebyshev metric, that increase score for 0.2 points \\n\\n')\n",
    "\n",
    "\n",
    "# store scores of KNN model by K\n",
    "scores=[]\n",
    "\n",
    "# loop k from 1 to 8, and get cross validation score of each K value\n",
    "for k in range(1,31):\n",
    "    knn=KNeighborsClassifier(k,algorithm='kd_tree',metric='manhattan',weights='uniform')\n",
    "    score_val=cross_val_score(knn,X_train,y_train,scoring='accuracy',cv=5)\n",
    "    score_mean=score_val.mean()\n",
    "    print(f'neibors: {k} score: {score_mean:.3f}')\n",
    "    scores.append(score_mean)\n",
    "    \n",
    "# get index of maxium score along axis, default axis=0 for 1 dimensional array\n",
    "best_k=np.argmax(scores)+1\n",
    "print('\\nneibor:',best_k)\n",
    "# generate KNN model\n",
    "knn=KNeighborsClassifier(best_k,algorithm='kd_tree',metric='chebyshev',weights='uniform')\n",
    "# fit with train data set\n",
    "knn.fit(X_train,y_train)\n",
    "# get Modes presicion rate using test set\n",
    "print(f'prediction precision rate: {knn.score(X_test,y_test):.5f}')"
   ]
  },
  {
   "cell_type": "code",
   "execution_count": 8,
   "metadata": {},
   "outputs": [
    {
     "name": "stdout",
     "output_type": "stream",
     "text": [
      "\n",
      "\n",
      " For LMNN metric we used max_iter = 10 and k_test = 1 , that increase score for 0.2-0.3 points \n",
      "\n",
      " We used only to 5 neibors limit, because dataset is not balanced, later we ll fix that \n",
      "\n",
      " For result KNN alhorytm we used chebyshev metric, that increase score for 0.5-0.7 points \n",
      "\n",
      "\n",
      "neibors: 1  ->  score: 0.56871  <-  time: 5 s\n",
      "neibors: 2  ->  score: 0.55921  <-  time: 9 s\n",
      "neibors: 3  ->  score: 0.55701  <-  time: 14 s\n",
      "neibors: 4  ->  score: 0.54940  <-  time: 23 s\n",
      "\n",
      "neibor: 1\n",
      "prediction precision rate: 0.59347\n",
      "Wall time: 55.7 s\n"
     ]
    }
   ],
   "source": [
    "%%time\n",
    "# KNN & LMNN metric\n",
    "\n",
    "print('\\n\\n For LMNN metric we used max_iter = 10 and k_test = 1 , that increase score for 0.2-0.3 points \\n')\n",
    "print(' We used only to 5 neibors limit, because dataset is not balanced, later we ll fix that \\n')\n",
    "print(' For result KNN alhorytm we used chebyshev metric, that increase score for 0.5-0.7 points \\n\\n')\n",
    "\n",
    "# LMNN metric\n",
    "#https://pylmnn.readthedocs.io/en/stable/api.html#module-pylmnn.lmnn\n",
    "\n",
    "scores=[]\n",
    "# loop k from 1 to 8, and get cross validation score of each K value\n",
    "k_test, n_components, max_iter = 1, X.shape[1], 10\n",
    "\n",
    "for k in range(1,5):\n",
    "    start_time = timeit.default_timer()\n",
    "    # Instantiate the metric learner\n",
    "    lmnn = LMNN(n_neighbors=k, max_iter=max_iter, n_components=n_components)\n",
    "    # Train the metric learner\n",
    "    lmnn.fit(X_train, y_train)\n",
    "    # Fit the nearest neighbors classifier\n",
    "    knn = KNeighborsClassifier(n_neighbors=k_test, algorithm='kd_tree', metric='chebyshev', weights='uniform')\n",
    "    knn.fit(lmnn.transform(X_train), y_train)\n",
    "    score_val=cross_val_score(knn,lmnn.transform(X_train),y_train,scoring='accuracy',cv=5)\n",
    "    score_mean=score_val.mean()\n",
    "    scores.append(score_mean)\n",
    "    \n",
    "    end_time = timeit.default_timer() - start_time\n",
    "    \n",
    "    print(f'neibors: {k}  ->  score: {score_mean:.5f}  <-  time: {end_time:.0f} s')\n",
    "\n",
    "# KNN model \n",
    "\n",
    "# get index of maxium score along axis, default axis=0 for 1 dimensional array\n",
    "best_k=np.argmax(scores)+1\n",
    "print('\\nneibor:',best_k)\n",
    "# Instantiate the metric learner\n",
    "lmnn = LMNN(n_neighbors=int(best_k), max_iter=max_iter, n_components=n_components)\n",
    "# Train the metric learner\n",
    "lmnn.fit(X_train, y_train)\n",
    "# generate KNN model\n",
    "knn=KNeighborsClassifier(n_neighbors=best_k)\n",
    "# fit with train data set\n",
    "knn.fit(lmnn.transform(X_train), y_train)\n",
    "# get Modes presicion rate using test set\n",
    "print(f'prediction precision rate: {knn.score(lmnn.transform(X_test),y_test):.5f}')"
   ]
  },
  {
   "cell_type": "code",
   "execution_count": 9,
   "metadata": {},
   "outputs": [
    {
     "name": "stdout",
     "output_type": "stream",
     "text": [
      "\n",
      "\n",
      " For SVC alhorytm we used gamma=0.53, that increase score for 0.2 points \n",
      "\n",
      " accuracy_score precision_score and recall_score have more scores when we used gamma=0.53 \n",
      "\n",
      " Chanhing kernels by  ‘linear’, ‘poly’, ‘sigmoid’ doesnt icrease score, so we used default rbf \n",
      "\n",
      "\n",
      "prediction precision rate: 0.60163 \n",
      "\n",
      "SVC(C=1.0, cache_size=200, class_weight=None, coef0=0.0,\n",
      "  decision_function_shape='ovr', degree=3, gamma=0.53, kernel='rbf',\n",
      "  max_iter=-1, probability=False, random_state=None, shrinking=True,\n",
      "  tol=0.001, verbose=False)\n",
      "\n",
      "Train scores: \n",
      "\n",
      "accuracy_score = 0.60163\n",
      "precision_score = 0.55606\n",
      "recall_score = 0.32256\n",
      "f1_score = 0.35384 \n",
      "\n",
      "Wall time: 7.06 s\n"
     ]
    },
    {
     "name": "stderr",
     "output_type": "stream",
     "text": [
      "C:\\ProgramData\\Anaconda3\\lib\\site-packages\\sklearn\\metrics\\classification.py:1143: UndefinedMetricWarning: Precision is ill-defined and being set to 0.0 in labels with no predicted samples.\n",
      "  'precision', 'predicted', average, warn_for)\n",
      "C:\\ProgramData\\Anaconda3\\lib\\site-packages\\sklearn\\metrics\\classification.py:1143: UndefinedMetricWarning: F-score is ill-defined and being set to 0.0 in labels with no predicted samples.\n",
      "  'precision', 'predicted', average, warn_for)\n"
     ]
    }
   ],
   "source": [
    "%%time\n",
    "# SVC & SVM model\n",
    "# https://scikit-learn.org/stable/modules/generated/sklearn.svm.SVC.html\n",
    "# https://scikit-learn.org/stable/modules/svm.html#svm-classification\n",
    "\n",
    "# The implementation is based on libsvm. \n",
    "# The fit time complexity is more than quadratic with the number of samples \n",
    "# which makes it hard to scale to dataset with more than a couple of 10000 samples.\n",
    "\n",
    "print('\\n\\n For SVC alhorytm we used gamma=0.53, that increase score for 0.2 points \\n')\n",
    "print(' accuracy_score precision_score and recall_score have more scores when we used gamma=0.53 \\n')\n",
    "print(' Chanhing kernels by  ‘linear’, ‘poly’, ‘sigmoid’ doesnt icrease score, so we used default rbf \\n\\n')\n",
    "\n",
    "clf = SVC(gamma=0.53)\n",
    "clf.fit(X_train, y_train)\n",
    "print(f'prediction precision rate: {clf.score(X_test,y_test):.5f} \\n')\n",
    "\n",
    "y_pred = clf.predict(X_test)\n",
    "\n",
    "print(clf)\n",
    "print('\\nTrain scores: \\n')\n",
    "\n",
    "print(f'accuracy_score = {accuracy_score(y_test, y_pred):.5f}')\n",
    "print(f'precision_score = {precision_score(y_test, y_pred, average=\"macro\"):.5f}')\n",
    "print(f'recall_score = {recall_score(y_test, y_pred, average=\"macro\"):.5f}')\n",
    "print(f'f1_score = {f1_score(y_test, y_pred, average=\"macro\"):.5f} \\n')\n",
    "#print('roc_auc_score = ', roc_auc_score(y_train, y_pred))"
   ]
  },
  {
   "cell_type": "code",
   "execution_count": 47,
   "metadata": {
    "scrolled": false
   },
   "outputs": [
    {
     "name": "stdout",
     "output_type": "stream",
     "text": [
      "\n",
      "\n",
      " For ENN alhorytm we used k=2 neihgbors, that increase f1_score for 0.5 points \n",
      "\n",
      " accuracy_score precision_score and recall_score have more scores when we used k=2 \n",
      "\n",
      " Model ENN: \n",
      " ENN(distance_function=CPUDispatcher(<function euclidean at 0x000000000BABA488>),\n",
      "  k=2)\n",
      "\n",
      " Train scores: \n",
      "\n",
      " accuracy_score = 0.48735\n",
      " precision_score = 0.27808\n",
      " recall_score = 0.32162\n",
      " f1_score = 0.28744 \n",
      "\n",
      "Wall time: 14.5 s\n"
     ]
    },
    {
     "name": "stderr",
     "output_type": "stream",
     "text": [
      "C:\\ProgramData\\Anaconda3\\lib\\site-packages\\sklearn\\metrics\\classification.py:1145: UndefinedMetricWarning: Recall is ill-defined and being set to 0.0 in labels with no true samples.\n",
      "  'recall', 'true', average, warn_for)\n",
      "C:\\ProgramData\\Anaconda3\\lib\\site-packages\\sklearn\\metrics\\classification.py:1145: UndefinedMetricWarning: F-score is ill-defined and being set to 0.0 in labels with no true samples.\n",
      "  'recall', 'true', average, warn_for)\n"
     ]
    }
   ],
   "source": [
    "%%time\n",
    "# ENN model\n",
    "# https://github.com/timo-stoettner/ENN/blob/master/README.md\n",
    "# article https://mlbootcamp.ru/article/tutorial/\n",
    "\n",
    "# optimized function for euclidean metric in ENN\n",
    "def euclidean(x,y):   \n",
    "    return np.sqrt(np.sum((x-y)**2))\n",
    "\n",
    "optimized_euclidean = autojit(euclidean)\n",
    "\n",
    "print('\\n\\n For ENN alhorytm we used k=2 neihgbors, that increase f1_score for 0.5 points \\n')\n",
    "print(' accuracy_score precision_score and recall_score have more scores when we used k = 2 \\n')\n",
    "\n",
    "clf = ENN(k=2, distance_function = optimized_euclidean)\n",
    "clf.fit(X_train, y_train)\n",
    "y_pred = clf.predict(X_test)\n",
    "\n",
    "print(' Model ENN: \\n',clf)\n",
    "print('\\n Train scores: \\n')\n",
    "print(f' accuracy_score = {accuracy_score(y_test, y_pred):.5f}')\n",
    "print(f' precision_score = {precision_score(y_test, y_pred, average=\"macro\"):.5f}')\n",
    "print(f' recall_score = {recall_score(y_test, y_pred, average=\"macro\"):.5f}')\n",
    "print(f' f1_score = {f1_score(y_test, y_pred, average=\"macro\"):.5f} \\n')"
   ]
  },
  {
   "cell_type": "code",
   "execution_count": 19,
   "metadata": {},
   "outputs": [
    {
     "name": "stdout",
     "output_type": "stream",
     "text": [
      "df: (4898, 12)  -->>  balanced df: (14009, 12)\n"
     ]
    }
   ],
   "source": [
    "# Scoring improvement\n",
    "\n",
    "# Get balanced sample by oversampling\n",
    "def balanced_koef(serie, element):\n",
    "    '''evaluation multiply koefficient'''\n",
    "    return (serie.max() // serie[element])\n",
    "\n",
    "# balancing algorytm - primitive upsampling \n",
    "\n",
    "aray_df = []\n",
    "for i in type.index:\n",
    "    \n",
    "    df_target = df[df['quality'] == i]\n",
    "    \n",
    "#     if balanced_koef(type, i) != 0:\n",
    "#         df_target = pd.concat([df_target] * balanced_koef(type, i))\n",
    "    df_target = pd.concat([df_target] * balanced_koef(type, i))\n",
    "    aray_df.append(df_target)\n",
    "\n",
    "df_balanced = pd.concat(aray_df)\n",
    "\n",
    "print(f'df: {df.shape}  -->>  balanced df: {df_balanced.shape}')"
   ]
  },
  {
   "cell_type": "code",
   "execution_count": 20,
   "metadata": {},
   "outputs": [
    {
     "data": {
      "image/png": "[encoded data removed]",
      "text/plain": [
       "<Figure size 432x288 with 1 Axes>"
      ]
     },
     "metadata": {
      "needs_background": "light"
     },
     "output_type": "display_data"
    }
   ],
   "source": [
    "# Count balances type in dataset\n",
    "type_balanced=df_balanced['quality'].groupby(df_balanced['quality']).count()\n",
    "type_balanced.plot('bar');\n",
    "df_balanced = shuffle(df_balanced)"
   ]
  },
  {
   "cell_type": "code",
   "execution_count": 49,
   "metadata": {},
   "outputs": [],
   "source": [
    "# Balanced dataframe\n",
    "\n",
    "# df.columns is column labels property\n",
    "features=df_balanced.columns[:-1].tolist()\n",
    "X = df_balanced[features].values\n",
    "y = df_balanced['quality']\n",
    "\n",
    "X_train,X_test,y_train,y_test=train_test_split(X,y,test_size=0.25,random_state=1)\n",
    "\n",
    "# set y to arrays\n",
    "y_train = y_train.values\n",
    "y_test = y_test.values"
   ]
  },
  {
   "cell_type": "code",
   "execution_count": 52,
   "metadata": {},
   "outputs": [
    {
     "name": "stderr",
     "output_type": "stream",
     "text": [
      "C:\\ProgramData\\Anaconda3\\lib\\site-packages\\sklearn\\model_selection\\_split.py:2053: FutureWarning: You should specify a value for 'cv' instead of relying on the default value. The default value will change from 3 to 5 in version 0.22.\n",
      "  warnings.warn(CV_WARNING, FutureWarning)\n"
     ]
    },
    {
     "name": "stdout",
     "output_type": "stream",
     "text": [
      "best score: 0.851  nieghbor: 1\n",
      "prediction precision rate: 0.88438\n",
      "Wall time: 3min 4s\n"
     ]
    }
   ],
   "source": [
    "%%time\n",
    "# KNN && Gridsearch 1-variant\n",
    "n_neighbors_array = list(range(1,11))\n",
    "param_grid={'n_neighbors':n_neighbors_array, 'algorithm':['kd_tree','ball_tree'],\\\n",
    "            'metric':['chebyshev','manhattan','minkowski'], 'weights':['uniform','distance']}\n",
    "\n",
    "knn = KNeighborsClassifier()\n",
    "grid = GridSearchCV(knn, param_grid)\n",
    "\n",
    "grid.fit(X_train, y_train)\n",
    "\n",
    "print(f'best score: {grid.best_score_:.3f}  nieghbor: {grid.best_estimator_.n_neighbors}')\n",
    "print(f'prediction precision rate: {grid.score(X_test,y_test):.5f}')"
   ]
  },
  {
   "cell_type": "code",
   "execution_count": 53,
   "metadata": {
    "scrolled": false
   },
   "outputs": [
    {
     "name": "stdout",
     "output_type": "stream",
     "text": [
      "neibors: 1 score: 0.868\n",
      "neibors: 2 score: 0.817\n",
      "neibors: 3 score: 0.805\n",
      "neibors: 4 score: 0.797\n",
      "\n",
      "neibor: 1\n"
     ]
    },
    {
     "name": "stderr",
     "output_type": "stream",
     "text": [
      "C:\\ProgramData\\Anaconda3\\lib\\site-packages\\sklearn\\model_selection\\_split.py:2053: FutureWarning: You should specify a value for 'cv' instead of relying on the default value. The default value will change from 3 to 5 in version 0.22.\n",
      "  warnings.warn(CV_WARNING, FutureWarning)\n"
     ]
    },
    {
     "name": "stdout",
     "output_type": "stream",
     "text": [
      "prediction precision rate: 0.88438\n",
      "Wall time: 4.64 s\n"
     ]
    }
   ],
   "source": [
    "%%time\n",
    "# KNN 2-variant\n",
    "\n",
    "# store scores of KNN model by K\n",
    "scores=[]\n",
    "\n",
    "# loop k from 1 to 31, and get cross validation score of each K value\n",
    "for k in range(1,5):\n",
    "    knn=KNeighborsClassifier(k,algorithm='kd_tree',metric='chebyshev',weights='uniform')\n",
    "    score_val=cross_val_score(knn,X_train,y_train,scoring='accuracy',cv=10)\n",
    "    score_mean=score_val.mean()\n",
    "    print(f'neibors: {k} score: {score_mean:.3f}')\n",
    "    scores.append(score_mean)  \n",
    "    \n",
    "best_k=np.argmax(scores)+1\n",
    "print('\\nneibor:',best_k)\n",
    "# generate KNN model\n",
    "knn = KNeighborsClassifier(best_k)\n",
    "param_grid = {'algorithm' : ['kd_tree'],'metric':['chebyshev','manhattan','minkowski'],\\\n",
    "              'weights':['uniform','distance']}\n",
    "grid = GridSearchCV(knn, param_grid)\n",
    "\n",
    "# fit with train data set\n",
    "grid.fit(X_train,y_train)\n",
    "# get Modes presicion rate using test set\n",
    "print(f'prediction precision rate: {grid.score(X_test,y_test):.5f}')"
   ]
  },
  {
   "cell_type": "code",
   "execution_count": 53,
   "metadata": {},
   "outputs": [
    {
     "name": "stdout",
     "output_type": "stream",
     "text": [
      "\n",
      " For ENN alhorytm we used k=1 neihgbors, that return high value of scores \n",
      "\n",
      " Model ENN: \n",
      " ENN(distance_function=CPUDispatcher(<function euclidean at 0x000000000BABA488>),\n",
      "  k=1)\n",
      "\n",
      " Train scores: \n",
      "\n",
      " accuracy_score = 0.87953\n",
      " precision_score = 0.86237\n",
      " recall_score = 0.86772\n",
      " f1_score = 0.86440 \n",
      "\n",
      "Wall time: 1min 38s\n"
     ]
    }
   ],
   "source": [
    "%%time\n",
    "# ENN model\n",
    "# https://github.com/timo-stoettner/ENN/blob/master/README.md\n",
    "# article https://mlbootcamp.ru/article/tutorial/\n",
    "\n",
    "print('\\n For ENN alhorytm we used k=1 neihgbors, that return high value of scores \\n')\n",
    "\n",
    "clf = ENN(k=1, distance_function = optimized_euclidean)\n",
    "clf.fit(X_train, y_train)\n",
    "y_pred = clf.predict(X_test)\n",
    "\n",
    "print(' Model ENN: \\n',clf)\n",
    "print('\\n Train scores: \\n')\n",
    "print(f' accuracy_score = {accuracy_score(y_test, y_pred):.5f}')\n",
    "print(f' precision_score = {precision_score(y_test, y_pred, average=\"macro\"):.5f}')\n",
    "print(f' recall_score = {recall_score(y_test, y_pred, average=\"macro\"):.5f}')\n",
    "print(f' f1_score = {f1_score(y_test, y_pred, average=\"macro\"):.5f} \\n')"
   ]
  },
  {
   "cell_type": "code",
   "execution_count": null,
   "metadata": {},
   "outputs": [],
   "source": []
  },
  {
   "cell_type": "code",
   "execution_count": null,
   "metadata": {},
   "outputs": [],
   "source": []
  },
  {
   "cell_type": "code",
   "execution_count": null,
   "metadata": {},
   "outputs": [],
   "source": []
  },
  {
   "cell_type": "code",
   "execution_count": 15,
   "metadata": {},
   "outputs": [],
   "source": [
    "# with out grid\n",
    "\n",
    "# %%time\n",
    "# # KNN\n",
    "\n",
    "# # store scores of KNN model by K\n",
    "# scores=[]\n",
    "\n",
    "# # loop k from 1 to 8, and get cross validation score of each K value\n",
    "# for k in range(1,31):\n",
    "#     knn=KNeighborsClassifier(k,algorithm='kd_tree',metric='manhattan',weights='uniform')\n",
    "#     score_val=cross_val_score(knn,X_train,y_train,scoring='accuracy',cv=10)\n",
    "#     score_mean=score_val.mean()\n",
    "#     print(f'neibors: {k} score: {score_mean:.3f}')\n",
    "#     scores.append(score_mean)  \n",
    "    \n",
    "# best_k=np.argmax(scores)+1\n",
    "# print('\\nneibor:',best_k)\n",
    "# # generate KNN model\n",
    "# knn=KNeighborsClassifier(best_k,algorithm='kd_tree',metric='chebyshev',weights='uniform')\n",
    "# # fit with train data set\n",
    "# knn.fit(X_train,y_train)\n",
    "# # get Modes presicion rate using test set\n",
    "# print(f'prediction precision rate: {knn.score(X_test,y_test):.5f}')"
   ]
  },
  {
   "cell_type": "code",
   "execution_count": null,
   "metadata": {},
   "outputs": [],
   "source": [
    "# # Grid samples\n",
    "\n",
    "# n_neighbors_array = [1, 2, 3, 4, 5]\n",
    "# knn = KNeighborsClassifier()\n",
    "# grid = GridSearchCV(knn, param_grid={'n_neighbors': n_neighbors_array})\n",
    "# grid.fit(X_train, y_train)\n",
    "\n",
    "# best_cv_err = 1 - grid.best_score_\n",
    "# best_n_neighbors = grid.best_estimator_.n_neighbors\n",
    "# print(best_cv_err, best_n_neighbors)\n",
    "\n",
    "# clf = GridSearchCV(ENN(), {'k' : [1,5,7,8], \"distance_function\": [euclidean, mahalanobis]}) \n",
    "# clf.fit(X_train, y_train)\n",
    "# pred_y = clf.predict(X_test)"
   ]
  }
 ],
 "metadata": {
  "kernelspec": {
   "display_name": "Python 3",
   "language": "python",
   "name": "python3"
  },
  "language_info": {
   "codemirror_mode": {
    "name": "ipython",
    "version": 3
   },
   "file_extension": ".py",
   "mimetype": "text/x-python",
   "name": "python",
   "nbconvert_exporter": "python",
   "pygments_lexer": "ipython3",
   "version": "3.7.1"
  }
 },
 "nbformat": 4,
 "nbformat_minor": 2
}
