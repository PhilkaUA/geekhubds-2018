{
 "cells": [
  {
   "cell_type": "markdown",
   "metadata": {},
   "source": [
    "# HW 3:  Arabic - Rome numbers "
   ]
  },
  {
   "cell_type": "markdown",
   "metadata": {},
   "source": [
    "1. Написать программу для превода из арабских чисел в римские. Исходные данные: целое число от 1 до 3999. На выходе - строка"
   ]
  },
  {
   "cell_type": "code",
   "execution_count": 319,
   "metadata": {},
   "outputs": [],
   "source": [
    "# Arabic number\n",
    "n = 3895"
   ]
  },
  {
   "cell_type": "markdown",
   "metadata": {},
   "source": [
    "Method 1: Based on the tuple (Arabic / Latin) and commands div mod"
   ]
  },
  {
   "cell_type": "code",
   "execution_count": 320,
   "metadata": {},
   "outputs": [
    {
     "name": "stdout",
     "output_type": "stream",
     "text": [
      "MMMDCCCLXXXXV\n"
     ]
    }
   ],
   "source": [
    "# Rome number in char string\n",
    "latin_numbers = ['M', 'D', 'C', 'L', 'X', 'V', 'IV', 'I']\n",
    "# Arabic digits vs Rome\n",
    "arab_numbers = (1000, 500, 100, 50, 10, 5, 4, 1)\n",
    "\n",
    "# Connecting in tuples Rome&Arabic\n",
    "slovar = zip(arab_numbers, latin_numbers)\n",
    "#print(list(slovar))\n",
    "\n",
    "# div & mod\n",
    "# Recording thousands (hundreds, tens ...), and the remainder is transferred for the loop\n",
    "latin_number = '' # statring var\n",
    "number_4_for = n  # saving input number\n",
    "for i, j in slovar: \n",
    "    latin_number += number_4_for // i * j # div\n",
    "    number_4_for %= i # mod\n",
    "print(latin_number)"
   ]
  },
  {
   "cell_type": "markdown",
   "metadata": {},
   "source": [
    "Method 2: based on commands div mod - the algorithm is not mine, leave myself for an example"
   ]
  },
  {
   "cell_type": "code",
   "execution_count": null,
   "metadata": {},
   "outputs": [],
   "source": [
    "# Diffrent combinations of Rome numbers\n",
    "ones = [\"\",\"I\",\"II\",\"III\",\"IV\",\"V\",\"VI\",\"VII\",\"VIII\",\"IX\"]\n",
    "tens = [\"\",\"X\",\"XX\",\"XXX\",\"XL\",\"L\",\"LX\",\"LXX\",\"LXXX\",\"XC\"]\n",
    "hunds = [\"\",\"C\",\"CC\",\"CCC\",\"CD\",\"D\",\"DC\",\"DCC\",\"DCCC\",\"CM\"]\n",
    "thous = [\"\",\"M\",\"MM\",\"MMM\",\"MMMM\"]\n",
    "\n",
    "# Thousands, integer division\n",
    "t = thous[n // 1000]\n",
    "# Hundrets, перемещаем операнцию на сотни командой // и считаем их через остато от деления\n",
    "h = hunds[n // 100 % 10]\n",
    "# Tens\n",
    "te = tens[n // 10 % 10]\n",
    "# Ones\n",
    "o =  ones[n % 10]\n",
    "\n",
    "# Resalt\n",
    "print(t+h+te+o)"
   ]
  },
  {
   "cell_type": "markdown",
   "metadata": {},
   "source": [
    "Method 3: Based on the functools, the solution is not mine but still decided to leave. "
   ]
  },
  {
   "cell_type": "code",
   "execution_count": null,
   "metadata": {},
   "outputs": [],
   "source": [
    "import formatter, functools\n",
    "result_latin = functools.partial(formatter.AbstractFormatter.format_roman, None, 'I')\n",
    "result_latin(n)"
   ]
  },
  {
   "cell_type": "code",
   "execution_count": null,
   "metadata": {},
   "outputs": [],
   "source": []
  }
 ],
 "metadata": {
  "kernelspec": {
   "display_name": "Python 3",
   "language": "python",
   "name": "python3"
  },
  "language_info": {
   "codemirror_mode": {
    "name": "ipython",
    "version": 3
   },
   "file_extension": ".py",
   "mimetype": "text/x-python",
   "name": "python",
   "nbconvert_exporter": "python",
   "pygments_lexer": "ipython3",
   "version": "3.6.5"
  }
 },
 "nbformat": 4,
 "nbformat_minor": 2
}
