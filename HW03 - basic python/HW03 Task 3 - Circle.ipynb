{
 "cells": [
  {
   "cell_type": "markdown",
   "metadata": {},
   "source": [
    "# HW03 Task 3"
   ]
  },
  {
   "cell_type": "markdown",
   "metadata": {},
   "source": [
    "Через любые три точки, которые не лежат на одной линии, можно начертить только одну окружность. Даны координаты трех точек, но записаны они как строка:\n",
    "\n",
    "    \"(x1,y1),(x2,y2),(x3,y3)\"\n",
    "\n",
    "Где x1,y1,x2,y2,x3,y3 есть цифры.\n",
    "\n",
    "Вам необходимо найти окружность проходящую через данные точки и вернуть уравнение окружности. В прямоугольной системе координат (с осями X и Y), окружность с центром в координатах (x0,y0) и радиусом r будет описана следующим уравнением:\n",
    "\n",
    "    \"(x-x0)^2+(y-y0)^2=r^2\"\n",
    "\n",
    "Где x0,y0,r десятичные числа округленые до двух знаков. Удалите лишние нули и точку, если они не нужны. Для округления используйте стандартное математическое правило.\n",
    "Входные данные: Координаты, как строка (str, unicode).\n",
    "\n",
    "Выходные данные: Уравнение окружности, как строка (str, unicode).\n",
    "\n",
    "Данные точки не лежат на одной прямой.\n",
    "0 < xi, yi, r < 10"
   ]
  },
  {
   "cell_type": "code",
   "execution_count": 111,
   "metadata": {},
   "outputs": [],
   "source": [
    "#input libraries\n",
    "import numpy as np\n",
    "from sympy import *"
   ]
  },
  {
   "cell_type": "code",
   "execution_count": 195,
   "metadata": {},
   "outputs": [],
   "source": [
    "# input koordinates\n",
    "x1, y1 = 1, 3\n",
    "x2, y2 = 5, 4\n",
    "x3, y3 = 1, 2\n",
    "# form koordinates\n",
    "koord = [[x1, y1], [x2, y2], [x3, y3]]"
   ]
  },
  {
   "cell_type": "code",
   "execution_count": 196,
   "metadata": {},
   "outputs": [],
   "source": [
    "# Symbols variables\n",
    "symb = symbols('x, y, r', real=true)"
   ]
  },
  {
   "cell_type": "code",
   "execution_count": 290,
   "metadata": {},
   "outputs": [
    {
     "name": "stdout",
     "output_type": "stream",
     "text": [
      "[-r + (-x + 1.0)**2 + (-y + 3.0)**2, -r + (-x + 5.0)**2 + (-y + 4.0)**2, -r + (-x + 1.0)**2 + (-y + 2.0)**2]\n"
     ]
    }
   ],
   "source": [
    "# Equations\n",
    "exp = []\n",
    "for i in range(3):\n",
    "    exp.append(N((koord[i][0] - symb[0])**2 + (koord[i][1] - symb[1])**2 - symb[2])) \n",
    "print(exp)"
   ]
  },
  {
   "cell_type": "code",
   "execution_count": 291,
   "metadata": {},
   "outputs": [
    {
     "name": "stdout",
     "output_type": "stream",
     "text": [
      "x - 3.25,  y = 2.5,  r = 5.31\n"
     ]
    }
   ],
   "source": [
    "# Result of equations\n",
    "dgt_pnt = 2 \n",
    "ans = solve(exp, [symb[0], symb[1], symb[2]])\n",
    "print(f'x - {round(ans[0][0],dgt_pnt)},  y = {round(ans[0][1],dgt_pnt)},  r = {round(ans[0][2],dgt_pnt)}')"
   ]
  },
  {
   "cell_type": "code",
   "execution_count": 292,
   "metadata": {},
   "outputs": [
    {
     "name": "stdout",
     "output_type": "stream",
     "text": [
      "(x - 3.25)^2 + (y - 2.5)^2 = 28.22\n"
     ]
    }
   ],
   "source": [
    "# Cyrcle equation\n",
    "print(f'(x - {round(ans[0][0],dgt_pnt)})^2 + (y - {round(ans[0][1],dgt_pnt)})^2 = {round(ans[0][2]**2,dgt_pnt)}')\n"
   ]
  },
  {
   "cell_type": "code",
   "execution_count": null,
   "metadata": {},
   "outputs": [],
   "source": [
    "# Есть еще 1-н способ решения данной задачи, базируется на вписанных треугольниках если нужно напишу код впринципе там проще.\n"
   ]
  }
 ],
 "metadata": {
  "kernelspec": {
   "display_name": "Python 3",
   "language": "python",
   "name": "python3"
  },
  "language_info": {
   "codemirror_mode": {
    "name": "ipython",
    "version": 3
   },
   "file_extension": ".py",
   "mimetype": "text/x-python",
   "name": "python",
   "nbconvert_exporter": "python",
   "pygments_lexer": "ipython3",
   "version": "3.6.5"
  }
 },
 "nbformat": 4,
 "nbformat_minor": 2
}
