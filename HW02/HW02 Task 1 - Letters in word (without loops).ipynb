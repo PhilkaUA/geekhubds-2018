{
 "cells": [
  {
   "cell_type": "markdown",
   "metadata": {},
   "source": [
    "# ДЗ 2:\n",
    "1. Дана строка, содержащая текст со знаками препинания. Слова разделены пробелом. После знаков препинания пробел стоит всегда. Необходимо разбить строку на слова.\n",
    "- уровень 1: достаточно просто получить список слов, на которые можно разделить строку\n",
    "- уровень 2: удалить из этого списка все знаки препинания\n",
    "- уровень 3: оставить в списке только уникальные слова без знаков препинания (Слово, в котором первая буква большая и такое же слово, в котором первая буква маленькая считаем одинаковым: Все=все)\n",
    "Пример строки:\n",
    "\"Все йде, все минає і краю немає , \\n Куди ж воно ділось? відкіля взялось! \\n І дурень, і мудрий нічого не знає. \\n Живе... умирає... одно зацвіло , \\n А друге зав’яло, навіки зав’яло... \\n І листя пожовкле вітри рознесли.\"\n",
    "2. В чем разница между hashable и immutable"
   ]
  },
  {
   "cell_type": "markdown",
   "metadata": {},
   "source": [
    "# Уровень 1 команда .split"
   ]
  },
  {
   "cell_type": "code",
   "execution_count": 1,
   "metadata": {},
   "outputs": [],
   "source": [
    "# Вводим текст со знаками препинания\n",
    "text = \"Все йде, все минає і краю немає, \\n Куди ж воно ділось? відкіля взялось!\\n І дурень, і мудрий нічого не знає. \\n Живе... умирає... одно зацвіло, \\n А друге зав’яло, навіки зав’яло... \\n І листя пожовкле вітри рознесли.\""
   ]
  },
  {
   "cell_type": "code",
   "execution_count": 2,
   "metadata": {},
   "outputs": [],
   "source": [
    "# Выделяем слова с текса\n",
    "slova = text.split()\n",
    "# Вывод результата\n",
    "print(slova)"
   ]
  },
  {
   "cell_type": "markdown",
   "metadata": {},
   "source": [
    "# Уровень 2 команда .strip"
   ]
  },
  {
   "cell_type": "code",
   "execution_count": 3,
   "metadata": {},
   "outputs": [],
   "source": [
    "# Выделяем со слов ,\n",
    "koma_no = [i.strip(',') for i in slova]\n",
    "#print(koma_no)"
   ]
  },
  {
   "cell_type": "code",
   "execution_count": 4,
   "metadata": {},
   "outputs": [],
   "source": [
    "# Выделяем со слов . и ...\n",
    "tochka_no = [i.strip('.') for i in koma_no]\n",
    "#print(tochka_no)"
   ]
  },
  {
   "cell_type": "code",
   "execution_count": 5,
   "metadata": {},
   "outputs": [],
   "source": [
    "# Выделяем со слов ?\n",
    "vopros_no = [i.strip('?') for i in tochka_no]\n",
    "#print(vopros_no)"
   ]
  },
  {
   "cell_type": "code",
   "execution_count": 6,
   "metadata": {},
   "outputs": [],
   "source": [
    "# Выделяем со слов !\n",
    "voskl_no = [i.strip('!') for i in vopros_no]\n",
    "print(voskl_no)"
   ]
  },
  {
   "cell_type": "markdown",
   "metadata": {},
   "source": [
    "# Уровень 3 (способ 1) команды if, for, set, lower"
   ]
  },
  {
   "cell_type": "code",
   "execution_count": 7,
   "metadata": {},
   "outputs": [
    {
     "name": "stdout",
     "output_type": "stream",
     "text": [
      "[3, 5, 6, 7, 7]\n"
     ]
    }
   ],
   "source": [
    "# Определяем индекс ',' в слове - сдел как заготовку не относится к дз :)\n",
    "index_v_slove_koma_no_ = [i.index(',') for i in slova if i.count(',') == 1]\n",
    "print(index_v_slove_koma_no_)\n",
    "#print(slova)"
   ]
  },
  {
   "cell_type": "code",
   "execution_count": 8,
   "metadata": {},
   "outputs": [
    {
     "name": "stdout",
     "output_type": "stream",
     "text": [
      "['Все', 'все', 'минає', 'і', 'краю', 'немає,', 'ж', 'воно', 'ділось?', 'відкіля', 'взялось!', 'І', 'дурень,', 'і', 'нічого', 'не', 'знає.', 'Живе...', 'умирає...', 'одно', 'зацвіло,', 'А', 'друге', 'навіки', 'зав’яло...', 'І', 'пожовкле', 'вітри', 'рознесли.']\n"
     ]
    }
   ],
   "source": [
    "# Не основное решение через Del\n",
    "\n",
    "# Определяем индексы\n",
    "index_v_slove_koma_no = [i for i in enumerate(slova)]\n",
    "#print(index_v_slove_koma_no)\n",
    "\n",
    "# Клонируем слова, что б не повредить исходники\n",
    "slova_koma_del_ = slova.copy()\n",
    "\n",
    "# Удаляем слова с ','\n",
    "for i in range(len(slova_koma_del_)): # Тут, просто со списком не работает, требует целые числа для списка\n",
    "    if index_v_slove_koma_no[i][1].count(',') == 1:\n",
    "        del slova_koma_del_[index_v_slove_koma_no[i][0]]    \n",
    "print(slova_koma_del_)"
   ]
  },
  {
   "cell_type": "code",
   "execution_count": 9,
   "metadata": {},
   "outputs": [
    {
     "name": "stdout",
     "output_type": "stream",
     "text": [
      "['Все', 'йде,', 'все', 'минає', 'і', 'краю', 'немає,', 'Куди', 'ж', 'воно', 'ділось?', 'відкіля', 'взялось!', 'І', 'дурень,', 'і', 'мудрий', 'нічого', 'не', 'Живе...', 'умирає...', 'одно', 'зацвіло,', 'А', 'друге', 'зав’яло,', 'навіки', 'зав’яло...', 'І', 'листя', 'пожовкле', 'вітри']\n"
     ]
    }
   ],
   "source": [
    "# Основное решение через генерируемый список без элементов с ','\n",
    "slova_del = []\n",
    "[slova_del.append(slova[i]) for i, _ in enumerate(slova) if slova[i].count('.') != 1]\n",
    "#print(slova)\n",
    "print(slova_del)"
   ]
  },
  {
   "cell_type": "code",
   "execution_count": 10,
   "metadata": {},
   "outputs": [],
   "source": [
    "# Для неповторения себя, создаем функцию удаления слова с символом со списка\n",
    "# spisok_in - список char входящих переменных, symb - символ, по которому удалиться один из елементов списка - spisok_in\n",
    "def udalenie_slov_po_symb(spisok_in, symb):\n",
    "    spisok_out = []\n",
    "    [spisok_out.append(spisok_in[i]) for i, _ in enumerate(spisok_in) if spisok_in[i].count(symb) != 1]\n",
    "    return(spisok_out)"
   ]
  },
  {
   "cell_type": "code",
   "execution_count": 11,
   "metadata": {},
   "outputs": [],
   "source": [
    "# Удаляем слова с ,\n",
    "slova_koma_del = udalenie_slov_po_symb(slova, ',')\n",
    "#print(slova_koma_del)"
   ]
  },
  {
   "cell_type": "code",
   "execution_count": 12,
   "metadata": {},
   "outputs": [],
   "source": [
    "# Удаляем слова с .\n",
    "slova_tochka_del = udalenie_slov_po_symb(slova_koma_del, '.')\n",
    "#print(slova_tochka_del)"
   ]
  },
  {
   "cell_type": "code",
   "execution_count": 13,
   "metadata": {},
   "outputs": [],
   "source": [
    "# Удаляем слова с ...\n",
    "slova_tochky_del = udalenie_slov_po_symb(slova_tochka_del, '...')\n",
    "#print(slova_tochky_del)"
   ]
  },
  {
   "cell_type": "code",
   "execution_count": 14,
   "metadata": {},
   "outputs": [],
   "source": [
    "# Удаляем слова с !\n",
    "slova_voskl_del = udalenie_slov_po_symb(slova_tochky_del, '!')\n",
    "#print(slova_voskl_del)"
   ]
  },
  {
   "cell_type": "code",
   "execution_count": 15,
   "metadata": {},
   "outputs": [
    {
     "name": "stdout",
     "output_type": "stream",
     "text": [
      "['Все', 'все', 'минає', 'і', 'краю', 'Куди', 'ж', 'воно', 'відкіля', 'І', 'і', 'мудрий', 'нічого', 'не', 'одно', 'А', 'друге', 'навіки', 'І', 'листя', 'пожовкле', 'вітри']\n"
     ]
    }
   ],
   "source": [
    "# Удаляем слова с ?\n",
    "slova_vopros_del = udalenie_slov_po_symb(slova_voskl_del, '?')\n",
    "print(slova_vopros_del)"
   ]
  },
  {
   "cell_type": "code",
   "execution_count": 16,
   "metadata": {
    "scrolled": false
   },
   "outputs": [],
   "source": [
    "# Cписок симвлов для удаления с рядом стоящим (слева) словом и именна переменных куда запиштся результат удаления"
   ]
  },
  {
   "cell_type": "code",
   "execution_count": 17,
   "metadata": {},
   "outputs": [],
   "source": [
    "symbols = (',', '.', '...', '!', '?') # Позже сделають циклом с использованием itertools"
   ]
  },
  {
   "cell_type": "code",
   "execution_count": 4,
   "metadata": {},
   "outputs": [
    {
     "ename": "NameError",
     "evalue": "name 'slova_vopros_del' is not defined",
     "output_type": "error",
     "traceback": [
      "\u001b[1;31m---------------------------------------------------------------------------\u001b[0m",
      "\u001b[1;31mNameError\u001b[0m                                 Traceback (most recent call last)",
      "\u001b[1;32m<ipython-input-4-abadce14c333>\u001b[0m in \u001b[0;36m<module>\u001b[1;34m()\u001b[0m\n\u001b[0;32m      1\u001b[0m \u001b[1;31m# Convert the register\u001b[0m\u001b[1;33m\u001b[0m\u001b[1;33m\u001b[0m\u001b[0m\n\u001b[0;32m      2\u001b[0m \u001b[0mresult\u001b[0m \u001b[1;33m=\u001b[0m \u001b[1;33m[\u001b[0m\u001b[1;33m]\u001b[0m\u001b[1;33m;\u001b[0m\u001b[1;33m\u001b[0m\u001b[0m\n\u001b[1;32m----> 3\u001b[1;33m \u001b[1;33m[\u001b[0m\u001b[0mresult\u001b[0m\u001b[1;33m.\u001b[0m\u001b[0mappend\u001b[0m\u001b[1;33m(\u001b[0m\u001b[0mslova_vopros_del\u001b[0m\u001b[1;33m[\u001b[0m\u001b[0mi\u001b[0m\u001b[1;33m]\u001b[0m\u001b[1;33m.\u001b[0m\u001b[0mlower\u001b[0m\u001b[1;33m(\u001b[0m\u001b[1;33m)\u001b[0m\u001b[1;33m)\u001b[0m \u001b[1;32mfor\u001b[0m \u001b[0mi\u001b[0m\u001b[1;33m,\u001b[0m \u001b[0m_\u001b[0m \u001b[1;32min\u001b[0m \u001b[0menumerate\u001b[0m\u001b[1;33m(\u001b[0m\u001b[0mslova_vopros_del\u001b[0m\u001b[1;33m)\u001b[0m\u001b[1;33m]\u001b[0m\u001b[1;33m\u001b[0m\u001b[0m\n\u001b[0m\u001b[0;32m      4\u001b[0m \u001b[0mprint\u001b[0m\u001b[1;33m(\u001b[0m\u001b[0mresult\u001b[0m\u001b[1;33m)\u001b[0m\u001b[1;33m\u001b[0m\u001b[0m\n",
      "\u001b[1;31mNameError\u001b[0m: name 'slova_vopros_del' is not defined"
     ]
    }
   ],
   "source": [
    "# Преобразовываем регистр\n",
    "result = [];\n",
    "[result.append(slova_vopros_del[i].lower()) for i, _ in enumerate(slova_vopros_del)]\n",
    "print(result)"
   ]
  },
  {
   "cell_type": "code",
   "execution_count": 3,
   "metadata": {},
   "outputs": [
    {
     "name": "stdout",
     "output_type": "stream",
     "text": [
      "set()\n"
     ]
    }
   ],
   "source": [
    "# Выделяем уникальные слова\n",
    "result_all = set(result)\n",
    "# Вывод результата\n",
    "print(result_all)"
   ]
  },
  {
   "cell_type": "markdown",
   "metadata": {},
   "source": [
    "# Уровень 4"
   ]
  },
  {
   "cell_type": "raw",
   "metadata": {},
   "source": [
    "# убрать скобки и кавычки, которые примыкают к слову спереди или сзади (вместо скобок убрал тире)"
   ]
  },
  {
   "cell_type": "code",
   "execution_count": 530,
   "metadata": {},
   "outputs": [],
   "source": [
    "# Входной текст\n",
    "text2 = \"“Здоров, Еоле, пане-свату! Ой, як ся маєш, як живеш? — Сказала, як ввійшла у хату, Юнона. — Чи гостей ти ждеш?”\""
   ]
  },
  {
   "cell_type": "code",
   "execution_count": 532,
   "metadata": {},
   "outputs": [
    {
     "name": "stdout",
     "output_type": "stream",
     "text": [
      "['“Здоров,', 'Еоле,', 'пане-свату!', 'Ой,', 'як', 'ся', 'маєш,', 'як', 'живеш?', '—', 'Сказала,', 'як', 'ввійшла', 'у', 'хату,', 'Юнона.', '—', 'Чи', 'гостей', 'ти', 'ждеш?”']\n"
     ]
    }
   ],
   "source": [
    "# Выделяем слова с текса\n",
    "slova2 = text2.split()\n",
    "print(slova2)"
   ]
  },
  {
   "cell_type": "code",
   "execution_count": 533,
   "metadata": {},
   "outputs": [
    {
     "name": "stdout",
     "output_type": "stream",
     "text": [
      "['Здоров,', 'Еоле,', 'пане-свату!', 'Ой,', 'як', 'ся', 'маєш,', 'як', 'живеш?', '—', 'Сказала,', 'як', 'ввійшла', 'у', 'хату,', 'Юнона.', '—', 'Чи', 'гостей', 'ти', 'ждеш?”']\n"
     ]
    }
   ],
   "source": [
    "# Перезаписываем без левых кавычек\n",
    "kavychky_left = []\n",
    "[kavychky_left.append(slova2[i].lstrip(\"“\")) for i, _ in enumerate(slova2)]\n",
    "print(kavychky_left)"
   ]
  },
  {
   "cell_type": "code",
   "execution_count": 534,
   "metadata": {},
   "outputs": [
    {
     "name": "stdout",
     "output_type": "stream",
     "text": [
      "['Здоров,', 'Еоле,', 'пане-свату!', 'Ой,', 'як', 'ся', 'маєш,', 'як', 'живеш?', '—', 'Сказала,', 'як', 'ввійшла', 'у', 'хату,', 'Юнона.', '—', 'Чи', 'гостей', 'ти', 'ждеш?']\n"
     ]
    }
   ],
   "source": [
    "# Записываем слова и удаляем правые \"\n",
    "kavychky_right = []\n",
    "[kavychky_right.append(kavychky_left[i].rstrip(\"”\")) for i, _ in enumerate(kavychky_left)]\n",
    "print(kavychky_right)"
   ]
  },
  {
   "cell_type": "code",
   "execution_count": 24,
   "metadata": {},
   "outputs": [
    {
     "name": "stdout",
     "output_type": "stream",
     "text": [
      "['Здоров,', 'Еоле,', 'пане-свату!', 'Ой,', 'як', 'ся', 'маєш,', 'як', 'живеш?', '—', 'Сказала,', 'як', 'ввійшла', 'у', 'хату,', 'Юнона.', '—', 'Чи', 'гостей', 'ти', 'ждеш?']\n"
     ]
    }
   ],
   "source": [
    "# Выделяем со слов -\n",
    "slova_tire = [i.strip('-') for i in kavychky_right]\n",
    "print(slova_tire)"
   ]
  },
  {
   "cell_type": "code",
   "execution_count": 581,
   "metadata": {},
   "outputs": [
    {
     "name": "stdout",
     "output_type": "stream",
     "text": [
      "[['Здоров,'], ['Еоле,'], ['пане', 'свату!'], ['Ой,'], ['як'], ['ся'], ['маєш,'], ['як'], ['живеш?'], ['—'], ['Сказала,'], ['як'], ['ввійшла'], ['у'], ['хату,'], ['Юнона.'], ['—'], ['Чи'], ['гостей'], ['ти'], ['ждеш?']]\n"
     ]
    }
   ],
   "source": [
    "# Выделяем слова с дефисом\n",
    "slova_tire = []\n",
    "[slova_tire.append(kavychky_right[i].split('-')) for i, _ in enumerate(kavychky_right)]\n",
    "# Вывод результата\n",
    "print(slova_tire)"
   ]
  },
  {
   "cell_type": "code",
   "execution_count": 580,
   "metadata": {},
   "outputs": [],
   "source": [
    "#slova_all_last = [];\n",
    "#[slova_all_last.append(slova_tire[i]) for i, _ in enumerate(slova_tire) if len(slova_tire[i]) <= 1]\n",
    "#print(slova_all_last)"
   ]
  },
  {
   "cell_type": "code",
   "execution_count": 582,
   "metadata": {},
   "outputs": [
    {
     "name": "stdout",
     "output_type": "stream",
     "text": [
      "Здоров, Еоле, панесвату! Ой, як ся маєш, як живеш? — Сказала, як ввійшла у хату, Юнона. — Чи гостей ти ждеш?\n"
     ]
    }
   ],
   "source": [
    "# Обьеденяем буквы в слова может и не \"питонично\" но уже написал, в ТЗ не было жестких указаний что использовать\n",
    "slova_all_last = [];\n",
    "for j in range(len(slova_tire)):\n",
    "    tmp_i = '';\n",
    "    slova_all_tmp = [];\n",
    "    for i in range(len(slova_tire[j])):\n",
    "        tmp_i = tmp_i + slova_tire[j][i]\n",
    "        slova_all_tmp.append(tmp_i)\n",
    "    slova_all_last.append(slova_all_tmp[-1])\n",
    "# Выводим результат\n",
    "print(' '.join(map(str, slova_all_last)))"
   ]
  }
 ],
 "metadata": {
  "kernelspec": {
   "display_name": "Python 3",
   "language": "python",
   "name": "python3"
  },
  "language_info": {
   "codemirror_mode": {
    "name": "ipython",
    "version": 3
   },
   "file_extension": ".py",
   "mimetype": "text/x-python",
   "name": "python",
   "nbconvert_exporter": "python",
   "pygments_lexer": "ipython3",
   "version": "3.6.5"
  }
 },
 "nbformat": 4,
 "nbformat_minor": 2
}
