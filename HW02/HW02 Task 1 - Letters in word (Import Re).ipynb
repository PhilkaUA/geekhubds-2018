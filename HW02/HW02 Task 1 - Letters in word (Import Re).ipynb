{
 "cells": [
  {
   "cell_type": "markdown",
   "metadata": {},
   "source": [
    "# HW02 Task 1:\n",
    "1. Дана строка, содержащая текст со знаками препинания. Слова разделены пробелом. После знаков препинания пробел стоит всегда. Необходимо разбить строку на слова.\n",
    "- уровень 1: достаточно просто получить список слов, на которые можно разделить строку\n",
    "- уровень 2: удалить из этого списка все знаки препинания\n",
    "- уровень 3: оставить в списке только уникальные слова без знаков препинания (Слово, в котором первая буква большая и такое же слово, в котором первая буква маленькая считаем одинаковым: Все=все)\n",
    "- уровень 4: убрать скобки и кавычки, которые примыкают к слову спереди или сзади\n",
    "Пример строки:\n",
    "\n",
    "Пример строки:\n",
    "\"Все йде, все минає і краю немає , \\n Куди ж воно ділось? відкіля взялось! \\n І дурень, і мудрий нічого не знає. \\n Живе... умирає... одно зацвіло , \\n А друге зав’яло, навіки зав’яло... \\n І листя пожовкле вітри рознесли.\""
   ]
  },
  {
   "cell_type": "markdown",
   "metadata": {
    "raw_mimetype": "text/markdown"
   },
   "source": [
    "# Level 1 .split"
   ]
  },
  {
   "cell_type": "code",
   "execution_count": 50,
   "metadata": {},
   "outputs": [],
   "source": [
    "# Input text\n",
    "text = \"Все йде, все минає і краю немає, \\n Куди ж воно ділось? відкіля взялось!\\n І дурень, і мудрий нічого не знає. \\n Живе... умирає... одно зацвіло, \\n А друге зав’яло, навіки зав’яло... \\n І листя пожовкле вітри рознесли.\""
   ]
  },
  {
   "cell_type": "code",
   "execution_count": 49,
   "metadata": {},
   "outputs": [
    {
     "name": "stdout",
     "output_type": "stream",
     "text": [
      "['Все', 'йде,', 'все', 'минає', 'і', 'краю', 'немає,', 'Куди', 'ж', 'воно', 'ділось?', 'відкіля', 'взялось!', 'І', 'дурень,', 'і', 'мудрий', 'нічого', 'не', 'знає.', 'Живе...', 'умирає...', 'одно', 'зацвіло,', 'А', 'друге', 'зав’яло,', 'навіки', 'зав’яло...', 'І', 'листя', 'пожовкле', 'вітри', 'рознесли.']\n"
     ]
    }
   ],
   "source": [
    "# Words from the text\n",
    "slova = text.split()\n",
    "# Result\n",
    "print(slova)"
   ]
  },
  {
   "cell_type": "markdown",
   "metadata": {},
   "source": [
    "# Level 2 .join  import re"
   ]
  },
  {
   "cell_type": "code",
   "execution_count": 58,
   "metadata": {},
   "outputs": [
    {
     "name": "stdout",
     "output_type": "stream",
     "text": [
      "Все йде все минає і краю немає \n",
      " Куди ж воно ділось відкіля взялось\n",
      " І дурень і мудрий нічого не знає \n",
      " Живе умирає одно зацвіло \n",
      " А друге зав’яло навіки зав’яло \n",
      " І листя пожовкле вітри рознесли\n"
     ]
    }
   ],
   "source": [
    "# using .join\n",
    "\n",
    "# Punctuation marks\n",
    "marks_to_delete = ',!?;:.'\n",
    "#Detiting marks with .join\n",
    "no_marks = ''.join( i for i in text if i not in marks_to_delete )\n",
    "print(no_marks)"
   ]
  },
  {
   "cell_type": "code",
   "execution_count": 90,
   "metadata": {},
   "outputs": [
    {
     "name": "stdout",
     "output_type": "stream",
     "text": [
      "Все йде  все минає і краю немає  \n",
      " Куди ж воно ділось  відкіля взялось \n",
      " І дурень  і мудрий нічого не знає  \n",
      " Живе    умирає    одно зацвіло  \n",
      " А друге зав’яло  навіки зав’яло    \n",
      " І листя пожовкле вітри рознесли \n"
     ]
    }
   ],
   "source": [
    "# using re library\n",
    "import re\n",
    "no_marks_re = re.sub(r'[?.,!]',r' ',text)\n",
    "print(no_marks_re)"
   ]
  },
  {
   "cell_type": "code",
   "execution_count": 60,
   "metadata": {},
   "outputs": [
    {
     "name": "stdout",
     "output_type": "stream",
     "text": [
      "Все йде все минає і краю немає \n",
      " Куди ж воно ділось відкіля взялось\n",
      " І дурень і мудрий нічого не знає \n",
      " Живе умирає одно зацвіло \n",
      " А друге зав’яло навіки зав’яло \n",
      " І листя пожовкле вітри рознесли\n"
     ]
    }
   ],
   "source": [
    "# using .replace and loop (for)\n",
    "no_marks_replace = text  \n",
    "for i in marks_to_delete:\n",
    "    no_marks_replace = no_marks_replace.replace(i,'')  \n",
    "print(no_marks_replace)"
   ]
  },
  {
   "cell_type": "code",
   "execution_count": null,
   "metadata": {},
   "outputs": [],
   "source": []
  },
  {
   "cell_type": "markdown",
   "metadata": {},
   "source": [
    "# Level 3"
   ]
  },
  {
   "cell_type": "code",
   "execution_count": 127,
   "metadata": {},
   "outputs": [],
   "source": [
    "# Create a function to delete a word with a symbol from the list\n",
    "# spisok_in - list of char input variables, symb - a symbol for which one of the list items is deleted in spisok_in\n",
    "def delete_word_symb(spisok_in, symb):\n",
    "    spisok_out = []\n",
    "    [spisok_out.append(spisok_in[i]) for i, _ in enumerate(spisok_in) if spisok_in[i].count(symb) != 1]\n",
    "    return(spisok_out)"
   ]
  },
  {
   "cell_type": "code",
   "execution_count": 144,
   "metadata": {},
   "outputs": [],
   "source": [
    "# List of symbols to delete\n",
    "symbols_to_delete = [',','.','...','!','?']"
   ]
  },
  {
   "cell_type": "code",
   "execution_count": 145,
   "metadata": {},
   "outputs": [
    {
     "name": "stdout",
     "output_type": "stream",
     "text": [
      "['Все', 'все', 'минає', 'і', 'краю', 'Куди', 'ж', 'воно', 'відкіля', 'І', 'і', 'мудрий', 'нічого', 'не', 'одно', 'А', 'друге', 'навіки', 'І', 'листя', 'пожовкле', 'вітри']\n"
     ]
    }
   ],
   "source": [
    "# Loop to delete word whith symbols\n",
    "no_word_and_symbols = slova\n",
    "for i in symbols_to_delete:\n",
    "    no_word_and_symbols = delete_word_symb(no_word_and_symbols, i)\n",
    "print(no_word_and_symbols)"
   ]
  },
  {
   "cell_type": "code",
   "execution_count": 153,
   "metadata": {},
   "outputs": [
    {
     "name": "stdout",
     "output_type": "stream",
     "text": [
      "['все', 'все', 'минає', 'і', 'краю', 'куди', 'ж', 'воно', 'відкіля', 'і', 'і', 'мудрий', 'нічого', 'не', 'одно', 'а', 'друге', 'навіки', 'і', 'листя', 'пожовкле', 'вітри']\n"
     ]
    }
   ],
   "source": [
    "# Convert register\n",
    "result = [];\n",
    "[result.append(no_word_and_symbols[i].lower()) for i, _ in enumerate(no_word_and_symbols)]\n",
    "print(result)"
   ]
  },
  {
   "cell_type": "code",
   "execution_count": 151,
   "metadata": {},
   "outputs": [
    {
     "name": "stdout",
     "output_type": "stream",
     "text": [
      "{'не', 'і', 'одно', 'листя', 'краю', 'мудрий', 'вітри', 'друге', 'пожовкле', 'навіки', 'відкіля', 'а', 'куди', 'нічого', 'воно', 'минає', 'все', 'ж'}\n"
     ]
    }
   ],
   "source": [
    " # Unique words\n",
    "result_all = set(result)\n",
    "print(result_all)"
   ]
  },
  {
   "cell_type": "code",
   "execution_count": null,
   "metadata": {},
   "outputs": [],
   "source": []
  },
  {
   "cell_type": "markdown",
   "metadata": {},
   "source": [
    "# Level 4"
   ]
  },
  {
   "cell_type": "markdown",
   "metadata": {},
   "source": [
    "убрать скобки и кавычки, которые примыкают к слову спереди или сзади (вместо скобок убрал тире)"
   ]
  },
  {
   "cell_type": "code",
   "execution_count": 100,
   "metadata": {},
   "outputs": [],
   "source": [
    "# Input text\n",
    "text2 = \"“Здоров, Еоле, пане-свату! Ой, як ся маєш, як живеш? — Сказала, як ввійшла у хату, Юнона. — Чи гостей ти ждеш?”\""
   ]
  },
  {
   "cell_type": "code",
   "execution_count": 114,
   "metadata": {},
   "outputs": [],
   "source": [
    "import re  # Regular expression library\n",
    "\n",
    "# Function for delete special symbols\n",
    "def str_del(x, delete):\n",
    "    for i in delete:\n",
    "        x = re.sub(i, '', x)\n",
    "    return x"
   ]
  },
  {
   "cell_type": "code",
   "execution_count": 113,
   "metadata": {},
   "outputs": [
    {
     "name": "stdout",
     "output_type": "stream",
     "text": [
      "Здоров, Еоле, пане-свату Ой, як ся маєш, як живеш — Сказала, як ввійшла у хату, Юнона. — Чи гостей ти ждеш\n"
     ]
    }
   ],
   "source": [
    "# Delete special chars\n",
    "special_chars = [\"[“!@#?$”]\", \"%\"]\n",
    "deleteno_special_chars = str_del(text2, special_chars)\n",
    "print(deleteno_special_chars)"
   ]
  }
 ],
 "metadata": {
  "kernelspec": {
   "display_name": "Python 3",
   "language": "python",
   "name": "python3"
  },
  "language_info": {
   "codemirror_mode": {
    "name": "ipython",
    "version": 3
   },
   "file_extension": ".py",
   "mimetype": "text/x-python",
   "name": "python",
   "nbconvert_exporter": "python",
   "pygments_lexer": "ipython3",
   "version": "3.6.5"
  }
 },
 "nbformat": 4,
 "nbformat_minor": 2
}
