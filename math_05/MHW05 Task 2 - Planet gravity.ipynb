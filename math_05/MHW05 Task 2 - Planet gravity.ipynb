{
 "cells": [
  {
   "cell_type": "markdown",
   "metadata": {},
   "source": [
    "# MHW05 Task 2 - Planet gravity\n",
    "Напишите программу для определения гравитационной постоянной следующих совокупностей данных. "
   ]
  },
  {
   "cell_type": "code",
   "execution_count": 1,
   "metadata": {},
   "outputs": [],
   "source": [
    "import numpy as np"
   ]
  },
  {
   "cell_type": "code",
   "execution_count": 2,
   "metadata": {},
   "outputs": [],
   "source": [
    "# Input data\n",
    "\n",
    "# Planet\n",
    "planet = np.array(['Mercury','Venus','Eath','Mars','Jupiter','Saturn','Uranus','Neptune','Pluto'])\n",
    "\n",
    "# Solar distance\n",
    "dist_to_solar = np.array([57.59, 108,11, 149.57, 227.84, 778.14, 1427.0, 2870.3, 4499.9, 5909.0])\n",
    "dist_to_solar = dist_to_solar*10**6\n",
    "\n",
    "# Star days time\n",
    "star_days = np.array([87.99, 224.7, 365.26, 686.98, 4332.4, 10759, 30684, 60188, 90710])\n",
    "\n",
    "# Solar mass \n",
    "mass_solar = 1.98892*10**30\n",
    "\n",
    "# M\n",
    "m = 1.5"
   ]
  },
  {
   "cell_type": "code",
   "execution_count": 3,
   "metadata": {},
   "outputs": [],
   "source": [
    "# Powers of i-elements and Sum and C koeficient\n",
    "def c_koef(time, distance, m_koef):\n",
    "    # m - power  - time*distance\n",
    "    distance_lenth = distance.shape[0]-1\n",
    "    distance_time_power_m = [(time[i]*(distance[i])**m_koef) for i in np.arange(distance_lenth)]\n",
    "    sum_distance_time_power_m = np.sum(distance_time_power_m)\n",
    "    # 2m - power - time\n",
    "    distance_power_2m = [(distance[i])**(2 * m_koef) for i in np.arange(distance_lenth)]\n",
    "    sum_distance_power_2m = np.sum(distance_power_2m) \n",
    "    # C koeficient\n",
    "    return sum_distance_time_power_m / sum_distance_power_2m"
   ]
  },
  {
   "cell_type": "code",
   "execution_count": 4,
   "metadata": {},
   "outputs": [
    {
     "name": "stdout",
     "output_type": "stream",
     "text": [
      " task A: C =  2.093439422046121e-10 \n",
      " task B: C =  3.261784686035031e-10\n"
     ]
    }
   ],
   "source": [
    "# C koeficient for task A & B\n",
    "c_koeficient_A = c_koef(star_days[:4], dist_to_solar[:4], m)\n",
    "c_koeficient_B = c_koef(star_days, dist_to_solar, m)\n",
    "print(' task A: C = ',c_koeficient_A,'\\n task B: C = ',c_koeficient_B)"
   ]
  },
  {
   "cell_type": "code",
   "execution_count": 5,
   "metadata": {},
   "outputs": [
    {
     "name": "stdout",
     "output_type": "stream",
     "text": [
      " Gravity Koeficient A =  4.529201321694197e-10 \n",
      " Gravity Koeficient B =  1.865657176339144e-10\n"
     ]
    }
   ],
   "source": [
    "# Gravity koeficient by 3 Kepler's law\n",
    "gravity_koeficient_A = (4*(np.pi**2))/(mass_solar * c_koeficient_A**2)\n",
    "gravity_koeficient_B = (4*(np.pi**2))/(mass_solar * c_koeficient_B**2)\n",
    "print(' Gravity Koeficient A = ',gravity_koeficient_A,'\\n Gravity Koeficient B = ',gravity_koeficient_B)"
   ]
  },
  {
   "cell_type": "code",
   "execution_count": 6,
   "metadata": {},
   "outputs": [],
   "source": [
    "# Result function f(x) = C * x**m\n",
    "def gravity_system(koeficient, distance):\n",
    "    return koeficient * (distance**m)"
   ]
  },
  {
   "cell_type": "code",
   "execution_count": 10,
   "metadata": {},
   "outputs": [],
   "source": [
    "# E2 function\n",
    "def E2(time, distance, koeficient):\n",
    "    # Lenght\n",
    "    distance_length = distance.shape[0] - 1\n",
    "    # Under sum \n",
    "    under_sum = [np.sqrt((np.absolute(gravity_system(koeficient, distance[i]) - time[i]))**2)\\\n",
    "                 for i in np.arange(distance_length)]\n",
    "    # Sum \n",
    "    return np.sum(under_sum)/distance_length"
   ]
  },
  {
   "cell_type": "code",
   "execution_count": 11,
   "metadata": {},
   "outputs": [],
   "source": [
    "# Result \n",
    "\n",
    "# Task A\n",
    "E2_precision_A = E2(star_days, dist_to_solar, c_koeficient_A)\n",
    "# Task B\n",
    "E2_precision_B = E2(star_days, dist_to_solar, c_koeficient_B)\n",
    "#print(' E2 precision A = ',E2_precision_A,'\\n E2 precision B = ',E2_precision_B)"
   ]
  },
  {
   "cell_type": "code",
   "execution_count": null,
   "metadata": {},
   "outputs": [],
   "source": []
  },
  {
   "cell_type": "code",
   "execution_count": null,
   "metadata": {},
   "outputs": [],
   "source": []
  },
  {
   "cell_type": "code",
   "execution_count": null,
   "metadata": {},
   "outputs": [],
   "source": []
  },
  {
   "cell_type": "code",
   "execution_count": null,
   "metadata": {},
   "outputs": [],
   "source": []
  },
  {
   "cell_type": "code",
   "execution_count": 9,
   "metadata": {},
   "outputs": [],
   "source": [
    "# for i in range(9):\n",
    "#    print(np.sqrt((np.absolute(gravity_system(c_koeficient_B, dist_to_solar[i]) - star_days[i]))**2))"
   ]
  }
 ],
 "metadata": {
  "kernelspec": {
   "display_name": "Python 3",
   "language": "python",
   "name": "python3"
  },
  "language_info": {
   "codemirror_mode": {
    "name": "ipython",
    "version": 3
   },
   "file_extension": ".py",
   "mimetype": "text/x-python",
   "name": "python",
   "nbconvert_exporter": "python",
   "pygments_lexer": "ipython3",
   "version": "3.6.5"
  }
 },
 "nbformat": 4,
 "nbformat_minor": 2
}
