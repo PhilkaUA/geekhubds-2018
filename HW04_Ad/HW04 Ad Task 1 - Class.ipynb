{
 "cells": [
  {
   "cell_type": "markdown",
   "metadata": {},
   "source": [
    "# HW04 Advanced"
   ]
  },
  {
   "cell_type": "raw",
   "metadata": {},
   "source": [
    "# \"Сделать в отдельной ветке расширенную версию предыдущего ДЗ (№3), где необходимо использовать собственный декоратор функции и (или) метода, статический метод, метод класса, property и магические методы (str, repr и любой другой).\""
   ]
  },
  {
   "cell_type": "code",
   "execution_count": 108,
   "metadata": {},
   "outputs": [],
   "source": [
    "def print_value(value):\n",
    "    \"\"\"Add some print for output\"\"\"\n",
    "    def wrapper(x):\n",
    "        print(f\"Money is payed\")\n",
    "        return value(x)\n",
    "    return wrapper\n",
    "    \n",
    "class Company:\n",
    "    \"\"\"Description finacies of company\"\"\"\n",
    "    \n",
    "    # inicialization\n",
    "    # name - str; day - works days, job - closed tasks\n",
    "    def __init__(self, name: str, day: int, job: str): \n",
    "        #atribute \n",
    "        self.name = name\n",
    "        self.day = day\n",
    "        self.job = job\n",
    "        self.prem_coef = 0.5\n",
    "\n",
    "    # Class atributes\n",
    "    name_list = []\n",
    "    pay_list = []\n",
    "    job_list = []\n",
    "        \n",
    "    @print_value\n",
    "    def getPay(self):\n",
    "        ''' Pay (premium not be listed, for lower tax)'''\n",
    "        Company.pay_list.append(self._intensivity())\n",
    "        return self._intensivity() + self._premium\n",
    "    \n",
    "    def _intensivity(self):\n",
    "        '''Intensivity - Calulated as exponent with power on day'''\n",
    "        result_day = self._day_select(self.day)\n",
    "        result_job = self._job_select(self.job)\n",
    "        #print(\"day = \", result_day)\n",
    "        #print(\"job in day = \", result_job)\n",
    "        return self.day**result_day + self.day**result_job  \n",
    "   \n",
    "    def _job_select(self, job):\n",
    "        '''Job clasification'''\n",
    "        # If u working out the python sphere u ll get nothing xD\n",
    "        Company.job_list.append(self.job)\n",
    "        if self.job == 'Python':\n",
    "            __job = self.day * 2\n",
    "        else: __job = 0 \n",
    "        return __job       \n",
    "    \n",
    "    \n",
    "    def _day_select(self, day):\n",
    "        '''Time which you working'''\n",
    "        # U will work more if u ll not be a chief xD\n",
    "        Company.name_list.append(self.name)\n",
    "        if self.name != \"Cheif\":\n",
    "            __day = day**3\n",
    "        else: __day = day \n",
    "        return __day\n",
    "    \n",
    "    @property\n",
    "    def _premium(self):\n",
    "        '''Premium calculation'''\n",
    "        if self.name == \"Cheif\":\n",
    "            __premium = self._intensivity() * self.prem_coef\n",
    "        else:\n",
    "            if self.day > 2:\n",
    "                __premium = self._intensivity() * (self.prem_coef/0.5)\n",
    "        return __premium"
   ]
  },
  {
   "cell_type": "code",
   "execution_count": 122,
   "metadata": {},
   "outputs": [
    {
     "name": "stdout",
     "output_type": "stream",
     "text": [
      "['Cheif', 'Cheif', 'Cheif', 'Cheif', 'Cheif', 'Cheif', 'Cheif', 'Cheif', 'Cheif', 'Cheif', 'Cheif', 'Cheif']\n",
      "['Python', 'Python', 'Python', 'Python', 'Python', 'Python', 'Python', 'Python', 'Python', 'Python', 'Python', 'Python']\n",
      "[2, 2, 2, 2]\n",
      "Money is payed\n"
     ]
    },
    {
     "data": {
      "text/plain": [
       "3.0"
      ]
     },
     "execution_count": 122,
     "metadata": {},
     "output_type": "execute_result"
    }
   ],
   "source": [
    "# Class instance\n",
    "company = Company('Cheif', 1, 'Python')\n",
    "\n",
    "#Printing output lists\n",
    "print(Company.name_list)\n",
    "print(Company.job_list)\n",
    "print(Company.pay_list)\n",
    "# Pay\n",
    "company.getPay()"
   ]
  },
  {
   "cell_type": "code",
   "execution_count": 125,
   "metadata": {},
   "outputs": [
    {
     "data": {
      "text/plain": [
       "1.0"
      ]
     },
     "execution_count": 125,
     "metadata": {},
     "output_type": "execute_result"
    }
   ],
   "source": [
    "# Premium output\n",
    "company._premium"
   ]
  }
 ],
 "metadata": {
  "kernelspec": {
   "display_name": "Python 3",
   "language": "python",
   "name": "python3"
  },
  "language_info": {
   "codemirror_mode": {
    "name": "ipython",
    "version": 3
   },
   "file_extension": ".py",
   "mimetype": "text/x-python",
   "name": "python",
   "nbconvert_exporter": "python",
   "pygments_lexer": "ipython3",
   "version": "3.6.5"
  }
 },
 "nbformat": 4,
 "nbformat_minor": 2
}
