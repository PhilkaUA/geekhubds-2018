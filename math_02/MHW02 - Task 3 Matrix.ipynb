{
 "cells": [
  {
   "cell_type": "markdown",
   "metadata": {},
   "source": [
    "# MHW02 - Task 3 Matrix\n",
    "\n",
    "3.Реализовать\tна\tPythonкласс\tvectorи\tmatrix"
   ]
  },
  {
   "cell_type": "code",
   "execution_count": 246,
   "metadata": {},
   "outputs": [],
   "source": [
    "# Vector by adding elements on index and value\n",
    "class List2DAdding:\n",
    "    '''Vector realization, input by x - koordinate, and value''' \n",
    "    def __init__(self, value):\n",
    "        #self.x = x\n",
    "        self.value = value\n",
    "    \n",
    "    input_list2D = []\n",
    "    \n",
    "    def add_elevent_list(self):\n",
    "        return List2DAdding.input_list2D.append(self.value)"
   ]
  },
  {
   "cell_type": "code",
   "execution_count": 247,
   "metadata": {},
   "outputs": [
    {
     "name": "stdout",
     "output_type": "stream",
     "text": [
      "[5, 5, 5, 5, 5, 5, 5, 5, 5, 5]\n"
     ]
    }
   ],
   "source": [
    "class_list = List2DAdding(5)\n",
    "[class_list.add_elevent_list() for i in range(10)]\n",
    "print(List2DAdding.input_list2D)\n"
   ]
  },
  {
   "cell_type": "code",
   "execution_count": 256,
   "metadata": {},
   "outputs": [],
   "source": [
    "# Vector by FOR loop\n",
    "class List2D:\n",
    "    '''Vector realization, by typing value for length_list2D times''' \n",
    "    def __init__(self, value, length_list2D):\n",
    "        self.value = value\n",
    "        self.length_list2D = length_list2D\n",
    "       \n",
    "    def add_elevent_list(self):\n",
    "        \n",
    "        return [self.value for i in range(self.length_list2D)]"
   ]
  },
  {
   "cell_type": "code",
   "execution_count": 255,
   "metadata": {},
   "outputs": [
    {
     "data": {
      "text/plain": [
       "[5, 5, 5, 5, 5, 5, 5, 5, 5, 5]"
      ]
     },
     "execution_count": 255,
     "metadata": {},
     "output_type": "execute_result"
    }
   ],
   "source": [
    "class_list = List2D(5, 10)\n",
    "class_list.add_elevent_list()"
   ]
  },
  {
   "cell_type": "code",
   "execution_count": 211,
   "metadata": {},
   "outputs": [],
   "source": [
    "# Vector by splitting\n",
    "class list2D:\n",
    "    '''Vector realization'''\n",
    "    def __init__(self, x):\n",
    "        self.x = x\n",
    "    \n",
    "    def vector(self):\n",
    "        '''Spliting row elements'''\n",
    "        return self.x.split()"
   ]
  },
  {
   "cell_type": "code",
   "execution_count": 214,
   "metadata": {},
   "outputs": [
    {
     "data": {
      "text/plain": [
       "['5', '5', '5', '5', '5', '5', '56', '7', '7', '8', '8', '8', '8', '8']"
      ]
     },
     "execution_count": 214,
     "metadata": {},
     "output_type": "execute_result"
    }
   ],
   "source": [
    "# Printing vector\n",
    "Vector = list2D(' 5 5 5 5 5 5 56 7 7 8 8 8 8 8')\n",
    "Vector.vector()"
   ]
  },
  {
   "cell_type": "code",
   "execution_count": 265,
   "metadata": {},
   "outputs": [],
   "source": [
    "# Matrix by FOR loops\n",
    "class List3D:\n",
    "    '''Matrix realization, by typing value for length n*m''' \n",
    "    def __init__(self, value, length_n, length_m):\n",
    "        self.value = value\n",
    "        self.length_n = length_n\n",
    "        self.length_m = length_m\n",
    "       \n",
    "    def add_elevent_list(self):\n",
    "        return [[self.value for i in range(self.length_n)] for i in range(self.length_m)]"
   ]
  },
  {
   "cell_type": "code",
   "execution_count": 266,
   "metadata": {},
   "outputs": [
    {
     "data": {
      "text/plain": [
       "[[5, 5, 5, 5, 5],\n",
       " [5, 5, 5, 5, 5],\n",
       " [5, 5, 5, 5, 5],\n",
       " [5, 5, 5, 5, 5],\n",
       " [5, 5, 5, 5, 5],\n",
       " [5, 5, 5, 5, 5],\n",
       " [5, 5, 5, 5, 5],\n",
       " [5, 5, 5, 5, 5],\n",
       " [5, 5, 5, 5, 5],\n",
       " [5, 5, 5, 5, 5]]"
      ]
     },
     "execution_count": 266,
     "metadata": {},
     "output_type": "execute_result"
    }
   ],
   "source": [
    "# Printing matrix\n",
    "class_matrix = List3D(5, 5, 10)\n",
    "class_matrix.add_elevent_list()"
   ]
  },
  {
   "cell_type": "code",
   "execution_count": null,
   "metadata": {},
   "outputs": [],
   "source": [
    "# Matrix by slicing vector \n",
    "class list3D:\n",
    "    '''Matrix realization'''\n",
    "    def __init__(self, x, m, n):\n",
    "        self.x = x #value\n",
    "        self.m = m #row\n",
    "        self.n = n #column\n",
    "    \n",
    "    def matrix(self):\n",
    "        _matrix = []\n",
    "        # Spliting elements\n",
    "        full_row = self.x.split() \n",
    "        # Elements in rows and columns\n",
    "        for i in range(0, self.m * self.n, self.n):\n",
    "            _matrix.append(full_row[i:i+self.n])   \n",
    "        return _matrix"
   ]
  },
  {
   "cell_type": "code",
   "execution_count": 78,
   "metadata": {},
   "outputs": [
    {
     "data": {
      "text/plain": [
       "[['1', '5', '4', '7'],\n",
       " ['8', '9', '5', '4'],\n",
       " ['1', '2', '6', '5'],\n",
       " ['7', '5', '2', '6'],\n",
       " ['7', '5']]"
      ]
     },
     "execution_count": 78,
     "metadata": {},
     "output_type": "execute_result"
    }
   ],
   "source": [
    "# Printing matrix\n",
    "Matrix = list3D(' 1 5 4 7 8 9 5 4 1 2 6 5 7 5 2 6 7 5', 5, 4)\n",
    "Matrix.matrix()"
   ]
  }
 ],
 "metadata": {
  "kernelspec": {
   "display_name": "Python 3",
   "language": "python",
   "name": "python3"
  },
  "language_info": {
   "codemirror_mode": {
    "name": "ipython",
    "version": 3
   },
   "file_extension": ".py",
   "mimetype": "text/x-python",
   "name": "python",
   "nbconvert_exporter": "python",
   "pygments_lexer": "ipython3",
   "version": "3.6.5"
  }
 },
 "nbformat": 4,
 "nbformat_minor": 2
}
