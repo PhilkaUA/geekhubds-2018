{
 "cells": [
  {
   "cell_type": "markdown",
   "metadata": {},
   "source": [
    "# MHW03 Task 3 - LUP\n",
    "Реализовать\tна\tPython LUP-разложение, Sorry не удержался сделал с numpy :\\"
   ]
  },
  {
   "cell_type": "code",
   "execution_count": 1,
   "metadata": {},
   "outputs": [],
   "source": [
    "import numpy as np\n",
    "#from numpy import *"
   ]
  },
  {
   "cell_type": "code",
   "execution_count": 2,
   "metadata": {},
   "outputs": [],
   "source": [
    "# input Matrix A, b in Ax = b \n",
    "a_matrix = np.array([[1, 2, 0],[3, 4, 4],[5, 6, 3]], dtype=float)\n",
    "b_matrix = np.array([[3], [7], [8]], dtype=float)"
   ]
  },
  {
   "cell_type": "code",
   "execution_count": 3,
   "metadata": {},
   "outputs": [],
   "source": [
    "# Functions"
   ]
  },
  {
   "cell_type": "code",
   "execution_count": 4,
   "metadata": {},
   "outputs": [],
   "source": [
    "# # Sorting rows elements by column index \n",
    "# def sort_array(input_array, column):\n",
    "#     new_array = np.copy(input_array)\n",
    "#     return new_array[new_array[:,column].argsort()][::-1] # reversed - decreasing"
   ]
  },
  {
   "cell_type": "code",
   "execution_count": 5,
   "metadata": {},
   "outputs": [],
   "source": [
    "# Sorting rows elements by column index and slicing\n",
    "def sort_array(input_array, column):\n",
    "    if column == 0:\n",
    "        new_array = np.copy(input_array)\n",
    "        return new_array[new_array[:,column].argsort()][::-1] # reversed - decreasing   \n",
    "    else:\n",
    "        low = input_array[column:,::].copy() # slice doesnt work with 0 args\n",
    "        up = input_array[:column,::].copy()\n",
    "        low_sorted = low[low[:,column].argsort()][::-1]\n",
    "        return np.concatenate((up, low_sorted), axis=0) "
   ]
  },
  {
   "cell_type": "code",
   "execution_count": 6,
   "metadata": {},
   "outputs": [],
   "source": [
    "# Dividing row elements of array by column index\n",
    "def divide_in_column(input_array, column, length_array):\n",
    "    new_array = np.copy(input_array)\n",
    "    #length_array = new_array.shape[0]\n",
    "    for i in np.arange(column+1, length_array):\n",
    "        new_array[i, column] = new_array[:,column][i] / new_array[:,column][column]\n",
    "    return new_array"
   ]
  },
  {
   "cell_type": "code",
   "execution_count": 7,
   "metadata": {},
   "outputs": [],
   "source": [
    "# Transforming by Shura addition\n",
    "def tf_elements(input_array, column, length_array, depth_array):\n",
    "    new_array = np.copy(input_array)\n",
    "    #length_array = new_array.shape[0]\n",
    "    #depth_array = new_array.shape[1]-1  # -1 need to save b Matrix\n",
    "    depth_array = depth_array - 1 # -1 need to save b Matrix\n",
    "    \n",
    "    for col in range(column+1, depth_array):\n",
    "        for row in range(column+1, length_array):\n",
    "            new_array[:,col][row] = input_array[:,col][row] - (input_array[:,column][row] * input_array[column,:][col])\n",
    "    \n",
    "    return new_array"
   ]
  },
  {
   "cell_type": "code",
   "execution_count": 8,
   "metadata": {},
   "outputs": [
    {
     "name": "stdout",
     "output_type": "stream",
     "text": [
      " input matrix:\n",
      " [[1. 2. 0. 3.]\n",
      " [3. 4. 4. 7.]\n",
      " [5. 6. 3. 8.]]\n",
      "\n",
      " input matrix and position matrix:\n",
      " [[1. 2. 0. 3. 1. 0. 0.]\n",
      " [3. 4. 4. 7. 0. 1. 0.]\n",
      " [5. 6. 3. 8. 0. 0. 1.]]\n",
      "\n",
      " after LUP algorytm:\n",
      " [[ 5.   6.   3.   8.   0.   0.   1. ]\n",
      " [ 0.2  0.8 -0.6  3.   1.   0.   0. ]\n",
      " [ 0.6  0.5  2.5  7.   0.   1.   0. ]]\n"
     ]
    }
   ],
   "source": [
    "# Main algorythm\n",
    "\n",
    "# Matrix equation Ax = b\n",
    "all_matrix = np.append(a_matrix, b_matrix, axis=1)\n",
    "print(' input matrix:\\n', all_matrix)\n",
    "\n",
    "# Matrix columns and diagonals for Shura addition\n",
    "column_length = all_matrix.shape[0]\n",
    "row_length = all_matrix.shape[1]\n",
    "diagonal_elements = column_length - 1\n",
    "\n",
    "# Diagonal matrix and Ax = b matrix join\n",
    "matrix_diagonal = np.eye(column_length)\n",
    "all_matrix_diagonal = np.concatenate((all_matrix, matrix_diagonal), axis=1)\n",
    "print('\\n input matrix and position matrix:\\n', all_matrix_diagonal)\n",
    "\n",
    "matrix = np.copy(all_matrix_diagonal)\n",
    "for i in range(diagonal_elements):\n",
    "    #Sorting\n",
    "    matrix = sort_array(matrix, i)\n",
    "    #Dividing\n",
    "    column_array = divide_in_column(matrix, i, column_length)\n",
    "    #Shura algorythm\n",
    "    other_array = tf_elements(column_array, i, column_length, row_length)\n",
    "    matrix = other_array  \n",
    "\n",
    "print('\\n after LUP algorytm:\\n', matrix)"
   ]
  },
  {
   "cell_type": "code",
   "execution_count": 9,
   "metadata": {},
   "outputs": [
    {
     "name": "stdout",
     "output_type": "stream",
     "text": [
      " matrix repositioning:\n",
      " [[0. 0. 1.]\n",
      " [1. 0. 0.]\n",
      " [0. 1. 0.]]\n",
      "\n",
      " whithout b-matrix:\n",
      " [[ 5.   6.   3. ]\n",
      " [ 0.2  0.8 -0.6]\n",
      " [ 0.6  0.5  2.5]]\n",
      "\n",
      " b-matrix:\n",
      " [[8.]\n",
      " [3.]\n",
      " [7.]]\n"
     ]
    }
   ],
   "source": [
    "# Matrix whithout b columb by slices\n",
    "\n",
    "matrix_repositioning = matrix[::, row_length:].copy()\n",
    "print(' matrix repositioning:\\n', matrix_repositioning)\n",
    "\n",
    "matrix = matrix[::, :row_length].copy()\n",
    "\n",
    "matrix_out_b = matrix[::, :diagonal_elements+1].copy()\n",
    "print('\\n whithout b-matrix:\\n', matrix_out_b)\n",
    "\n",
    "matrix_only_b = matrix[::, diagonal_elements+1:].copy()\n",
    "print('\\n b-matrix:\\n', matrix_only_b)\n",
    "\n",
    "# Algorytm by iterations  = try not to use\n",
    "\n",
    "# tmp_array = []\n",
    "# for i, _ in enumerate(matrix):\n",
    "#     tmp_array.append(matrix[i][:len(matrix)])\n",
    "# matrix_out_b = np.array(tmp_array)\n",
    "# print(matrix_out_b)"
   ]
  },
  {
   "cell_type": "code",
   "execution_count": 10,
   "metadata": {},
   "outputs": [
    {
     "name": "stdout",
     "output_type": "stream",
     "text": [
      "\n",
      " L-matrix:\n",
      " [[1.  0.  0. ]\n",
      " [0.2 1.  0. ]\n",
      " [0.6 0.5 1. ]]\n",
      "\n",
      " U-matrix:\n",
      " [[ 5.   6.   3. ]\n",
      " [ 0.   0.8 -0.6]\n",
      " [ 0.   0.   2.5]]\n",
      "\n",
      " P-matrix:\n",
      " [[0. 0. 1.]\n",
      " [1. 0. 0.]\n",
      " [0. 1. 0.]]\n"
     ]
    }
   ],
   "source": [
    "# Result Matrix decomposition\n",
    "\n",
    "# Lower L matrix\n",
    "L_no_diagonal = np.tril(matrix_out_b, k=-1) \n",
    "# Filling main diagonal by 1\n",
    "np.fill_diagonal(L_no_diagonal, 1)\n",
    "print('\\n L-matrix:\\n', L_no_diagonal)\n",
    "\n",
    "# Upper U matrix\n",
    "U_diagonal = np.triu(matrix_out_b, k=0) \n",
    "print('\\n U-matrix:\\n', U_diagonal)\n",
    "\n",
    "# Repositions matrix\n",
    "P_matrix = matrix_repositioning \n",
    "print('\\n P-matrix:\\n', matrix_repositioning)"
   ]
  },
  {
   "cell_type": "code",
   "execution_count": null,
   "metadata": {},
   "outputs": [],
   "source": []
  }
 ],
 "metadata": {
  "kernelspec": {
   "display_name": "Python 3",
   "language": "python",
   "name": "python3"
  },
  "language_info": {
   "codemirror_mode": {
    "name": "ipython",
    "version": 3
   },
   "file_extension": ".py",
   "mimetype": "text/x-python",
   "name": "python",
   "nbconvert_exporter": "python",
   "pygments_lexer": "ipython3",
   "version": "3.6.5"
  }
 },
 "nbformat": 4,
 "nbformat_minor": 2
}
