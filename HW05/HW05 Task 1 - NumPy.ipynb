{
 "cells": [
  {
   "cell_type": "markdown",
   "metadata": {},
   "source": [
    "# HW05 Task 1 - NumPy\n",
    "1. Извлечь колонку &#39;species&#39;\n",
    "2. Преобразовать первые 4 колонки в 2D массив\n",
    "3. Посчитать mean, median, standard deviation по 1-й колонке\n",
    "4. Вставить 20 значений np.nan на случайные позиции в массиве\n",
    "5. Найти позиции вставленных значений np.nan в 1-й колонке\n",
    "6. Отфильтровать массив по условию значения в 3-й колонке &gt; 1.5 И значения\n",
    "в 1-й колонке &lt; 5.0\n",
    "7. Заменить все значения np.nan на 0\n",
    "8. Посчитать все уникальные значения в массиве и вывести их вместе с\n",
    "посчитанным количеством\n",
    "9. Разбить массив по горизонтали на 2 массива\n",
    "10. Отсортировать оба получившихся массива по 1-й колонке: 1-й по\n",
    "возрастанию, 2-й по убыванию\n",
    "11. Склеить оба массива обратно\n",
    "12. Найти наиболее часто повторяющееся значение в массиве\n",
    "13. Написать функцию, которая бы умножала все значения в колонке, меньше\n",
    "среднего значения в этой колонке, на 2, и делила остальные значения на 4.\n",
    "применить к 3-й колонке"
   ]
  },
  {
   "cell_type": "code",
   "execution_count": 1,
   "metadata": {},
   "outputs": [],
   "source": [
    "import numpy as np\n",
    "\n",
    "# import dataset\n",
    "url = \"https://archive.ics.uci.edu/ml/machine-learning-databases/iris/iris.data\"\n",
    "iris = np.genfromtxt(url, delimiter=',', dtype='object')\n",
    "names = ('sepallength', 'sepalwidth', 'petallength', 'petalwidth', 'species')"
   ]
  },
  {
   "cell_type": "code",
   "execution_count": 2,
   "metadata": {},
   "outputs": [],
   "source": [
    "#1 Extract the column 'species'\n",
    "\n",
    "# Index finding\n",
    "idex_species = names.index('species')\n",
    "\n",
    "# Column\n",
    "column_species = iris[:,idex_species]\n",
    "#print(column_species)"
   ]
  },
  {
   "cell_type": "code",
   "execution_count": 20,
   "metadata": {
    "scrolled": false
   },
   "outputs": [
    {
     "name": "stdout",
     "output_type": "stream",
     "text": [
      "this array is  2 D\n"
     ]
    }
   ],
   "source": [
    "#2 Convert the first 4 columns to a 2D array\n",
    "\n",
    "# Slicing for 4 columns\n",
    "sliced_array = iris[::, :4]\n",
    "\n",
    "# Test for dismentions\n",
    "print('this array is ',sliced_array.ndim,'D')\n",
    "\n",
    "# reshaping for array (xxx,2) only for example\n",
    "array2D = sliced_array.reshape(300,2)"
   ]
  },
  {
   "cell_type": "code",
   "execution_count": 4,
   "metadata": {},
   "outputs": [
    {
     "name": "stdout",
     "output_type": "stream",
     "text": [
      "\n",
      " Mean:  5.843333333333334\n",
      " Median:  5.8\n",
      " St.Deviation:  0.8253012917851409\n"
     ]
    }
   ],
   "source": [
    "#3 Calculate mean, median, standard deviation on the 1st column\n",
    "\n",
    "# First column\n",
    "column_first = iris[:,0]\n",
    "\n",
    "# Change type\n",
    "column_tf_type = column_first.astype('str').astype('float')\n",
    "\n",
    "# Mean, Median,  Square\n",
    "print('\\n Mean: ',np.mean(column_tf_type))\n",
    "print(' Median: ',np.median(column_tf_type))\n",
    "print(' St.Deviation: ',np.std(column_tf_type))"
   ]
  },
  {
   "cell_type": "code",
   "execution_count": 5,
   "metadata": {},
   "outputs": [],
   "source": [
    "#4 Insert 20 values of np.nan to random positions in the array\n",
    "\n",
    "# Array copy\n",
    "simple_array = iris.copy()\n",
    "\n",
    "# Array length\n",
    "column_length = simple_array.shape[0]\n",
    "row_length = simple_array.shape[1]\n",
    "\n",
    "# Sub of random indexs\n",
    "for i in range(20):\n",
    "    simple_array[np.random.randint(column_length),np.random.randint(row_length)] = np.nan\n",
    "#print(simple_array)"
   ]
  },
  {
   "cell_type": "code",
   "execution_count": 6,
   "metadata": {},
   "outputs": [
    {
     "name": "stdout",
     "output_type": "stream",
     "text": [
      "[ 17  30  48  86 102 125]\n"
     ]
    }
   ],
   "source": [
    "#5 Find the position of the inserted values np.nan in the 1st column\n",
    "\n",
    "# First column\n",
    "first_column = simple_array[:,0].astype(float)\n",
    "\n",
    "# Indexies of NAN value\n",
    "index_nan = np.argwhere(np.isnan(first_column)).flatten()\n",
    "print(index_nan)"
   ]
  },
  {
   "cell_type": "code",
   "execution_count": 7,
   "metadata": {},
   "outputs": [
    {
     "name": "stdout",
     "output_type": "stream",
     "text": [
      "[[4.9 4.7 4.6 4.6 4.4 4.9 4.8 4.8 4.3 4.6 4.8 4.7 4.8 4.9 4.9 4.4 4.5 4.4\n",
      "  4.8 4.6 4.9 4.9 1.7 1.6 1.7 1.7 1.7 1.9 1.6 1.6 1.6 1.6 1.6 1.9 1.6 4.7\n",
      "  4.5 4.9 4.  4.6 4.5 4.7 3.3 4.6 3.9 3.5 4.2 4.  4.7 3.6 4.4 4.5 4.1 4.5\n",
      "  3.9 4.8 4.  4.9 4.7 4.3 4.4 4.8 5.  4.5 3.5 3.8 3.7 3.9 5.1 4.5 4.5 4.7\n",
      "  4.4 4.1 4.  4.4 4.6 4.  3.3 4.2 4.2 4.2 4.3 3.  4.1 6.  5.1 5.9 5.6 5.8\n",
      "  6.6 4.5 6.3 5.8 6.1 5.1 5.3 5.5 5.  5.1 5.3 5.5 6.7 6.9 5.  5.7 4.9 6.7\n",
      "  4.9 5.7 6.  4.8 4.9 5.6 5.8 6.1 6.4 5.6 5.1 5.6 6.1 5.6 5.5 4.8 5.4 5.6\n",
      "  5.1 5.1 5.9 5.7 5.2 5.  5.2 5.4 5.1]]\n"
     ]
    }
   ],
   "source": [
    "#6 Filter an array by the condition of the value in the 3rd column > 1.5 And the values in the 1st column <5.0\n",
    "\n",
    "#Array copy and columns\n",
    "array_iris = iris.copy()\n",
    "\n",
    "third_column = array_iris[:,2].astype('str').astype('float')\n",
    "first_column = array_iris[:,0].astype('str').astype('float')\n",
    "\n",
    "# Condition fo filter\n",
    "index_first_column = np.where(first_column < 5.0)\n",
    "index_third_column = np.where(third_column > 1.5)\n",
    "\n",
    "# Join arrays\n",
    "first_column_sorted = first_column.take(index_first_column)\n",
    "third_column_sorted = third_column.take(index_third_column)\n",
    "\n",
    "print(np.concatenate((first_column_sorted,third_column_sorted),axis=1))"
   ]
  },
  {
   "cell_type": "code",
   "execution_count": 8,
   "metadata": {},
   "outputs": [],
   "source": [
    "#7 Replace all np.nan values with 0\n",
    "\n",
    "# Slice for 4 columns\n",
    "nan_indexes = np.isnan(simple_array[::,:4].astype(float))\n",
    "# Replace NAN elements for 0\n",
    "simple_array[::,:4][nan_indexes] = 0\n",
    "#print(simple_array)"
   ]
  },
  {
   "cell_type": "code",
   "execution_count": 9,
   "metadata": {},
   "outputs": [
    {
     "name": "stdout",
     "output_type": "stream",
     "text": [
      "Unique elements :  [b'0.1' b'0.2' b'0.3' b'0.4' b'0.5' b'0.6' b'1.0' b'1.1' b'1.2' b'1.3'\n",
      " b'1.4' b'1.5' b'1.6' b'1.7' b'1.8' b'1.9' b'2.0' b'2.1' b'2.2' b'2.3'\n",
      " b'2.4' b'2.5' b'2.6' b'2.7' b'2.8' b'2.9' b'3.0' b'3.1' b'3.2' b'3.3'\n",
      " b'3.4' b'3.5' b'3.6' b'3.7' b'3.8' b'3.9' b'4.0' b'4.1' b'4.2' b'4.3'\n",
      " b'4.4' b'4.5' b'4.6' b'4.7' b'4.8' b'4.9' b'5.0' b'5.1' b'5.2' b'5.3'\n",
      " b'5.4' b'5.5' b'5.6' b'5.7' b'5.8' b'5.9' b'6.0' b'6.1' b'6.2' b'6.3'\n",
      " b'6.4' b'6.5' b'6.6' b'6.7' b'6.8' b'6.9' b'7.0' b'7.1' b'7.2' b'7.3'\n",
      " b'7.4' b'7.6' b'7.7' b'7.9' b'Iris-setosa' b'Iris-versicolor'\n",
      " b'Iris-virginica']\n",
      "Counts unique elements:  [ 6 28  7  7  1  1  8  4  7 20 20 26 11  6 12  7  7  6  6 12  6 11  5  9\n",
      " 14 10 27 12 13  8 12  8  4  4  7  5  6  4  5  3  8  9  7  7  9 11 14 17\n",
      "  6  3  8 10 12 11 10  5  8  9  4 10  8  5  3 10  3  5  1  1  3  1  1  1\n",
      "  4  1 50 50 50]\n"
     ]
    }
   ],
   "source": [
    "#8 Count all unique values in the array and list them together with the counted number\n",
    "\n",
    "# Get the unique items and their counts\n",
    "unique_elements, unique_counts = np.unique(iris, return_counts=True)\n",
    "\n",
    "print(\"Unique elements : \", unique_elements)\n",
    "print(\"Counts unique elements: \", unique_counts)"
   ]
  },
  {
   "cell_type": "code",
   "execution_count": 10,
   "metadata": {
    "scrolled": false
   },
   "outputs": [],
   "source": [
    "#9 Split an array horizontally into 2 arrays\n",
    "\n",
    "# Array copy\n",
    "for_split_array = iris.copy()\n",
    "\n",
    "# Array length\n",
    "split_length = int(for_split_array.shape[1] - 1)\n",
    "split_length_columns = for_split_array.shape[0]\n",
    "\n",
    "# Splitting matrix\n",
    "left_aray, right_aray = np.hsplit(for_split_array[::,:split_length], 2)\n",
    "\n",
    "# Turning last columns in for to vstack (list for each element)\n",
    "last_columns = np.array([[for_split_array[:,split_length][columns]] for columns in np.arange(split_length_columns)])\n",
    "\n",
    "# Add last column\n",
    "right_aray = np.concatenate((right_aray, last_columns),axis=1)\n",
    "\n",
    "# print(' right column: \\n',right_aray)\n",
    "# print('\\n left column: \\n',left_aray)"
   ]
  },
  {
   "cell_type": "code",
   "execution_count": 11,
   "metadata": {
    "scrolled": false
   },
   "outputs": [],
   "source": [
    "#10 Sort both resulting arrays by the 1st column: 1st ascending, 2nd descending\n",
    "\n",
    "# Sorting in columns\n",
    "sorted_left_aray = left_aray[left_aray[:, 0].argsort()]\n",
    "sorted_right_aray = right_aray[right_aray[:, 0].argsort()[::-1]]\n",
    "\n",
    "#11 Merge both arrays back\n",
    "\n",
    "left_right_array = np.concatenate((sorted_left_aray, sorted_right_aray),axis=1)\n",
    "#print(left_right_array)"
   ]
  },
  {
   "cell_type": "code",
   "execution_count": 12,
   "metadata": {},
   "outputs": [
    {
     "name": "stdout",
     "output_type": "stream",
     "text": [
      "\n",
      " Most frequently repeated value:  b'Iris-virginica'   -->> times: 50 \n",
      "\n",
      " Aloso frequently repeated value:  b'Iris-setosa'   -->> times: 50\n",
      " Aloso frequently repeated value:  b'Iris-versicolor'   -->> times: 50\n"
     ]
    }
   ],
   "source": [
    "#12 Find the most frequently repeated value in the array\n",
    "\n",
    "# Turning last columns in for to vstack (list for each element)\n",
    "\n",
    "# # Forming 2D-array listed elements\n",
    "# length_uniqie = unique_elements.shape[0]\n",
    "\n",
    "# unique_counts_listed = np.array([[unique_counts[columns]] for columns in np.arange(length_uniqie)])\n",
    "# unique_elements_listed = np.array([[unique_elements[columns]] for columns in np.arange(length_uniqie)])\n",
    "\n",
    "# counts_elements = np.concatenate((unique_counts_listed, unique_elements_listed),axis=1)\n",
    "\n",
    "# Forming 2D-array\n",
    "counts_elements = np.vstack((unique_counts, unique_elements)).T\n",
    "\n",
    "# Sorting inverse\n",
    "sorted_counts_elements = counts_elements[counts_elements[:, 0].argsort()[::-1]]\n",
    "\n",
    "# Most frequently repeated value\n",
    "print('\\n Most frequently repeated value: ',sorted_counts_elements[0,1], '  -->> times:',sorted_counts_elements[0,0],'\\n')\n",
    "\n",
    "for i in np.arange(5):\n",
    "    if sorted_counts_elements[i,0] == sorted_counts_elements[i+1,0]:\n",
    "        print(' Aloso frequently repeated value: ',sorted_counts_elements[i+1,1], '  -->> times:',sorted_counts_elements[i+1,0])"
   ]
  },
  {
   "cell_type": "code",
   "execution_count": 13,
   "metadata": {},
   "outputs": [
    {
     "data": {
      "text/plain": [
       "array([0.1  , 0.1  , 0.1  , 0.1  , 0.1  , 0.2  , 0.15 , 0.1  , 0.1  ,\n",
       "       0.05 , 0.1  , 0.1  , 0.05 , 0.05 , 0.1  , 0.2  , 0.2  , 0.15 ,\n",
       "       0.15 , 0.15 , 0.1  , 0.2  , 0.1  , 0.25 , 0.1  , 0.1  , 0.2  ,\n",
       "       0.1  , 0.1  , 0.1  , 0.1  , 0.2  , 0.05 , 0.1  , 0.05 , 0.1  ,\n",
       "       0.1  , 0.05 , 0.1  , 0.1  , 0.15 , 0.15 , 0.1  , 0.3  , 0.2  ,\n",
       "       0.15 , 0.1  , 0.1  , 0.1  , 0.1  , 0.35 , 0.375, 0.375, 0.325,\n",
       "       0.375, 0.325, 0.4  , 0.5  , 0.325, 0.35 , 0.5  , 0.375, 0.5  ,\n",
       "       0.35 , 0.325, 0.35 , 0.375, 0.5  , 0.375, 0.55 , 0.45 , 0.325,\n",
       "       0.375, 0.3  , 0.325, 0.35 , 0.35 , 0.425, 0.375, 0.5  , 0.55 ,\n",
       "       0.5  , 0.3  , 0.4  , 0.375, 0.4  , 0.375, 0.325, 0.325, 0.325,\n",
       "       0.3  , 0.35 , 0.3  , 0.5  , 0.325, 0.3  , 0.325, 0.325, 0.55 ,\n",
       "       0.325, 0.625, 0.475, 0.525, 0.45 , 0.55 , 0.525, 0.425, 0.45 ,\n",
       "       0.45 , 0.625, 0.5  , 0.475, 0.525, 0.5  , 0.6  , 0.575, 0.45 ,\n",
       "       0.55 , 0.575, 0.375, 0.575, 0.5  , 0.5  , 0.45 , 0.525, 0.45 ,\n",
       "       0.45 , 0.45 , 0.525, 0.4  , 0.475, 0.5  , 0.55 , 0.375, 0.35 ,\n",
       "       0.575, 0.6  , 0.45 , 0.45 , 0.525, 0.6  , 0.575, 0.475, 0.575,\n",
       "       0.625, 0.575, 0.475, 0.5  , 0.575, 0.45 ])"
      ]
     },
     "execution_count": 13,
     "metadata": {},
     "output_type": "execute_result"
    }
   ],
   "source": [
    "#13 Write a function that would multiply all values in the column, less than the average value in this column, by 2,\n",
    "#   and divide the remaining values by 4. apply to the 3rd column\n",
    "\n",
    "# For Column\n",
    "def dividing_function_for_column(column):\n",
    "    '''\n",
    "    dividing elevemnts of 1 column of array\n",
    "    column_ : copy of column\n",
    "    column_transform : transformin typy of column\n",
    "    column_mean : mean for column elements\n",
    "    '''\n",
    "    column_ = column.copy()\n",
    "    column_transform = column_.astype('float')\n",
    "    column_mean = column_transform.mean()\n",
    "    return np.where(column_transform < column_mean, column_transform/2, column_transform/4)\n",
    "\n",
    "dividing_function_for_column(iris[:,3])\n",
    "\n",
    "# For Array\n",
    "# def dividing_function(array, column):\n",
    "    \n",
    "#     #Array copy\n",
    "#     array_ = array.copy()\n",
    "    \n",
    "#     # Column\n",
    "#     array_column = array_[:,column].astype('float')\n",
    "    \n",
    "#     #Mean\n",
    "#     array_column_mean = array_column.mean()\n",
    "    \n",
    "#     return np.where(array_column < array_column_mean, array_column/2, array_column/4)\n",
    "\n",
    "# dividing_function(iris, 3)"
   ]
  },
  {
   "cell_type": "code",
   "execution_count": null,
   "metadata": {},
   "outputs": [],
   "source": []
  }
 ],
 "metadata": {
  "kernelspec": {
   "display_name": "Python 3",
   "language": "python",
   "name": "python3"
  },
  "language_info": {
   "codemirror_mode": {
    "name": "ipython",
    "version": 3
   },
   "file_extension": ".py",
   "mimetype": "text/x-python",
   "name": "python",
   "nbconvert_exporter": "python",
   "pygments_lexer": "ipython3",
   "version": "3.7.1"
  }
 },
 "nbformat": 4,
 "nbformat_minor": 2
}
