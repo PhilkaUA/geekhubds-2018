{
 "cells": [
  {
   "cell_type": "markdown",
   "metadata": {},
   "source": [
    "# HW06 Task 1 - Regular Expressions\n",
    "1. Написать регулярные выражения для:\n",
    " - Время в формате ЧЧ:ММ:СС\n",
    " - Номер телефона в формате +38xx-xxx-xx-xx\n",
    " - Дата в формате ДД.ММ.ГГГГ или ДД/ММ/ГГГГ\n",
    " - Адрес электронной почты"
   ]
  },
  {
   "cell_type": "code",
   "execution_count": 1,
   "metadata": {},
   "outputs": [],
   "source": [
    "import re"
   ]
  },
  {
   "cell_type": "code",
   "execution_count": 427,
   "metadata": {},
   "outputs": [
    {
     "data": {
      "text/plain": [
       "['9:10:11']"
      ]
     },
     "execution_count": 427,
     "metadata": {},
     "output_type": "execute_result"
    }
   ],
   "source": [
    "# Time for format HH:MM:SS \n",
    "\n",
    "# Input text\n",
    "text_time = r'Сегодня время 08:15:60 - но могло быть и 09:10 и 11:15:99'\n",
    "\n",
    "# Find the TIME with RE\n",
    "time_in_text = re.findall(r'\\d\\d(?:[-:/\\s\\\\]\\d\\d){2}', text_time)\n",
    "\n",
    "\n",
    "#Iteration is only for example - only RE on the next tasts -)\n",
    "\n",
    "# Checking for a valid time\n",
    "# Splitting numbers\n",
    "time_split = [re.split(r'\\W+', time_intext[i]) for i, _ in enumerate(time_in_text)]\n",
    "# To int\n",
    "time_int = [list(map(int, time_split[i])) for i, _ in enumerate(time_split)]\n",
    "# Printing with conditions\n",
    "['{}:{}:{}'.format(time_int[1][0],time_int[1][1],time_int[1][2]) for i, _ in enumerate(time_int) if (time_int[i][0] < 24) and (time_int[i][1] and time_int[i][2] < 59)]"
   ]
  },
  {
   "cell_type": "code",
   "execution_count": 428,
   "metadata": {},
   "outputs": [
    {
     "name": "stdout",
     "output_type": "stream",
     "text": [
      "['+3888-775-54-22', '3888-775-54-22']\n"
     ]
    }
   ],
   "source": [
    "# Phone number for format +38xx-xxx-xx-xx\n",
    "\n",
    "# Input text with numbers\n",
    "text_number = r'Правильный телефон +3888-775-54-22 а не правильный 3888-775-54-22 ну и совсем не правильный 4000-000-55-00'\n",
    "\n",
    "# Find number with regular\n",
    "numbers_in_text = re.findall(r'[+]?38(?:[-:\\\\/\\s]?\\d{2,3}){4}', text_number)\n",
    "print(numbers_in_text)"
   ]
  },
  {
   "cell_type": "code",
   "execution_count": 429,
   "metadata": {},
   "outputs": [
    {
     "name": "stdout",
     "output_type": "stream",
     "text": [
      "['15.01.1999', '11/10/2000']\n"
     ]
    }
   ],
   "source": [
    "# Date in format DD.ММ.YYYY or DD/ММ/YYYY\n",
    "\n",
    "# Input text with dates\n",
    "text_dates = r'Сегоня 15.01.1999 и 11/10/2000 и 11/12/5000'\n",
    "\n",
    "# Output\n",
    "print_dates = re.findall(r'((?:0[1-9]|[12][0-9]|3[01])[\\./](?:0[1-9]|1[0-2])[\\./][12]\\d{3})', text_dates)\n",
    "print(print_dates)"
   ]
  },
  {
   "cell_type": "code",
   "execution_count": 1309,
   "metadata": {},
   "outputs": [
    {
     "name": "stdout",
     "output_type": "stream",
     "text": [
      "[' \"Privet..Medv_ed\"@name.ua', ' uuu@privet.com.ua']\n"
     ]
    }
   ],
   "source": [
    "# E-mail in text\n",
    "# format e-mail: https://en.wikipedia.org/wiki/Email_address#Local-part\n",
    "# format e-mail: https://tools.ietf.org/html/rfc5322\n",
    "\n",
    "# Input text with numbers\n",
    "text_email = r' !Evig.RR@gggg.com и \"Privet..Medv_ed\"@name.ua и $-rr@mila.eu uuu@privet.com.ua и Eror@s.e4u'\n",
    "\n",
    "#print(re.findall(r'\\b\\s[^@!%$\\s]+@[^@!%$\\s]+\\.[^@!%$\\s0-9]{1,}\\b',text_email))\n",
    "print(re.findall(r'(\\s[^@!%$\\s]+@[^@!%$\\s]+\\.[^@!%$\\s0-9]{1,}\\b)',text_email))"
   ]
  },
  {
   "cell_type": "code",
   "execution_count": null,
   "metadata": {},
   "outputs": [],
   "source": []
  },
  {
   "cell_type": "code",
   "execution_count": null,
   "metadata": {},
   "outputs": [],
   "source": []
  },
  {
   "cell_type": "code",
   "execution_count": null,
   "metadata": {},
   "outputs": [],
   "source": []
  },
  {
   "cell_type": "code",
   "execution_count": null,
   "metadata": {},
   "outputs": [],
   "source": []
  },
  {
   "cell_type": "code",
   "execution_count": null,
   "metadata": {},
   "outputs": [],
   "source": []
  },
  {
   "cell_type": "code",
   "execution_count": null,
   "metadata": {},
   "outputs": [],
   "source": []
  },
  {
   "cell_type": "code",
   "execution_count": null,
   "metadata": {},
   "outputs": [],
   "source": []
  },
  {
   "cell_type": "code",
   "execution_count": null,
   "metadata": {},
   "outputs": [],
   "source": []
  },
  {
   "cell_type": "code",
   "execution_count": 1308,
   "metadata": {},
   "outputs": [
    {
     "name": "stdout",
     "output_type": "stream",
     "text": [
      "[' \"Privet..Medv_ed\"@name.ua', ' uuu@privet.com.ua', ' Eror@s.e4u']\n",
      "['mmmm@privet.com.uua', 'QQQqq@prUvet.com']\n",
      "['5Rttt@ggg.com', 'R_tt(t)@gg-555gg.com']\n"
     ]
    }
   ],
   "source": [
    "# Only example not for task\n",
    "\n",
    "text_email1 = ' mmmm@privet.com.uua и QQQqq@prUvet.com'\n",
    "print(re.findall(r'(\\s[^@!%$\\s]+@[^@!%$\\s]+\\.*[^@!%$\\s]{1,})',text_email))\n",
    "print(re.findall(r'([a-zA-Z0-9_.+-]+@[a-zA-Z0-9]+\\.*[a-zA-Z0-9.]{1,})',text_email1))\n",
    "print(re.findall(r'\\b[^@!%\\s]+@[^@!%\\s]+\\.[^@!%\\s0-9]{2,3}\\b',r' 5Rttt@ggg.com  @ @_@uu@u R_tt(t)@gg-555gg.com'))"
   ]
  },
  {
   "cell_type": "code",
   "execution_count": null,
   "metadata": {},
   "outputs": [],
   "source": []
  }
 ],
 "metadata": {
  "kernelspec": {
   "display_name": "Python 3",
   "language": "python",
   "name": "python3"
  },
  "language_info": {
   "codemirror_mode": {
    "name": "ipython",
    "version": 3
   },
   "file_extension": ".py",
   "mimetype": "text/x-python",
   "name": "python",
   "nbconvert_exporter": "python",
   "pygments_lexer": "ipython3",
   "version": "3.6.5"
  }
 },
 "nbformat": 4,
 "nbformat_minor": 2
}
