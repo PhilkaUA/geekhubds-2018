{
 "cells": [
  {
   "cell_type": "markdown",
   "metadata": {},
   "source": [
    "# HW07 Task 1 - Pandas<br></center>"
   ]
  },
  {
   "cell_type": "markdown",
   "metadata": {},
   "source": [
    "**В задании предлагается с помощью Pandas ответить на несколько вопросов по данным репозитория UCI [Adult](https://archive.ics.uci.edu/ml/datasets/Adult) (качать данные не надо – они уже есть в репозитории).**"
   ]
  },
  {
   "cell_type": "markdown",
   "metadata": {},
   "source": [
    "Уникальные значения признаков (больше информации по ссылке выше):\n",
    "- age: continuous.\n",
    "- workclass: Private, Self-emp-not-inc, Self-emp-inc, Federal-gov, Local-gov, State-gov, Without-pay, Never-worked.\n",
    "- fnlwgt: continuous.\n",
    "- education: Bachelors, Some-college, 11th, HS-grad, Prof-school, Assoc-acdm, Assoc-voc, 9th, 7th-8th, 12th, Masters, 1st-4th, 10th, Doctorate, 5th-6th, Preschool.\n",
    "- education-num: continuous.\n",
    "- marital-status: Married-civ-spouse, Divorced, Never-married, Separated, Widowed, Married-spouse-absent, Married-AF-spouse.\n",
    "- occupation: Tech-support, Craft-repair, Other-service, Sales, Exec-managerial, Prof-specialty, Handlers-cleaners, Machine-op-inspct, Adm-clerical, Farming-fishing, Transport-moving, Priv-house-serv, Protective-serv, Armed-Forces.\n",
    "- relationship: Wife, Own-child, Husband, Not-in-family, Other-relative, Unmarried.\n",
    "- race: White, Asian-Pac-Islander, Amer-Indian-Eskimo, Other, Black.\n",
    "- sex: Female, Male.\n",
    "- capital-gain: continuous.\n",
    "- capital-loss: continuous.\n",
    "- hours-per-week: continuous.\n",
    "- native-country: United-States, Cambodia, England, Puerto-Rico, Canada, Germany, Outlying-US(Guam-USVI-etc), India, Japan, Greece, South, China, Cuba, Iran, Honduras, Philippines, Italy, Poland, Jamaica, Vietnam, Mexico, Portugal, Ireland, France, Dominican-Republic, Laos, Ecuador, Taiwan, Haiti, Columbia, Hungary, Guatemala, Nicaragua, Scotland, Thailand, Yugoslavia, El-Salvador, Trinadad&Tobago, Peru, Hong, Holand-Netherlands.   \n",
    "- salary: >50K,<=50K"
   ]
  },
  {
   "cell_type": "code",
   "execution_count": 65,
   "metadata": {},
   "outputs": [],
   "source": [
    "import numpy as np\n",
    "import pandas as pd\n",
    "import timeit"
   ]
  },
  {
   "cell_type": "code",
   "execution_count": 66,
   "metadata": {},
   "outputs": [],
   "source": [
    "data = pd.read_csv('adult.data.csv')\n",
    "#data.head()"
   ]
  },
  {
   "cell_type": "markdown",
   "metadata": {},
   "source": [
    "**1. Сколько мужчин и женщин (признак *sex*) представлено в этом наборе данных?**"
   ]
  },
  {
   "cell_type": "code",
   "execution_count": 3,
   "metadata": {},
   "outputs": [
    {
     "name": "stdout",
     "output_type": "stream",
     "text": [
      "Male :  21790\n",
      "Female :  10771\n"
     ]
    }
   ],
   "source": [
    "# method whith .size more faster\n",
    "#sex_count = [print(sex,': ',data['sex'][data['sex'] == sex].value_counts(dropna=False)[0]) for sex in [\"Male\",\"Female\"]]\n",
    "sex_list = [\"Male\",\"Female\"]\n",
    "sex_count = [print(sex,': ',data['sex'][data['sex'] == sex].size) for sex in sex_list]"
   ]
  },
  {
   "cell_type": "markdown",
   "metadata": {},
   "source": [
    "**2. Каков средний возраст (признак *age*) женщин?**"
   ]
  },
  {
   "cell_type": "code",
   "execution_count": 4,
   "metadata": {},
   "outputs": [
    {
     "name": "stdout",
     "output_type": "stream",
     "text": [
      "Averge female age = 38.582\n"
     ]
    }
   ],
   "source": [
    "averege_age = data[['sex','age']][['age']].mean()[0]\n",
    "print(f'Averge female age = {averege_age:.5}')"
   ]
  },
  {
   "cell_type": "markdown",
   "metadata": {},
   "source": [
    "**3. Какова доля граждан Германии (признак *native-country*)?**"
   ]
  },
  {
   "cell_type": "code",
   "execution_count": 5,
   "metadata": {},
   "outputs": [
    {
     "name": "stdout",
     "output_type": "stream",
     "text": [
      "German people: 0.421 %\n"
     ]
    }
   ],
   "source": [
    "german_count = data['native-country'][data['native-country'] == 'Germany'].size\n",
    "data_count = data['native-country'].size\n",
    "print(f'German people: {(german_count/data_count)*100:.3} %')"
   ]
  },
  {
   "cell_type": "markdown",
   "metadata": {},
   "source": [
    "**4-5. Каковы средние значения и среднеквадратичные отклонения возраста тех, кто получает более 50K в год (признак *salary*) и тех, кто получает менее 50K в год? **"
   ]
  },
  {
   "cell_type": "code",
   "execution_count": 6,
   "metadata": {},
   "outputs": [
    {
     "name": "stdout",
     "output_type": "stream",
     "text": [
      "Salary:  <=50K  maen: 36.784  std: 14.02\n",
      "Salary:  >50K  maen: 44.25  std: 10.519\n"
     ]
    }
   ],
   "source": [
    "salary = [\"<=50K\",\">50K\"]\n",
    "mean_salary = [round(data[['age','salary']][data['salary'] == mean_sal]['age'].mean(),3) for mean_sal in salary]\n",
    "std_salary = [round(data[['age','salary']][data['salary'] == std_sal]['age'].std(),3) for std_sal in salary]\n",
    "\n",
    "# printing results\n",
    "[print('Salary: ', salary,' maen:', mean_salary[index],' std:', std_salary[index]) for index, salary in enumerate(salary)];"
   ]
  },
  {
   "cell_type": "markdown",
   "metadata": {},
   "source": [
    "**6. Правда ли, что люди, которые получают больше 50k, имеют как минимум высшее образование? (признак *education – Bachelors, Prof-school, Assoc-acdm, Assoc-voc, Masters* или *Doctorate*)**"
   ]
  },
  {
   "cell_type": "code",
   "execution_count": 56,
   "metadata": {},
   "outputs": [
    {
     "name": "stdout",
     "output_type": "stream",
     "text": [
      "Answer for question is:  False\n"
     ]
    }
   ],
   "source": [
    "'''\n",
    "hs_grad: target atributes\n",
    "data_grad: switch 2-columns by atributes\n",
    "hs_grad_status: check for target atributes in columns\n",
    "'''\n",
    "hs_grad_masters = ['Bachelors', 'Prof-school', 'Assoc-acdm', 'Assoc-voc', 'Masters']\n",
    "hs_grad_doctorate = ['Bachelors', 'Prof-school', 'Assoc-acdm', 'Assoc-voc', 'Doctorate']\n",
    "data_grad = data[['education','salary']][data['salary'] == '>50K']['education'].values\n",
    "hs_grad_status = [(element in (hs_grad_masters or hs_grad_doctorate)) for element in data_grad]\n",
    "\n",
    "print('Answer for question is: ', all(hs_grad_status))"
   ]
  },
  {
   "cell_type": "markdown",
   "metadata": {},
   "source": [
    "**7. Выведите статистику возраста для каждой расы (признак *race*) и каждого пола. Используйте *groupby* и *describe*. Найдите таким образом максимальный возраст мужчин расы *Amer-Indian-Eskimo*.**"
   ]
  },
  {
   "cell_type": "code",
   "execution_count": 10,
   "metadata": {
    "scrolled": true
   },
   "outputs": [
    {
     "name": "stdout",
     "output_type": "stream",
     "text": [
      "\n",
      " sex: Male \n",
      " count    192.000000\n",
      "mean      37.208333\n",
      "std       12.049563\n",
      "min       17.000000\n",
      "25%       28.000000\n",
      "50%       35.000000\n",
      "75%       45.000000\n",
      "max       82.000000\n",
      "Name: Amer-Indian-Eskimo, dtype: float64\n",
      "\n",
      " sex: Female \n",
      " count    119.000000\n",
      "mean      37.117647\n",
      "std       13.114991\n",
      "min       17.000000\n",
      "25%       27.000000\n",
      "50%       36.000000\n",
      "75%       46.000000\n",
      "max       80.000000\n",
      "Name: Amer-Indian-Eskimo, dtype: float64\n",
      "\n",
      " sex: Male   Max age: 82.0\n",
      "\n",
      " sex: Female   Max age: 80.0\n"
     ]
    }
   ],
   "source": [
    "# Grouping by race and age\n",
    "data_sex_age = [data[data['sex'] == sex].groupby(['race'])['age'].describe().loc['Amer-Indian-Eskimo'] for sex in sex_list]\n",
    "\n",
    "# Statistic by sex\n",
    "[print('\\n sex:', sex_list[index],'\\n', data_sex_age[index]) for index in range(2)];\n",
    "\n",
    "# Max age by sex\n",
    "[print('\\n sex:', sex_list[index],'  Max age:', data_sex_age[index][-1]) for index in range(2)];"
   ]
  },
  {
   "cell_type": "markdown",
   "metadata": {},
   "source": [
    "**8. Среди кого больше доля зарабатывающих много (>50K): среди женатых или холостых мужчин (признак *marital-status*)? Женатыми считаем тех, у кого *marital-status* начинается с *Married* (Married-civ-spouse, Married-spouse-absent или Married-AF-spouse), остальных считаем холостыми.**"
   ]
  },
  {
   "cell_type": "code",
   "execution_count": 11,
   "metadata": {},
   "outputs": [
    {
     "name": "stdout",
     "output_type": "stream",
     "text": [
      "merried: 13472  not merried: 2210\n"
     ]
    }
   ],
   "source": [
    "data_merried = data[['marital-status','salary']][(data['marital-status']\\\n",
    "    .apply(lambda marital: marital[0:7] == 'Married')) & (data['salary'] == '>50K')].size\n",
    "\n",
    "data_not_merried = data[['marital-status','salary']][(data['marital-status']\\\n",
    "    .apply(lambda marital: marital[0:7] != 'Married')) & (data['salary'] == '>50K')].size\n",
    "\n",
    "print(f'merried: {data_merried}  not merried: {data_not_merried}')"
   ]
  },
  {
   "cell_type": "markdown",
   "metadata": {},
   "source": [
    "**9. Какое максимальное число часов человек работает в неделю (признак *hours-per-week*)? Сколько людей работают такое количество часов и каков среди них процент зарабатывающих много?**"
   ]
  },
  {
   "cell_type": "code",
   "execution_count": 12,
   "metadata": {},
   "outputs": [
    {
     "name": "stdout",
     "output_type": "stream",
     "text": [
      "Max work hours: 99 for 50 humans\n"
     ]
    }
   ],
   "source": [
    "'''\n",
    "max_work_time: max hour for a week\n",
    "human_max_work_time: quantity of humans for max hour for a week\n",
    "'''\n",
    "max_work_time = data[['hours-per-week']].max().loc['hours-per-week']\n",
    "human_max_work_time = data[['hours-per-week','salary']][(data['salary'] == '>50K') & (data['hours-per-week'] == max_work_time)]\n",
    "\n",
    "print(f'Max work hours: {max_work_time} for {human_max_work_time.size} humans')"
   ]
  },
  {
   "cell_type": "code",
   "execution_count": null,
   "metadata": {},
   "outputs": [],
   "source": [
    "def multifun(column, mult_coef, div_coef):\n",
    "   '''\n",
    "   function for transformation of element: division by coefficient div_coef or multiplication by a coefficient mult_coef.\n",
    "\n",
    "   '''\n",
    "\n",
    "    value_mean = column.mean()\n",
    "    return np.where(column < value_mean, column*mult_coef, column/div_coef)\n",
    "\n",
    "\n",
    "multifun(array_fun[:,3], 2, 4)"
   ]
  },
  {
   "cell_type": "markdown",
   "metadata": {},
   "source": [
    "**10. Посчитайте среднее время работы (*hours-per-week*) зарабатывающих мало и много (*salary*) для каждой страны (*native-country*).**"
   ]
  },
  {
   "cell_type": "code",
   "execution_count": 13,
   "metadata": {},
   "outputs": [
    {
     "name": "stdout",
     "output_type": "stream",
     "text": [
      "salary                          <=50K       >50K\n",
      "native-country                                  \n",
      "?                           40.164760  45.547945\n",
      "Cambodia                    41.416667  40.000000\n",
      "Canada                      37.914634  45.641026\n",
      "China                       37.381818  38.900000\n",
      "Columbia                    38.684211  50.000000\n",
      "Cuba                        37.985714  42.440000\n",
      "Dominican-Republic          42.338235  47.000000\n",
      "Ecuador                     38.041667  48.750000\n",
      "El-Salvador                 36.030928  45.000000\n",
      "England                     40.483333  44.533333\n",
      "France                      41.058824  50.750000\n",
      "Germany                     39.139785  44.977273\n",
      "Greece                      41.809524  50.625000\n",
      "Guatemala                   39.360656  36.666667\n",
      "Haiti                       36.325000  42.750000\n",
      "Holand-Netherlands          40.000000        NaN\n",
      "Honduras                    34.333333  60.000000\n",
      "Hong                        39.142857  45.000000\n",
      "Hungary                     31.300000  50.000000\n",
      "India                       38.233333  46.475000\n",
      "Iran                        41.440000  47.500000\n",
      "Ireland                     40.947368  48.000000\n",
      "Italy                       39.625000  45.400000\n",
      "Jamaica                     38.239437  41.100000\n",
      "Japan                       41.000000  47.958333\n",
      "Laos                        40.375000  40.000000\n",
      "Mexico                      40.003279  46.575758\n",
      "Nicaragua                   36.093750  37.500000\n",
      "Outlying-US(Guam-USVI-etc)  41.857143        NaN\n",
      "Peru                        35.068966  40.000000\n",
      "Philippines                 38.065693  43.032787\n",
      "Poland                      38.166667  39.000000\n",
      "Portugal                    41.939394  41.500000\n",
      "Puerto-Rico                 38.470588  39.416667\n",
      "Scotland                    39.444444  46.666667\n",
      "South                       40.156250  51.437500\n",
      "Taiwan                      33.774194  46.800000\n",
      "Thailand                    42.866667  58.333333\n",
      "Trinadad&Tobago             37.058824  40.000000\n",
      "United-States               38.799127  45.505369\n",
      "Vietnam                     37.193548  39.200000\n",
      "Yugoslavia                  41.600000  49.500000\n"
     ]
    }
   ],
   "source": [
    "print(data.pivot_table(columns=['salary'], index=['native-country'], values='hours-per-week', aggfunc='mean'))\n",
    "\n",
    "# #alternative code 1\n",
    "# salary = [\"<=50K\",\">50K\"]\n",
    "# avarge_work_time_country = [data[['native-country','hours-per-week']][data['salary'] == salary_value]\\\n",
    "#     .pivot_table(['hours-per-week'], ['native-country'],aggfunc='mean') for salary_value in salary]\n",
    "# # printing results\n",
    "# [print('\\n', time_value) for time_value in avarge_work_time_country];\n",
    "\n",
    "# #alternative code 2\n",
    "# print('Average hours per week for people this small salary <=50K')\n",
    "# print(data[(data['salary']=='<=50K')].groupby(['native-country'])[ 'hours-per-week'].mean())\n",
    "# print()\n",
    "# print('Average hours per week for people this high salary >50K')\n",
    "# print(data[(data['salary']=='>50K')].groupby(['native-country'])[ 'hours-per-week'].mean())"
   ]
  },
  {
   "cell_type": "code",
   "execution_count": null,
   "metadata": {},
   "outputs": [],
   "source": []
  },
  {
   "cell_type": "code",
   "execution_count": 12,
   "metadata": {},
   "outputs": [],
   "source": [
    "# Convert to PY\n",
    "# get_ipython().system('jupyter nbconvert --to script topic2_habr_pandas.ipynb')"
   ]
  },
  {
   "cell_type": "code",
   "execution_count": 13,
   "metadata": {},
   "outputs": [],
   "source": [
    "# Time estimate\n",
    "\n",
    "# start_time = timeit.default_timer()\n",
    "# # code\n",
    "# elapsed = timeit.default_timer() - start_time\n",
    "# print(elapsed)"
   ]
  }
 ],
 "metadata": {
  "anaconda-cloud": {},
  "kernelspec": {
   "display_name": "Python 3",
   "language": "python",
   "name": "python3"
  },
  "language_info": {
   "codemirror_mode": {
    "name": "ipython",
    "version": 3
   },
   "file_extension": ".py",
   "mimetype": "text/x-python",
   "name": "python",
   "nbconvert_exporter": "python",
   "pygments_lexer": "ipython3",
   "version": "3.7.1"
  }
 },
 "nbformat": 4,
 "nbformat_minor": 1
}
