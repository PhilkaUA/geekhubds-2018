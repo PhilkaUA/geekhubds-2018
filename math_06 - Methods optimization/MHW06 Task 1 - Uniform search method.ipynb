{
 "cells": [
  {
   "cell_type": "markdown",
   "metadata": {},
   "source": [
    "# MHW06 Task 1 - Uniform search method"
   ]
  },
  {
   "cell_type": "code",
   "execution_count": 1,
   "metadata": {},
   "outputs": [],
   "source": [
    "import numpy as np\n",
    "import sympy as sp"
   ]
  },
  {
   "cell_type": "code",
   "execution_count": 2,
   "metadata": {},
   "outputs": [],
   "source": [
    "# Input function for : f(x) = x**2 - 12*x\n",
    "\n",
    "# Input symbols and symbolyc funtion for X variable\n",
    "x = sp.symbols('x')\n",
    "symbol_function = x**2 - 12*x\n",
    "  \n",
    "# Input parameters\n",
    "# Itarations\n",
    "max_iterations = 100\n",
    "# First aproximation\n",
    "x_interval = np.array([0,25])"
   ]
  },
  {
   "cell_type": "code",
   "execution_count": 13,
   "metadata": {},
   "outputs": [],
   "source": [
    "# Functions\n",
    "\n",
    "def x_few_intervals(x_interval, max_iterations):\n",
    "    '''x_interval of X on intervals\n",
    "    max_iterations - number of subintervals\n",
    "    '''\n",
    "    return x_interval[0] - range(1,max_iterations) * (x_interval[1] - x_interval[0]) / (max_iterations + 1)\n",
    "\n",
    "def f_numerical(argument):\n",
    "    '''\n",
    "    substitute numerical argument in symbolic for function\n",
    "    '''\n",
    "    global symbol_function\n",
    "    substitutions = [(x,argument)]\n",
    "    return symbol_function.subs(substitutions)\n",
    "\n",
    "# Vectorize for array\n",
    "f_numerical_vector = np.vectorize(f_numerical)\n",
    "\n",
    "# alternative\n",
    "# def f_numerical(function, argument):\n",
    "#     '''\n",
    "#     substitute numerical argument in symbolic for function\n",
    "#     '''\n",
    "#     substitutions = [(x,argument)]\n",
    "#     return function.subs(substitutions)\n"
   ]
  },
  {
   "cell_type": "code",
   "execution_count": 59,
   "metadata": {},
   "outputs": [
    {
     "name": "stdout",
     "output_type": "stream",
     "text": [
      "\n",
      " Algorithm convergence point = 0.01980\n",
      "\n",
      " minimum f(x) = 3.03157 \n",
      " x = -0.24752\n"
     ]
    }
   ],
   "source": [
    "# Main alhorytm\n",
    "\n",
    "x_argument = x_few_intervals(x_interval, max_iterations)\n",
    "f_argument = f_numerical_vector(x_argument)\n",
    "\n",
    "\n",
    "# unnpatern alternative\n",
    "#f_argument = [f_numerical(symbol_function, i) for i in x_argument]\n",
    "\n",
    "# Answer\n",
    "print(f'\\n Algorithm convergence point = {2/(max_iterations + 1):.5f}')\n",
    "print(f'\\n minimum f(x) = {min(f_argument):.5f} \\n x = {x_argument[f_argument.tolist().index(min(f_argument))]:.5f}')\n"
   ]
  },
  {
   "cell_type": "code",
   "execution_count": null,
   "metadata": {},
   "outputs": [],
   "source": []
  }
 ],
 "metadata": {
  "kernelspec": {
   "display_name": "Python 3",
   "language": "python",
   "name": "python3"
  },
  "language_info": {
   "codemirror_mode": {
    "name": "ipython",
    "version": 3
   },
   "file_extension": ".py",
   "mimetype": "text/x-python",
   "name": "python",
   "nbconvert_exporter": "python",
   "pygments_lexer": "ipython3",
   "version": "3.7.1"
  }
 },
 "nbformat": 4,
 "nbformat_minor": 2
}
