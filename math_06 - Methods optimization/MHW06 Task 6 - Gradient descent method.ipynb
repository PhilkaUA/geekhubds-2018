{
 "cells": [
  {
   "cell_type": "markdown",
   "metadata": {},
   "source": [
    "# MHW06 Task 6 - Gradient descent method\n",
    "\n",
    "#### Method of gradient descent with a constant step."
   ]
  },
  {
   "cell_type": "code",
   "execution_count": 1,
   "metadata": {},
   "outputs": [],
   "source": [
    "import numpy as np\n",
    "import sympy as sp"
   ]
  },
  {
   "cell_type": "code",
   "execution_count": null,
   "metadata": {},
   "outputs": [],
   "source": []
  },
  {
   "cell_type": "code",
   "execution_count": 2,
   "metadata": {},
   "outputs": [],
   "source": [
    "# Input function : f(x) = x1**3-x1*x2+x2**2-2*x1+3*x2-4\n",
    "\n",
    "# Input symbols and symbolyc funtion for 2 variables\n",
    "x1, x2 = sp.symbols('x1, x2')\n",
    "symbol_function = x1**3 - x1*x2 + x2**2 -  2*x1 + 3*x2 - 4\n",
    "  \n",
    "# Input parameters\n",
    "# Accuracy\n",
    "e1 = 0.1\n",
    "e2 = 0.15\n",
    "# Itarations\n",
    "max_iterations = 10\n",
    "# First aproximations\n",
    "x = np.array([[0,0],[0,0]]) # duplicate first element need for iterations\n",
    "# Step for alhorytm\n",
    "step = 0.5"
   ]
  },
  {
   "cell_type": "code",
   "execution_count": 3,
   "metadata": {},
   "outputs": [],
   "source": [
    "# Functions\n",
    "\n",
    "def f_numerical(function, argument1, argument2):\n",
    "    '''\n",
    "    substitute numerical argument in symbolic for function\n",
    "    '''\n",
    "    substitutions = [(x1,argument1),(x2,argument2)]\n",
    "    return function.subs(substitutions)\n",
    "\n",
    "def f_numerical_array(array, argument1, argument2):\n",
    "    '''\n",
    "    substitute numerical argument in symbolic for functions in array\n",
    "    substitutions - substitutions for symbolic arguments\n",
    "    first_element, second_element - elements of numerical function \n",
    "    '''\n",
    "    substitutions = [(x1,argument1),(x2,argument2)]\n",
    "    first_element = array[0].subs(substitutions)\n",
    "    second_element = array[1].subs(substitutions)\n",
    "    return np.array([first_element,second_element])\n",
    "\n",
    "def diff_function(function, argument):\n",
    "    '''Differentiation for symbolic functions'''\n",
    "    return sp.diff(function, argument)\n",
    "\n",
    "def grad_function(function, argument1, argument2):\n",
    "    '''Gradient for symbolic functions'''\n",
    "    fst_element = diff_function(symbol_function, argument1)\n",
    "    scd_element = diff_function(symbol_function, argument2)\n",
    "    return np.array([fst_element, scd_element])\n",
    "\n",
    "def array_norm(array):\n",
    "    '''Euclid norm for array'''\n",
    "    return np.linalg.norm(array.astype(float))\n",
    "\n",
    "def x_new(array, step):\n",
    "    '''New value for X argument by the step\n",
    "    array[-1] - last value of X argument\n",
    "    numerical_gradient - numerical value of gradient in X argument\n",
    "    step - step for algrytm\n",
    "    '''\n",
    "    numerical_gradient = f_numerical_array(grad_function(symbol_function,x1,x2),array[-1][0],array[-1][1])\n",
    "    new_value = array[-1] - step * numerical_gradient\n",
    "    return np.vstack((array,new_value)).astype(float)\n",
    "\n",
    "def test_accuracy_1(array, accuracy):\n",
    "    '''\n",
    "    Testing accuracy by the norm of numerical gradient \n",
    "    \n",
    "    array - values of argument X \n",
    "    accuracy - accuracy value\n",
    "    numerical_gradient - numerical value of gradient in X argument (last)\n",
    "    result: [0] is boolen, [1] is value of Euclid norm of numerical gradient\n",
    "    '''    \n",
    "    numerical_gradient = f_numerical_array(grad_function(symbol_function,x1,x2),array[-1][0],array[-1][1])\n",
    "    norm_numerical_gradient = np.linalg.norm(numerical_gradient.astype(float))\n",
    "    \n",
    "    return norm_numerical_gradient < accuracy, norm_numerical_gradient\n",
    "\n",
    "def test_accuracy_2(array, accuracy):\n",
    "    '''\n",
    "    Testing accuracy by the difference \n",
    "    between the two values of the argument and functions\n",
    "    \n",
    "    array - of argument X\n",
    "    accuracy - accuracy value\n",
    "    argument_norm - Euclid norm of argument X values\n",
    "    new_function_value, old_function_value - function value for argument X values\n",
    "       \n",
    "    result: \n",
    "    [0] is boolen test accuracy\n",
    "    [1] is value of Euclid norm of ||x(i+1) - x(i)||\n",
    "    [2] is a function difference |f(x(i+1)) - f(x(i))|\n",
    "    '''\n",
    "    argument_norm = np.linalg.norm(array[-2:])\n",
    "    new_function_value = f_numerical(symbol_function, array[-1][0], array[-1][1])\n",
    "    old_function_value = f_numerical(symbol_function, array[-2][0], array[-2][1])\n",
    "    function_difference = abs(new_function_value - old_function_value)\n",
    "    test_accuracy = (argument_norm < accuracy) and (function_difference < accuracy) \n",
    "    return test_accuracy, argument_norm, function_difference \n",
    "\n",
    "def step_iteration(step, array):\n",
    "    '''New value for step = step / 2 if accuracy is low'''\n",
    "    next_step = step\n",
    "    if not test_accuracy_2(x_new(array, next_step), e2)[0]:\n",
    "        new_step = next_step/2\n",
    "    return next_step"
   ]
  },
  {
   "cell_type": "code",
   "execution_count": 4,
   "metadata": {},
   "outputs": [
    {
     "name": "stdout",
     "output_type": "stream",
     "text": [
      " \n",
      " Answer:  \n",
      " x1 =  0.4713543978902308 \n",
      " x2 =  -1.272650420665741  \n",
      " accuracy =  0.06306376117274619  \n",
      " iterations =  6\n"
     ]
    }
   ],
   "source": [
    "# Main alhorytm\n",
    "\n",
    "x_evaluate = x \n",
    "step_evaluate = step\n",
    "for i in range(max_iterations): \n",
    "    if not test_accuracy_1(x_evaluate, e1)[0]:\n",
    "        x_evaluate = x_new(x_evaluate, step_evaluate)\n",
    "        step_evaluate = step_iteration(step_evaluate, x_evaluate)\n",
    "\n",
    "        #print resukt  for each iteration       \n",
    "#         print('\\n\\n iteration = ', i)\n",
    "#         print(' ||grad(x)|| = ', test_accuracy_1(x_evaluate, e1)[1])\n",
    "#         print(' ||x(i+1) - x(i)|| = ', test_accuracy_2(x_evaluate, e2)[1])\n",
    "#         print(' |f(x(i+1)) - f(x(i))| = ', test_accuracy_2(x_evaluate, e2)[2])\n",
    "#         print(' step = ', step_evaluate)\n",
    "#         print('\\n x1 = ', x_evaluate[-1][0],'\\n x2 = ', x_evaluate[-1][1])\n",
    "    \n",
    "    else: break\n",
    "else: print('Make more iterations')\n",
    "        \n",
    "print(' \\n Answer:',' \\n x1 = ',x_evaluate[-1][0],'\\n x2 = ',x_evaluate[-1][1],\n",
    "      ' \\n accuracy = ', test_accuracy_1(x_evaluate, e1)[1],' \\n iterations = ', i)"
   ]
  },
  {
   "cell_type": "code",
   "execution_count": null,
   "metadata": {},
   "outputs": [],
   "source": []
  }
 ],
 "metadata": {
  "kernelspec": {
   "display_name": "Python 3",
   "language": "python",
   "name": "python3"
  },
  "language_info": {
   "codemirror_mode": {
    "name": "ipython",
    "version": 3
   },
   "file_extension": ".py",
   "mimetype": "text/x-python",
   "name": "python",
   "nbconvert_exporter": "python",
   "pygments_lexer": "ipython3",
   "version": "3.6.6"
  }
 },
 "nbformat": 4,
 "nbformat_minor": 2
}
