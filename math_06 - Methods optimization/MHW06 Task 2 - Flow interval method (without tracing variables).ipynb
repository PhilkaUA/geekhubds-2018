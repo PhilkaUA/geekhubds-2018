{
 "cells": [
  {
   "cell_type": "markdown",
   "metadata": {},
   "source": [
    "# MHW06 Task 2 - Flow interval method (without tracing variables)"
   ]
  },
  {
   "cell_type": "code",
   "execution_count": 1,
   "metadata": {},
   "outputs": [],
   "source": [
    "import numpy as np\n",
    "import sympy as sp"
   ]
  },
  {
   "cell_type": "code",
   "execution_count": null,
   "metadata": {},
   "outputs": [],
   "source": []
  },
  {
   "cell_type": "code",
   "execution_count": 2,
   "metadata": {},
   "outputs": [],
   "source": [
    "# Input function for : f(x) = x**2 - 12*x\n",
    "\n",
    "# Input symbols and symbolyc funtion for X variable\n",
    "x = sp.symbols('x')\n",
    "symbol_function = x**2 - 12*x\n",
    "  \n",
    "# Input parameters\n",
    "\n",
    "# Accuracy of method\n",
    "accuracy = 0.05\n",
    "max_iterations = 100"
   ]
  },
  {
   "cell_type": "code",
   "execution_count": 3,
   "metadata": {},
   "outputs": [],
   "source": [
    "# functions\n",
    "# [-1] need to search last elements of iterations tracking alhorytm\n",
    "\n",
    "def x_pnt(left_limit, right_limit):\n",
    "    '''half of interval for X values\n",
    "    left_limit - left limit of interval\n",
    "    right_limit - right limit of interval'''\n",
    "    return (left_limit[-1] + right_limit[-1])/2\n",
    "\n",
    "\n",
    "def y_z_pnt(left_limit, right_limit):\n",
    "    '''left/right interval reduce evaluating\n",
    "    left_limit - left limit of interval\n",
    "    right_limit - right limit of interval\n",
    "    y_pnt/z_pnt - left ([0] in output) /right ([1] in output) reducing\n",
    "    '''\n",
    "    interval_len = (right_limit[-1] - left_limit[-1])\n",
    "    y_pnt = left_limit[-1] + 0.25 * abs(interval_len)\n",
    "    z_pnt = right_limit[-1] - 0.25 * abs(interval_len)\n",
    "    return y_pnt, z_pnt\n",
    "\n",
    "def f_num(argument):\n",
    "    '''\n",
    "    substitute numerical argument in symbolic for function\n",
    "    '''\n",
    "    global symbol_function\n",
    "    substitutions = [(x,argument)]\n",
    "    return symbol_function.subs(substitutions)\n",
    "\n",
    "def ab_pnt(value, initial):\n",
    "    '''\n",
    "    initial - stacks values of left/right limit\n",
    "    '''\n",
    "    return np.vstack((value, initial)).astype(float)\n",
    "\n",
    "\n",
    "def test_accuracy(a_value, b_value, accuracy):\n",
    "    '''\n",
    "    Testing accuracy by the difference \n",
    "    between the two values of arguments\n",
    "    \n",
    "    a_value, b_value - values of argument X interval limit\n",
    "    accuracy - accuracy value\n",
    "          \n",
    "    result: \n",
    "    [0] is boolen test accuracy\n",
    "    [1] is a arguments difference |a - b|\n",
    "    '''\n",
    "    difference = abs(a_value - b_value)\n",
    "    return (difference < accuracy), difference "
   ]
  },
  {
   "cell_type": "code",
   "execution_count": 13,
   "metadata": {},
   "outputs": [
    {
     "name": "stdout",
     "output_type": "stream",
     "text": [
      " \n",
      " Answer:\n",
      "\n",
      " x = 5.993 \n",
      "\n",
      " a = 5.977 \n",
      " b = 6.008         \n",
      " accuracy = 0.031         \n",
      " Alg. convergence = 0.022         \n",
      " iterations = 11\n"
     ]
    }
   ],
   "source": [
    "# Main alhorytm\n",
    "\n",
    "# X value interval\n",
    "a_init = np.array([0]) \n",
    "b_init = np.array([25])\n",
    "\n",
    "for iterations in range(max_iterations): \n",
    "      \n",
    "    # Accuracy test\n",
    "    if not test_accuracy(a_init[-1], b_init[-1], accuracy)[0]:      \n",
    "\n",
    "        # left interval\n",
    "        if f_num(y_z_pnt(a_init, b_init)[0]) < f_num(x_pnt(a_init, b_init)):\n",
    "            b_init = ab_pnt(b_init, x_pnt(a_init, b_init))\n",
    "            a_init = ab_pnt(a_init, a_init[-1])\n",
    "            \n",
    "        elif f_num(y_z_pnt(a_init, b_init)[0]) >= f_num(x_pnt(a_init, b_init)):\n",
    "            \n",
    "            # Right intervas\n",
    "            if f_num(y_z_pnt(a_init, b_init)[0]) < f_num(x_pnt(a_init, b_init)):\n",
    "                a_init = ab_pnt(a_init, x_pnt(a_init, b_init))\n",
    "                b_init = ab_pnt(b_init, b_init[-1])\n",
    "            \n",
    "            # Middle interval           \n",
    "            elif f_num(y_z_pnt(a_init, b_init)[1]) >= f_num(x_pnt(a_init, b_init)):\n",
    "                a_init = ab_pnt(a_init, y_z_pnt(a_init, b_init)[0])\n",
    "                b_init = ab_pnt(b_init, y_z_pnt(a_init, b_init)[1])\n",
    "\n",
    "        # output in iterations\n",
    "#         print(f'\\n iter: {iterations}') \n",
    "#         print(f' acc: {test_accuracy(a_init[-1], b_init[-1], accuracy)[1][0]:.3f}')        \n",
    "#         print(f' a =  {a_init[-1][0]:.3f}')\n",
    "#         print(f' b =  {b_init[-1][0]:.3f}')\n",
    "    else: break\n",
    "\n",
    "else: print('Make more iterations')\n",
    "\n",
    "x_answer = x_pnt(a_init[-1], b_init[-1])    \n",
    "\n",
    "print(f' \\n Answer:\\n\\n x = {x_answer:.3f} \\n\\n a = {a_init[-1][0]:.3f} \\n b = {b_init[-1][0]:.3f}\\\n",
    "         \\n accuracy = {test_accuracy(a_init[-1], b_init[-1], accuracy)[1][0]:.3f}\\\n",
    "         \\n Alg. convergence = {1/2**(iterations/2):.3f}\\\n",
    "         \\n iterations = {iterations}')"
   ]
  },
  {
   "cell_type": "code",
   "execution_count": null,
   "metadata": {},
   "outputs": [],
   "source": []
  }
 ],
 "metadata": {
  "kernelspec": {
   "display_name": "Python 3",
   "language": "python",
   "name": "python3"
  },
  "language_info": {
   "codemirror_mode": {
    "name": "ipython",
    "version": 3
   },
   "file_extension": ".py",
   "mimetype": "text/x-python",
   "name": "python",
   "nbconvert_exporter": "python",
   "pygments_lexer": "ipython3",
   "version": "3.6.6"
  }
 },
 "nbformat": 4,
 "nbformat_minor": 2
}
