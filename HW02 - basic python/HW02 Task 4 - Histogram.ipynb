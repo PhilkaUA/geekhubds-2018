{
 "cells": [
  {
   "cell_type": "markdown",
   "metadata": {},
   "source": [
    "# Задание 4"
   ]
  },
  {
   "cell_type": "raw",
   "metadata": {},
   "source": [
    "У вас есть гистограмма. Попробуйте найти размер самого большого прямоугольника, который можно построить из столбцов гистограммы. \n",
    "\n",
    "Исходные данные и ответы:\n",
    "\n",
    "[5] -> 5\n",
    "[5, 3] -> 6\n",
    "[1, 1, 4, 1] -> 4\n",
    "[1, 1, 3, 1] -> 4\n",
    "[2, 1, 4, 5, 1, 3, 3] -> 8"
   ]
  },
  {
   "cell_type": "markdown",
   "metadata": {},
   "source": [
    "# гистограмма"
   ]
  },
  {
   "cell_type": "code",
   "execution_count": 210,
   "metadata": {},
   "outputs": [],
   "source": [
    "# Исходные данные последовательности\n",
    "#histogram = [5]\n",
    "#histogram = [5, 3]\n",
    "#histogram = [1, 1, 4, 1]\n",
    "#histogram = [1, 1, 3, 1]\n",
    "histogram = [2, 1, 4, 5, 1, 3, 3]\n",
    "# Расчитываем поле построения гистограммы\n",
    "horisontal = len(histogram)\n",
    "vertical = max(histogram)"
   ]
  },
  {
   "cell_type": "code",
   "execution_count": 526,
   "metadata": {},
   "outputs": [
    {
     "name": "stdout",
     "output_type": "stream",
     "text": [
      "[[1, 2], [1], [1, 2, 3, 4], [1, 2, 3, 4, 5], [1], [1, 2, 3], [1, 2, 3]]\n"
     ]
    }
   ],
   "source": [
    "# Генерируем столбцы по данным гистограммы\n",
    "ploscha = []\n",
    "for i in range(len(histogram)):\n",
    "    ploscha_tmp = []\n",
    "    for j in range(1, histogram[i] + 1):\n",
    "        ploscha_tmp.append(j)\n",
    "    ploscha.append(ploscha_tmp)\n",
    "print(ploscha)"
   ]
  },
  {
   "cell_type": "code",
   "execution_count": 470,
   "metadata": {},
   "outputs": [
    {
     "name": "stdout",
     "output_type": "stream",
     "text": [
      "[[0], [0, 1], [0, 1, 2], [0, 1, 2, 3], [0, 1, 2, 3, 4], [0, 1, 2, 3, 4, 5], [0, 1, 2, 3, 4, 5, 6]]\n"
     ]
    }
   ],
   "source": [
    "# Список итераций\n",
    "index_list = []\n",
    "for j in range(1, len(histogram) + 1):\n",
    "    index_list.extend([list(range(j))])\n",
    "print(index_list)"
   ]
  },
  {
   "cell_type": "code",
   "execution_count": 548,
   "metadata": {},
   "outputs": [
    {
     "name": "stdout",
     "output_type": "stream",
     "text": [
      "(0, 1, 2, 3, 4, 5, 6)\n"
     ]
    }
   ],
   "source": [
    "# Кортеж для итераций\n",
    "index_tuple = [0 for i in range(len(histogram))]\n",
    "for i in range(len(histogram)):\n",
    "    index_tuple[i] = tuple(index_list[i])\n",
    "print(index_tuple[i])"
   ]
  },
  {
   "cell_type": "code",
   "execution_count": 516,
   "metadata": {},
   "outputs": [],
   "source": [
    "# Функция для добавления к индесам итерации переменной i  - НЕ РАБОТАТ покачто.\n",
    "def i_plus_iteration(symvol, chyslo):\n",
    "    new_summa = symvol + repr(chyslo)\n",
    "    return(print(new_summa))"
   ]
  },
  {
   "cell_type": "code",
   "execution_count": null,
   "metadata": {},
   "outputs": [],
   "source": []
  },
  {
   "cell_type": "code",
   "execution_count": 604,
   "metadata": {},
   "outputs": [
    {
     "name": "stdout",
     "output_type": "stream",
     "text": [
      "[(0,), (1,), (2,), (3,), (4,), (5,), (6,)]\n"
     ]
    }
   ],
   "source": [
    "# Cоздаем координаты перемещения прямоугольника (такое себе плавающие окно)\n",
    "koord_okno0 = []\n",
    "for i, _ in enumerate(range(len(histogram)-0)):\n",
    "    koord_okno0.append((i+0,)) # Вот тут закралась проблема не могу автоматизировать выражение (i+0,i+1), (i+0,i+1,i+2)\n",
    "print(koord_okno0)"
   ]
  },
  {
   "cell_type": "code",
   "execution_count": 562,
   "metadata": {},
   "outputs": [
    {
     "name": "stdout",
     "output_type": "stream",
     "text": [
      "[(0, 1), (1, 2), (2, 3), (3, 4), (4, 5), (5, 6)]\n"
     ]
    }
   ],
   "source": [
    "# Временное рещение\n",
    "koord_okno1 = []\n",
    "for i, _ in enumerate(range(len(histogram)-1)):\n",
    "    koord_okno1.append((i+0,i+1))\n",
    "print(koord_okno1)"
   ]
  },
  {
   "cell_type": "code",
   "execution_count": 574,
   "metadata": {},
   "outputs": [
    {
     "name": "stdout",
     "output_type": "stream",
     "text": [
      "[(0, 1, 2), (1, 2, 3), (2, 3, 4), (3, 4, 5), (4, 5, 6)]\n"
     ]
    }
   ],
   "source": [
    "# Временное рещение\n",
    "koord_okno2 = []\n",
    "for i, _ in enumerate(range(len(histogram)-2)):\n",
    "    koord_okno2.append((i+0,i+1,i+2)) \n",
    "print(koord_okno2)"
   ]
  },
  {
   "cell_type": "code",
   "execution_count": 575,
   "metadata": {},
   "outputs": [
    {
     "name": "stdout",
     "output_type": "stream",
     "text": [
      "[(0, 1, 2, 3), (1, 2, 3, 4), (2, 3, 4, 5), (3, 4, 5, 6)]\n"
     ]
    }
   ],
   "source": [
    "# Временное рещение\n",
    "koord_okno3 = []\n",
    "for i, _ in enumerate(range(len(histogram)-3)):\n",
    "    koord_okno3.append((i+0,i+1,i+2,i+3))\n",
    "print(koord_okno3)"
   ]
  },
  {
   "cell_type": "code",
   "execution_count": 556,
   "metadata": {},
   "outputs": [
    {
     "name": "stdout",
     "output_type": "stream",
     "text": [
      "[(0, 1, 2, 3, 4), (1, 2, 3, 4, 5), (2, 3, 4, 5, 6)]\n"
     ]
    }
   ],
   "source": [
    "# Временное рещение\n",
    "koord_okno4 = []\n",
    "for i, _ in enumerate(range(len(histogram)-4)):\n",
    "    koord_okno4.append((i+0,i+1,i+2,i+3,i+4))\n",
    "print(koord_okno4)"
   ]
  },
  {
   "cell_type": "code",
   "execution_count": 576,
   "metadata": {},
   "outputs": [
    {
     "name": "stdout",
     "output_type": "stream",
     "text": [
      "[(0, 1, 2, 3, 4, 5), (1, 2, 3, 4, 5, 6)]\n"
     ]
    }
   ],
   "source": [
    "# Временное рещение\n",
    "koord_okno5 = []\n",
    "for i, _ in enumerate(range(len(histogram)-5)):\n",
    "    koord_okno5.append((i+0,i+1,i+2,i+3,i+4,i+5))\n",
    "print(koord_okno5)"
   ]
  },
  {
   "cell_type": "code",
   "execution_count": 578,
   "metadata": {},
   "outputs": [
    {
     "name": "stdout",
     "output_type": "stream",
     "text": [
      "[(0, 1, 2, 3, 4, 5, 6)]\n"
     ]
    }
   ],
   "source": [
    "# Временное рещение\n",
    "koord_okno6 = []\n",
    "for i, _ in enumerate(range(len(histogram)-6)):\n",
    "    koord_okno6.append((i+0,i+1,i+2,i+3,i+4,i+5,i+6))\n",
    "print(koord_okno6)"
   ]
  },
  {
   "cell_type": "code",
   "execution_count": 559,
   "metadata": {},
   "outputs": [],
   "source": [
    "# Пример того что выше но правильно, когда функцию заставлю работать перепишу в жтом стиле\n",
    "#koord_okno = [(i,i+1) for i, _ in enumerate(range(len(histogram)))]\n",
    "#print(koord_okno)"
   ]
  },
  {
   "cell_type": "code",
   "execution_count": 605,
   "metadata": {},
   "outputs": [
    {
     "name": "stdout",
     "output_type": "stream",
     "text": [
      "[[(1,), (2,)], [(1,)], [(1,), (2,), (3,), (4,)], [(1,), (2,), (3,), (4,), (5,)], [(1,)], [(1,), (2,), (3,)], [(1,), (2,), (3,)]]\n"
     ]
    }
   ],
   "source": [
    "# Вычисляем прямоугольники по координатом, перебором через все ваарианты\n",
    "# Как и выше, тут сделано \"топорно\" показать что алгоритм работает, как доделаю функцию заработает, наверное :)\n",
    "# Проблема с расширяемым списком, ну или кортежем как и выше...\n",
    "rentagl0 = [list(zip(ploscha[i])) for i in range(len(koord_okno0))] \n",
    "print(rentagl0)"
   ]
  },
  {
   "cell_type": "code",
   "execution_count": 593,
   "metadata": {},
   "outputs": [
    {
     "name": "stdout",
     "output_type": "stream",
     "text": [
      "[[(1, 1)], [(1, 1)], [(1, 1), (2, 2), (3, 3), (4, 4)], [(1, 1)], [(1, 1)], [(1, 1), (2, 2), (3, 3)]]\n"
     ]
    }
   ],
   "source": [
    "# Вычисляем прямоугольники по координатом, перебором через все ваарианты\n",
    "# Как и выше, тут сделано \"топорно\" показать что алгоритм работает, как доделаю функцию заработает, наверное :)\n",
    "# Проблема с расширяемым списком, ну или кортежем как и выше...\n",
    "rentagl1= [list(zip(ploscha[i], ploscha[i+1])) for i in range(len(koord_okno1))] \n",
    "print(rentagl1)"
   ]
  },
  {
   "cell_type": "code",
   "execution_count": 585,
   "metadata": {},
   "outputs": [
    {
     "name": "stdout",
     "output_type": "stream",
     "text": [
      "[[(1, 1, 1)], [(1, 1, 1)], [(1, 1, 1)], [(1, 1, 1)], [(1, 1, 1)]]\n"
     ]
    }
   ],
   "source": [
    " # Временное рещение\n",
    "rentagl2 = [list(zip(ploscha[i], ploscha[i+1], ploscha[i+2])) for i in range(len(koord_okno2))]\n",
    "print(rentagl2)"
   ]
  },
  {
   "cell_type": "code",
   "execution_count": 587,
   "metadata": {},
   "outputs": [
    {
     "name": "stdout",
     "output_type": "stream",
     "text": [
      "[[(1, 1, 1, 1)], [(1, 1, 1, 1)], [(1, 1, 1, 1)], [(1, 1, 1, 1)]]\n"
     ]
    }
   ],
   "source": [
    "# Временное рещение\n",
    "rentagl3 = [list(zip(ploscha[i], ploscha[i+1], ploscha[i+2], ploscha[i+3])) for i in range(len(koord_okno3))]\n",
    "print(rentagl3)"
   ]
  },
  {
   "cell_type": "code",
   "execution_count": 588,
   "metadata": {},
   "outputs": [
    {
     "name": "stdout",
     "output_type": "stream",
     "text": [
      "[[(1, 1, 1, 1, 1)], [(1, 1, 1, 1, 1)], [(1, 1, 1, 1, 1)]]\n"
     ]
    }
   ],
   "source": [
    "# Временное рещение\n",
    "rentagl4 = [list(zip(ploscha[i], ploscha[i+1], ploscha[i+2], ploscha[i+3], ploscha[i+4])) for i in range(len(koord_okno4))]\n",
    "print(rentagl4)"
   ]
  },
  {
   "cell_type": "code",
   "execution_count": 589,
   "metadata": {},
   "outputs": [
    {
     "name": "stdout",
     "output_type": "stream",
     "text": [
      "[[(1, 1, 1, 1, 1, 1)], [(1, 1, 1, 1, 1, 1)]]\n"
     ]
    }
   ],
   "source": [
    "# Временное рещение\n",
    "rentagl5 = [list(zip(ploscha[i], ploscha[i+1], ploscha[i+2], ploscha[i+3], ploscha[i+4], ploscha[i+5])) for i in range(len(koord_okno5))]\n",
    "print(rentagl5)"
   ]
  },
  {
   "cell_type": "code",
   "execution_count": 590,
   "metadata": {},
   "outputs": [
    {
     "name": "stdout",
     "output_type": "stream",
     "text": [
      "[[(1, 1, 1, 1, 1, 1, 1)]]\n"
     ]
    }
   ],
   "source": [
    "# Временное рещение\n",
    "rentagl6 = [list(zip(ploscha[i], ploscha[i+1], ploscha[i+2], ploscha[i+3], ploscha[i+4], ploscha[i+5], ploscha[i+6])) for i in range(len(koord_okno6))]\n",
    "print(rentagl6)"
   ]
  },
  {
   "cell_type": "code",
   "execution_count": null,
   "metadata": {},
   "outputs": [],
   "source": []
  },
  {
   "cell_type": "code",
   "execution_count": 636,
   "metadata": {},
   "outputs": [],
   "source": [
    "# Определение максимальной площади прямоугольникой\n",
    "maxRentagl0 = max([len(rentagl0[i])*1 for i in range(len(rentagl0))])\n",
    "#print(maxRentagl0)\n",
    "maxRentagl1 = max([len(rentagl1[i])*2 for i in range(len(rentagl1))])\n",
    "#print(maxRentagl1)\n",
    "maxRentagl2 = max([len(rentagl2[i])*3 for i in range(len(rentagl2))])\n",
    "#print(maxRentagl2)\n",
    "maxRentagl3 = max([len(rentagl3[i])*4 for i in range(len(rentagl3))])\n",
    "#print(maxRentagl3)\n",
    "maxRentagl4 = max([len(rentagl4[i])*5 for i in range(len(rentagl4))])\n",
    "#print(maxRentagl4)\n",
    "maxRentagl5 = max([len(rentagl5[i])*6 for i in range(len(rentagl5))])\n",
    "#print(maxRentagl5)\n",
    "maxRentagl6 = max([len(rentagl6[i])*7 for i in range(len(rentagl6))])\n",
    "#print(maxRentagl6)"
   ]
  },
  {
   "cell_type": "code",
   "execution_count": 635,
   "metadata": {},
   "outputs": [
    {
     "name": "stdout",
     "output_type": "stream",
     "text": [
      "Ответ:  8\n"
     ]
    }
   ],
   "source": [
    "#Результат для 4-ой гистограммы\n",
    "print('Ответ: ', max([maxRentagl0, maxRentagl1, maxRentagl2, maxRentagl3, maxRentagl4, maxRentagl5, maxRentagl6]))"
   ]
  },
  {
   "cell_type": "code",
   "execution_count": null,
   "metadata": {},
   "outputs": [],
   "source": [
    "# Все выглядит не алгоритмично из-за того что не удалось написать функцию генерации выражения (i),(i,i+1),(i,i+1,i+2),(i,i+1,i+2,i+3)\n",
    "# если сможете помогите написать что я не мучился :)"
   ]
  }
 ],
 "metadata": {
  "kernelspec": {
   "display_name": "Python 3",
   "language": "python",
   "name": "python3"
  },
  "language_info": {
   "codemirror_mode": {
    "name": "ipython",
    "version": 3
   },
   "file_extension": ".py",
   "mimetype": "text/x-python",
   "name": "python",
   "nbconvert_exporter": "python",
   "pygments_lexer": "ipython3",
   "version": "3.6.5"
  }
 },
 "nbformat": 4,
 "nbformat_minor": 2
}
