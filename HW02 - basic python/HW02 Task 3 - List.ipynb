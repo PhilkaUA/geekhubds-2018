{
 "cells": [
  {
   "cell_type": "markdown",
   "metadata": {},
   "source": [
    "# Задание 5"
   ]
  },
  {
   "cell_type": "markdown",
   "metadata": {},
   "source": [
    " Дан случайный список, состоящий из 0 и 1. Найти индекс, с которого начинается самая длинная непрерывная последовательность 1. Если таких несколько достаточно указать индекс первой из них.\n",
    "Примеры последовательностей:\n",
    "[1, 0, 0, 0, 0, 0, 1, 1, 1, 1, 1, 1, 0, 1, 1, 1, 1, 1, 0, 0, 0, 0, 1, 1, 0, 1, 0, 0, 1, 1, 1, 1, 1, 0, 0, 1, 0, 1, 0, 0, 1, 1, 1, 0, 1, 0, 0, 0, 1, 1]\n",
    "[0, 1, 0, 0, 0, 1, 1, 0, 1, 1, 1, 1, 1, 0, 0, 0, 1, 0, 0, 1, 1, 1, 0, 1, 1, 0, 0, 1, 0, 0, 1, 1, 0, 1, 1, 1, 1, 0, 1, 0, 0, 1, 0, 1, 0, 1, 0, 1, 1, 1]\n",
    "[1, 0, 0, 1, 1, 0, 0, 0, 1, 1, 0, 0, 0, 1, 0, 1, 1, 0, 1, 0, 1, 1, 0, 0, 1, 0, 0, 1, 1, 0, 1, 1, 1, 0, 1, 0, 1, 0, 1, 1, 0, 1, 1, 0, 1, 1, 0, 0, 1, 1]\n",
    "P.S. попробуйте сделать это красиво и питонично. "
   ]
  },
  {
   "cell_type": "code",
   "execution_count": 524,
   "metadata": {},
   "outputs": [
    {
     "name": "stdout",
     "output_type": "stream",
     "text": [
      "[1, 0, 0, 0, 0, 0, 1, 1, 1, 1, 1, 1, 0, 1, 1, 1, 1, 1, 0, 0, 0, 0, 1, 1, 0, 1, 0, 0, 1, 1, 1, 1, 1, 0, 0, 1, 0, 1, 0, 0, 1, 1, 1, 0, 1, 0, 0, 0, 0, 1]\n"
     ]
    }
   ],
   "source": [
    "# Пример последовательности\n",
    "list_1 = [1, 0, 0, 0, 0, 0, 1, 1, 1, 1, 1, 1, 0, 1, 1, 1, 1, 1, 0, 0, 0, 0, 1, 1, 0, 1, 0, 0, 1, 1, 1, 1, 1, 0, 0, 1, 0, 1, 0, 0, 1, 1, 1, 0, 1, 0, 0, 0, 0, 1]\n",
    "#list_1 = [0, 1, 0, 0, 0, 1, 1, 0, 1, 1, 1, 1, 1, 0, 0, 0, 1, 0, 0, 1, 1, 1, 0, 1, 1, 0, 0, 1, 0, 0, 1, 1, 0, 1, 1, 1, 1, 0, 1, 0, 0, 1, 0, 1, 0, 1, 0, 1, 1, 1]\n",
    "#list_1 = [1, 0, 0, 1, 1, 0, 0, 0, 1, 1, 0, 0, 0, 1, 0, 1, 1, 0, 1, 0, 1, 1, 0, 0, 1, 0, 0, 1, 1, 0, 1, 1, 1, 0, 1, 0, 1, 0, 1, 1, 0, 1, 1, 0, 1, 1, 0, 0, 1, 1]\n",
    "print(list_1)"
   ]
  },
  {
   "cell_type": "code",
   "execution_count": null,
   "metadata": {},
   "outputs": [],
   "source": [
    " # Для решения задачи функцю .split не использовал, так как подобный код есть на 1-ом уровен у меня. Но если нада, перепишу."
   ]
  },
  {
   "cell_type": "code",
   "execution_count": 525,
   "metadata": {},
   "outputs": [],
   "source": [
    "# Функция для возвращения следуещего елемента в списке\n",
    "def next_element(index, spisok):\n",
    "    for i, _ in enumerate(spisok):\n",
    "        if i < len(spisok) - 1:\n",
    "            next_element = spisok[index + 1]\n",
    "    return(next_element)"
   ]
  },
  {
   "cell_type": "code",
   "execution_count": 526,
   "metadata": {},
   "outputs": [
    {
     "name": "stdout",
     "output_type": "stream",
     "text": [
      "[1, 6, 12, 13, 18, 22, 24, 25, 26, 28, 33, 35, 36, 37, 38, 40, 43, 44, 45, 49]\n"
     ]
    }
   ],
   "source": [
    "# Определяем индексы списка при изменении значений в списке\n",
    "izmen_index_ = [i + 1 for i, j in enumerate(list_1[:len(list_1) - 1]) if j != next_element(i, list_1)]\n",
    "izmen_index = izmen_index_.copy()\n",
    "print(izmen_index)"
   ]
  },
  {
   "cell_type": "code",
   "execution_count": 527,
   "metadata": {},
   "outputs": [
    {
     "name": "stdout",
     "output_type": "stream",
     "text": [
      "[0, 1, 6, 12, 13, 18, 22, 24, 25, 26, 28, 33, 35, 36, 37, 38, 40, 43, 44, 45, 49]\n"
     ]
    }
   ],
   "source": [
    "# Вставляем ноль, при единичном интервале в начале списка\n",
    "if izmen_index[0] == 1:\n",
    "    izmen_index.insert(0, 0)\n",
    "print(izmen_index)"
   ]
  },
  {
   "cell_type": "code",
   "execution_count": 528,
   "metadata": {},
   "outputs": [
    {
     "name": "stdout",
     "output_type": "stream",
     "text": [
      "[(0, 1), (1, 5), (2, 6), (3, 1), (4, 5), (5, 4), (6, 2), (7, 1), (8, 1), (9, 2), (10, 5), (11, 2), (12, 1), (13, 1), (14, 1), (15, 2), (16, 3), (17, 1), (18, 1), (19, 4)]\n"
     ]
    }
   ],
   "source": [
    "# Определяем длинну интеварла элементов\n",
    "izmen_element = [(i, abs(next_element(i, izmen_index) - j)) for i, j in enumerate(izmen_index[:len(izmen_index) - 1])]\n",
    "print(izmen_element)"
   ]
  },
  {
   "cell_type": "code",
   "execution_count": 529,
   "metadata": {},
   "outputs": [
    {
     "name": "stdout",
     "output_type": "stream",
     "text": [
      "максимально количество элементов подряд:  6\n"
     ]
    }
   ],
   "source": [
    "# Cортируем по 2-му элементу и выводим результат\n",
    "sorted_by_Max = sorted(izmen_element, key=lambda tup: tup[1])\n",
    "print('максимально количество элементов подряд: ', sorted_by_Max[-1][1])"
   ]
  },
  {
   "cell_type": "code",
   "execution_count": null,
   "metadata": {},
   "outputs": [],
   "source": []
  },
  {
   "cell_type": "code",
   "execution_count": null,
   "metadata": {},
   "outputs": [],
   "source": []
  },
  {
   "cell_type": "code",
   "execution_count": null,
   "metadata": {},
   "outputs": [],
   "source": []
  },
  {
   "cell_type": "code",
   "execution_count": null,
   "metadata": {},
   "outputs": [],
   "source": []
  }
 ],
 "metadata": {
  "kernelspec": {
   "display_name": "Python 3",
   "language": "python",
   "name": "python3"
  },
  "language_info": {
   "codemirror_mode": {
    "name": "ipython",
    "version": 3
   },
   "file_extension": ".py",
   "mimetype": "text/x-python",
   "name": "python",
   "nbconvert_exporter": "python",
   "pygments_lexer": "ipython3",
   "version": "3.6.5"
  }
 },
 "nbformat": 4,
 "nbformat_minor": 2
}
