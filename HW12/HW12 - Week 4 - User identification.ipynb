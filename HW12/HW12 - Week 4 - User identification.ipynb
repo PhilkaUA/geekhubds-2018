{
 "cells": [
  {
   "cell_type": "markdown",
   "metadata": {},
   "source": [
    "# <center> Capstone проект №1 <br> Идентификация пользователей по посещенным веб-страницам\n",
    "\n",
    "# <center>Неделя 4.  Сравнение алгоритмов классификации\n",
    "\n",
    "Теперь мы наконец подойдем к обучению моделей классификации, сравним на кросс-валидации несколько алгоритмов, разберемся, какие параметры длины сессии (*session_length* и *window_size*) лучше использовать. Также для выбранного алгоритма построим кривые валидации (как качество классификации зависит от одного из гиперпараметров алгоритма) и кривые обучения (как качество классификации зависит от объема выборки).\n",
    "\n",
    "**План 4 недели:**\n",
    "- Часть 1. Сравнение нескольких алгоритмов на сессиях из 10 сайтов\n",
    "- Часть 2. Выбор параметров – длины сессии и ширины окна\n",
    "- Часть 3. Идентификация  конкретного пользователя и кривые обучения"
   ]
  },
  {
   "cell_type": "code",
   "execution_count": 1,
   "metadata": {},
   "outputs": [],
   "source": [
    "# pip install watermark\n",
    "%load_ext watermark"
   ]
  },
  {
   "cell_type": "code",
   "execution_count": 2,
   "metadata": {},
   "outputs": [
    {
     "name": "stdout",
     "output_type": "stream",
     "text": [
      "CPython 3.7.1\n",
      "IPython 7.2.0\n",
      "\n",
      "numpy 1.15.4\n",
      "scipy 1.1.0\n",
      "pandas 0.23.4\n",
      "matplotlib 3.0.1\n",
      "statsmodels 0.9.0\n",
      "sklearn 0.20.2\n",
      "\n",
      "compiler   : MSC v.1912 64 bit (AMD64)\n",
      "system     : Windows\n",
      "release    : 7\n",
      "machine    : AMD64\n",
      "processor  : AMD64 Family 16 Model 2 Stepping 3, AuthenticAMD\n",
      "CPU cores  : 4\n",
      "interpreter: 64bit\n",
      "Git hash   :\n"
     ]
    }
   ],
   "source": [
    "%watermark -v -m -p numpy,scipy,pandas,matplotlib,statsmodels,sklearn -g"
   ]
  },
  {
   "cell_type": "code",
   "execution_count": 3,
   "metadata": {},
   "outputs": [],
   "source": [
    "from __future__ import division, print_function\n",
    "\n",
    "import itertools\n",
    "import numpy as np\n",
    "import pandas as pd\n",
    "import pickle\n",
    "import os\n",
    "import seaborn as sns\n",
    "import timeit\n",
    "import warnings\n",
    "\n",
    "from matplotlib import pyplot as plt\n",
    "from scipy.sparse import csr_matrix\n",
    "from sklearn.model_selection import train_test_split, cross_val_score, StratifiedKFold, GridSearchCV\n",
    "from sklearn.metrics import accuracy_score, f1_score\n",
    "from time import time\n",
    "warnings.filterwarnings('ignore')\n",
    "%matplotlib inline"
   ]
  },
  {
   "cell_type": "code",
   "execution_count": 4,
   "metadata": {},
   "outputs": [
    {
     "data": {
      "text/plain": [
       "'C:\\\\Users\\\\philka-ua\\\\geekhubds\\\\HW09'"
      ]
     },
     "execution_count": 4,
     "metadata": {},
     "output_type": "execute_result"
    }
   ],
   "source": [
    "# Поменяйте на свой путь к данным\n",
    "# Path to HW09 files\n",
    "PATH_TO_DATA = os.path.join(os.path.dirname(os.path.abspath(os.curdir)),'HW09')\n",
    "PATH_TO_DATA"
   ]
  },
  {
   "cell_type": "markdown",
   "metadata": {},
   "source": [
    "**Загрузим сериализованные ранее объекты *X_sparse_10users* и *y_10users*, соответствующие обучающей выборке для 10 пользователей.**"
   ]
  },
  {
   "cell_type": "code",
   "execution_count": 5,
   "metadata": {},
   "outputs": [],
   "source": [
    "with open(os.path.join(PATH_TO_DATA, 'X_sparse_10users.pkl'), 'rb') as X_sparse_10users_pkl:\n",
    "    X_sparse_10users = pickle.load(X_sparse_10users_pkl)\n",
    "with open(os.path.join(PATH_TO_DATA, 'y_10users.pkl'), 'rb') as y_10users_pkl:\n",
    "    y_10users = pickle.load(y_10users_pkl)"
   ]
  },
  {
   "cell_type": "markdown",
   "metadata": {},
   "source": [
    "**Здесь более 14 тысяч сессий и почти 5 тысяч уникальных посещенных сайтов.**"
   ]
  },
  {
   "cell_type": "code",
   "execution_count": 6,
   "metadata": {},
   "outputs": [
    {
     "data": {
      "text/plain": [
       "(14061, 4913)"
      ]
     },
     "execution_count": 6,
     "metadata": {},
     "output_type": "execute_result"
    }
   ],
   "source": [
    "X_sparse_10users.shape"
   ]
  },
  {
   "cell_type": "markdown",
   "metadata": {},
   "source": [
    "**Разобьем выборку на 2 части. На одной будем проводить кросс-валидацию, на второй – оценивать модель, обученную после кросс-валидации.**"
   ]
  },
  {
   "cell_type": "code",
   "execution_count": 7,
   "metadata": {},
   "outputs": [],
   "source": [
    "X_train, X_valid, y_train, y_valid = train_test_split(X_sparse_10users, y_10users, \n",
    "                                                      test_size=0.3, \n",
    "                                                     random_state=17, stratify=y_10users)"
   ]
  },
  {
   "cell_type": "markdown",
   "metadata": {},
   "source": [
    "**Зададим заранее тип кросс-валидации: 3-кратная, с перемешиванием, параметр random_state=17 – для воспроизводимости.**"
   ]
  },
  {
   "cell_type": "code",
   "execution_count": 8,
   "metadata": {},
   "outputs": [],
   "source": [
    "skf = StratifiedKFold(n_splits=3, shuffle=True, random_state=17)"
   ]
  },
  {
   "cell_type": "markdown",
   "metadata": {},
   "source": [
    "**Вспомогательная функция для отрисовки кривых валидации после запуска GridSearchCV (или RandomizedCV).**"
   ]
  },
  {
   "cell_type": "code",
   "execution_count": 9,
   "metadata": {},
   "outputs": [],
   "source": [
    "def plot_validation_curves(param_values, grid_cv_results_):\n",
    "    train_mu, train_std = grid_cv_results_['mean_train_score'], grid_cv_results_['std_train_score']\n",
    "    valid_mu, valid_std = grid_cv_results_['mean_test_score'], grid_cv_results_['std_test_score']\n",
    "    train_line = plt.plot(param_values, train_mu, '-', label='train', color='green')\n",
    "    valid_line = plt.plot(param_values, valid_mu, '-', label='test', color='red')\n",
    "    plt.fill_between(param_values, train_mu - train_std, train_mu + train_std, edgecolor='none',\n",
    "                     facecolor=train_line[0].get_color(), alpha=0.2)\n",
    "    plt.fill_between(param_values, valid_mu - valid_std, valid_mu + valid_std, edgecolor='none',\n",
    "                     facecolor=valid_line[0].get_color(), alpha=0.2)\n",
    "    plt.legend()"
   ]
  },
  {
   "cell_type": "markdown",
   "metadata": {},
   "source": [
    "**1. Обучите логистическую регрессию (`LogisticRegression`) с параметром `C` по умолчанию и `random_state`=17 (для воспроизводимости). Посмотрите на долю правильных ответов на кросс-валидации (используйте объект `skf`, созданный ранее) и на выборке `(X_valid, y_valid)`. Для распараллеливания задайте `n_jobs=-1`.**"
   ]
  },
  {
   "cell_type": "code",
   "execution_count": 9,
   "metadata": {},
   "outputs": [],
   "source": [
    "from sklearn import model_selection, datasets, linear_model, metrics\n",
    "from sklearn.linear_model import LogisticRegression, LogisticRegressionCV\n",
    "from sklearn.model_selection import cross_validate"
   ]
  },
  {
   "cell_type": "code",
   "execution_count": 10,
   "metadata": {},
   "outputs": [
    {
     "name": "stdout",
     "output_type": "stream",
     "text": [
      "Wall time: 5min 11s\n"
     ]
    }
   ],
   "source": [
    "%%time\n",
    "# Logistic Regression model\n",
    "logit = LogisticRegression(random_state=17)\n",
    "logit.fit(X_train, y_train)\n",
    "predictions_logit = logit.predict(X_valid)\n",
    "\n",
    "# Linear Regression model\n",
    "linear_regressor = linear_model.LinearRegression()\n",
    "linear_regressor.fit(X_train, y_train)\n",
    "predictions_linear = linear_regressor.predict(X_valid)"
   ]
  },
  {
   "cell_type": "code",
   "execution_count": 11,
   "metadata": {},
   "outputs": [
    {
     "name": "stdout",
     "output_type": "stream",
     "text": [
      "\n",
      "Logistic: mean absolute error 0.79 \n",
      "Linear: mean absolute error 1.37 \n",
      " \n",
      "Score: linear regression 0.34\n",
      "Score: logistic regression 0.762\n"
     ]
    }
   ],
   "source": [
    "# Mean absolute error and Score\n",
    "print(f'\\nLogistic: mean absolute error {metrics.mean_absolute_error(y_valid, predictions_logit):.3} ')\n",
    "print(f'Linear: mean absolute error {metrics.mean_absolute_error(y_valid, predictions_linear):.3} \\n ')\n",
    "\n",
    "# Use score method to get accuracy of model\n",
    "score_linear = linear_regressor.score(X_valid, y_valid)\n",
    "score_logistic = logit.score(X_valid, y_valid)\n",
    "\n",
    "print(f'Score: linear regression {score_linear:.3}')\n",
    "print(f'Score: logistic regression {score_logistic:.3}')"
   ]
  },
  {
   "cell_type": "code",
   "execution_count": 12,
   "metadata": {},
   "outputs": [
    {
     "name": "stdout",
     "output_type": "stream",
     "text": [
      "Score CV: linear regression -0.29\n",
      "Score CV: logistic regression 0.738\n",
      "Wall time: 1min 52s\n"
     ]
    }
   ],
   "source": [
    "%%time\n",
    "# Cross-valiadations scores\n",
    "# https://scikit-learn.org/stable/modules/cross_validation.html\n",
    "\n",
    "cvs_score_logistic = cross_val_score(logit, X_train, y_train, cv=skf, n_jobs=-1).mean()\n",
    "cvs_score_linear = cross_val_score(linear_regressor, X_train, y_train, cv=skf, n_jobs=-1).mean()\n",
    "\n",
    "print(f'Score CV: linear regression {cvs_score_linear:.3}')\n",
    "print(f'Score CV: logistic regression {cvs_score_logistic:.3}')"
   ]
  },
  {
   "cell_type": "markdown",
   "metadata": {},
   "source": [
    "**Почитайте документацию к [LogisticRegressionCV](http://scikit-learn.org/stable/modules/generated/sklearn.linear_model.LogisticRegressionCV.html). Логистическая регрессия хорошо изучена, и для нее существуют алгоритмы быстрого подбора параметра регуляризации `C` (быстрее, чем с `GridSearchCV`).**\n",
    "\n",
    "**С помощью `LogisticRegressionCV` подберите параметр `C` для `LogisticRegression` сначала в широком диапазоне: 10 значений от 1e-4 до 1e2, используйте `logspace` из `NumPy`. Укажите у `LogisticRegressionCV` параметры `multi_class`='multinomial' и `random_state`=17. Для кросс-валидации используйте объект `skf`, созданный ранее. Для распараллеливания задайте `n_jobs=-1`.**\n",
    "\n",
    "**Нарисуйте кривые валидации по параметру `C`.**"
   ]
  },
  {
   "cell_type": "code",
   "execution_count": 13,
   "metadata": {},
   "outputs": [
    {
     "name": "stdout",
     "output_type": "stream",
     "text": [
      "Wall time: 1min 11s\n"
     ]
    }
   ],
   "source": [
    "%%time\n",
    "logit_c_values1 = np.logspace(1e-4, 1e2, 10)\n",
    "\n",
    "logit_grid_searcher1 = LogisticRegressionCV(Cs=logit_c_values1, multi_class='multinomial',\\\n",
    "                                            random_state=17, cv=skf, n_jobs=-1)\n",
    "logit_grid_searcher1.fit(X_train, y_train)"
   ]
  },
  {
   "cell_type": "markdown",
   "metadata": {},
   "source": [
    "Средние значения доли правильных ответов на кросс-валидации по каждому из 10 параметров `C`."
   ]
  },
  {
   "cell_type": "code",
   "execution_count": 15,
   "metadata": {},
   "outputs": [
    {
     "name": "stdout",
     "output_type": "stream",
     "text": [
      "CV score values:\n",
      " [0.75432225 0.75036264 0.75198859 0.75005785 0.75026046 0.74954867\n",
      " 0.74833132 0.7477212  0.74731581 0.74629865] \n",
      "\n"
     ]
    }
   ],
   "source": [
    "# C values\n",
    "c_values = logit_grid_searcher1.Cs_\n",
    "\n",
    "# CV scores (for 1 class other the same)\n",
    "logit_mean_cv_scores1 = logit_grid_searcher1.scores_[1].mean(axis=0)\n",
    "\n",
    "print(f'CV score values:\\n {logit_mean_cv_scores1} \\n')\n",
    "\n",
    "# # NOT Multiclass\n",
    "# # CV scores\n",
    "# logit_grid_searcher1_mean_scores = [*map(lambda x: x.mean(axis=0), logit_grid_searcher1.scores_.values())]\n",
    "\n",
    "# # Index for max score mean(elements)\n",
    "# index_max_mean_score = max( enumerate(map(lambda x: x.mean(), logit_grid_searcher1_mean_scores)) , key=lambda x:x[1])[0]\n",
    "\n",
    "# # C values\n",
    "# c_values = logit_grid_searcher1.Cs_\n",
    "# C_values_round = list( map(lambda x: round(x, 5), map(float, c_values)) )\n",
    "\n",
    "# print(f'C values: {C_values_round}')"
   ]
  },
  {
   "cell_type": "markdown",
   "metadata": {},
   "source": [
    "Выведите лучшее значение доли правильных ответов на кросс-валидации и соответствующее значение `C`."
   ]
  },
  {
   "cell_type": "code",
   "execution_count": 17,
   "metadata": {},
   "outputs": [
    {
     "name": "stdout",
     "output_type": "stream",
     "text": [
      "Max CV score: 0.75432    C value: 1.00023\n"
     ]
    }
   ],
   "source": [
    "print(f'Max CV score: {logit_mean_cv_scores1.max():.5f}\\\n",
    "    C value: {logit_grid_searcher1.Cs_[logit_mean_cv_scores1.argmax()]:.5f}')\n",
    "\n",
    "# print(f'Max CV score: {logit_grid_searcher1_mean_scores[index_max_mean_score].max():.5f}\\\n",
    "#     C value: {logit_grid_searcher1.Cs_[index_max_mean_score]}')"
   ]
  },
  {
   "cell_type": "markdown",
   "metadata": {},
   "source": [
    "Нарисуйте график зависимости доли правильных ответов на кросс-валидации от `C`."
   ]
  },
  {
   "cell_type": "code",
   "execution_count": 18,
   "metadata": {},
   "outputs": [
    {
     "data": {
      "image/png": "[encoded data removed]",
      "text/plain": [
       "<Figure size 432x288 with 1 Axes>"
      ]
     },
     "metadata": {
      "needs_background": "light"
     },
     "output_type": "display_data"
    }
   ],
   "source": [
    "# Graphics\n",
    "plt.semilogx(logit_c_values1, logit_mean_cv_scores1)\n",
    "plt.title('Score(C)')\n",
    "plt.xlabel('C value')\n",
    "plt.ylabel('Score value')\n",
    "plt.grid(True)"
   ]
  },
  {
   "cell_type": "markdown",
   "metadata": {},
   "source": [
    "**Теперь то же самое, только значения параметра `C` перебирайте в диапазоне `np.linspace`(0.1, 7, 20). Опять нарисуйте кривые валидации, определите максимальное значение доли правильных ответов на кросс-валидации.**"
   ]
  },
  {
   "cell_type": "code",
   "execution_count": 19,
   "metadata": {},
   "outputs": [
    {
     "name": "stdout",
     "output_type": "stream",
     "text": [
      "Wall time: 2min 32s\n"
     ]
    }
   ],
   "source": [
    "%%time\n",
    "logit_c_values2 = np.linspace(0.1, 7, 20)\n",
    "\n",
    "logit_grid_searcher2 = LogisticRegressionCV(Cs=logit_c_values2, multi_class='multinomial', random_state=17,\\\n",
    "                                            cv=skf, n_jobs=-1)\n",
    "logit_grid_searcher2.fit(X_train, y_train)"
   ]
  },
  {
   "cell_type": "markdown",
   "metadata": {},
   "source": [
    "Средние значения доли правильных ответов на кросс-валидации по каждому из 10 параметров `C`."
   ]
  },
  {
   "cell_type": "code",
   "execution_count": 20,
   "metadata": {},
   "outputs": [
    {
     "name": "stdout",
     "output_type": "stream",
     "text": [
      "CV score values:\n",
      " [0.75483063 0.75158187 0.75168474 0.74975273 0.74995685 0.74954957\n",
      " 0.74843422 0.7469084  0.7465036  0.74650357 0.74528517 0.74487842\n",
      " 0.74457385 0.74487823 0.74426897 0.74447201 0.74406569 0.74568945\n",
      " 0.74518129 0.74487669] \n",
      "\n"
     ]
    }
   ],
   "source": [
    "# C values\n",
    "c_values = logit_grid_searcher2.Cs_\n",
    "\n",
    "# CV scores (for 1 class other the same)\n",
    "logit_mean_cv_scores2 = logit_grid_searcher2.scores_[1].mean(axis=0)\n",
    "\n",
    "print(f'CV score values:\\n {logit_mean_cv_scores2} \\n')"
   ]
  },
  {
   "cell_type": "markdown",
   "metadata": {},
   "source": [
    "Выведите лучшее значение доли правильных ответов на кросс-валидации и соответствующее значение `C`."
   ]
  },
  {
   "cell_type": "code",
   "execution_count": 21,
   "metadata": {},
   "outputs": [
    {
     "name": "stdout",
     "output_type": "stream",
     "text": [
      "Max CV score: 0.75483    C value: 0.10000\n"
     ]
    }
   ],
   "source": [
    "print(f'Max CV score: {logit_mean_cv_scores2.max():.5f}\\\n",
    "    C value: {logit_grid_searcher2.Cs_[logit_mean_cv_scores2.argmax()]:.5f}')"
   ]
  },
  {
   "cell_type": "markdown",
   "metadata": {},
   "source": [
    "Нарисуйте график зависимости доли правильных ответов на кросс-валидации от `C`."
   ]
  },
  {
   "cell_type": "code",
   "execution_count": 22,
   "metadata": {},
   "outputs": [
    {
     "data": {
      "image/png": "[encoded data removed]",
      "text/plain": [
       "<Figure size 432x288 with 1 Axes>"
      ]
     },
     "metadata": {
      "needs_background": "light"
     },
     "output_type": "display_data"
    }
   ],
   "source": [
    "plt.plot(logit_c_values2, logit_mean_cv_scores2)\n",
    "plt.title('Score(C)')\n",
    "plt.xlabel('C value')\n",
    "plt.ylabel('Score value')\n",
    "plt.grid(True)"
   ]
  },
  {
   "cell_type": "markdown",
   "metadata": {},
   "source": [
    "Выведите долю правильных ответов на выборке `(X_valid, y_valid)` для логистической регрессии с лучшим найденным значением `C`."
   ]
  },
  {
   "cell_type": "code",
   "execution_count": 22,
   "metadata": {},
   "outputs": [
    {
     "name": "stdout",
     "output_type": "stream",
     "text": [
      "Accuracy score: 0.78573\n"
     ]
    }
   ],
   "source": [
    "logit_cv_acc = accuracy_score(y_valid, logit_grid_searcher1.predict(X_valid))\n",
    "\n",
    "print(f'Accuracy score: {logit_cv_acc:.5f}')"
   ]
  },
  {
   "cell_type": "markdown",
   "metadata": {},
   "source": [
    "**<font color='red'>Вопрос 1. </font>Посчитайте доли правильных ответов для `logit_grid_searcher2` на кросс-валидации для лучшего значения параметра `C` и на отложенной выборке. Округлите каждое до 3 знаков после запятой и выведите через пробел.**"
   ]
  },
  {
   "cell_type": "code",
   "execution_count": 23,
   "metadata": {},
   "outputs": [
    {
     "name": "stdout",
     "output_type": "stream",
     "text": [
      "Max CV score: 0.754  Accurasy test on y_valid: 0.786\n"
     ]
    }
   ],
   "source": [
    "print(f'Max CV score: {logit_mean_cv_scores2.max():.3f}  Accurasy test on y_valid: {logit_cv_acc:.3f}')\n"
   ]
  },
  {
   "cell_type": "markdown",
   "metadata": {},
   "source": [
    "**2. Обучите линейный SVM (`LinearSVC`) с параметром `C`=1 и `random_state`=17 (для воспроизводимости). Посмотрите на долю правильных ответов на кросс-валидации (используйте объект `skf`, созданный ранее) и на выборке `(X_valid, y_valid)`.**"
   ]
  },
  {
   "cell_type": "code",
   "execution_count": 24,
   "metadata": {},
   "outputs": [],
   "source": [
    "from sklearn.svm import LinearSVC"
   ]
  },
  {
   "cell_type": "code",
   "execution_count": 25,
   "metadata": {},
   "outputs": [],
   "source": [
    "svm = LinearSVC(random_state=17)"
   ]
  },
  {
   "cell_type": "markdown",
   "metadata": {},
   "source": [
    "**С помощью `GridSearchCV` подберите параметр `C` для SVM сначала в широком диапазоне: 10 значений от 1e-4 до 1e4, используйте `linspace` из NumPy. Нарисуйте кривые валидации.**"
   ]
  },
  {
   "cell_type": "code",
   "execution_count": 26,
   "metadata": {},
   "outputs": [
    {
     "name": "stdout",
     "output_type": "stream",
     "text": [
      "Wall time: 1min 2s\n"
     ]
    }
   ],
   "source": [
    "%%time\n",
    "svm_params1 = {'C': np.linspace(1e-4, 1e4, 10)}\n",
    "\n",
    "svm_grid_searcher1 = GridSearchCV(svm, param_grid=svm_params1, cv=skf, n_jobs=-1)\n",
    "svm_grid_searcher1.fit(X_train, y_train)"
   ]
  },
  {
   "cell_type": "markdown",
   "metadata": {},
   "source": [
    "Выведите лучшее значение доли правильных ответов на кросс-валидации и соответствующее значение `C`."
   ]
  },
  {
   "cell_type": "code",
   "execution_count": 27,
   "metadata": {},
   "outputs": [
    {
     "name": "stdout",
     "output_type": "stream",
     "text": [
      "Max CV score: 0.72861  C value: 0.00010\n"
     ]
    }
   ],
   "source": [
    "print(f'Max CV score: {svm_grid_searcher1.best_score_:.5f}  C value: {svm_grid_searcher1.best_estimator_.C:.5f}')"
   ]
  },
  {
   "cell_type": "markdown",
   "metadata": {},
   "source": [
    "Нарисуйте график зависимости доли правильных ответов на кросс-валидации от `C`."
   ]
  },
  {
   "cell_type": "code",
   "execution_count": 28,
   "metadata": {},
   "outputs": [
    {
     "data": {
      "image/png": "[encoded data removed]",
      "text/plain": [
       "<Figure size 432x288 with 1 Axes>"
      ]
     },
     "metadata": {
      "needs_background": "light"
     },
     "output_type": "display_data"
    }
   ],
   "source": [
    "plot_validation_curves(svm_params1['C'], svm_grid_searcher1.cv_results_)"
   ]
  },
  {
   "cell_type": "markdown",
   "metadata": {},
   "source": [
    "**Но мы помним, что с параметром регуляризации по умолчанию (С=1) на кросс-валидации доля правильных ответов выше. Это тот случай (не редкий), когда можно ошибиться и перебирать параметры не в том диапазоне (причина в том, что мы взяли равномерную сетку на большом интервале и упустили действительно хороший интервал значений `C`). Здесь намного осмысленней подбирать `C` в районе 1, к тому же, так модель быстрее обучается, чем при больших `C`. **\n",
    "\n",
    "**С помощью `GridSearchCV` подберите параметр `C` для SVM в диапазоне (1e-3, 1), 30 значений, используйте `linspace` из NumPy. Нарисуйте кривые валидации.**"
   ]
  },
  {
   "cell_type": "code",
   "execution_count": 29,
   "metadata": {},
   "outputs": [
    {
     "name": "stdout",
     "output_type": "stream",
     "text": [
      "Wall time: 2min 45s\n"
     ]
    }
   ],
   "source": [
    "%%time\n",
    "svm_params2 = {'C': np.linspace(1e-3, 1, 30)}\n",
    "\n",
    "svm_grid_searcher2 = GridSearchCV(svm, param_grid=svm_params2, cv=skf, n_jobs=-1)\n",
    "svm_grid_searcher2.fit(X_train, y_train)"
   ]
  },
  {
   "cell_type": "markdown",
   "metadata": {},
   "source": [
    "Выведите лучшее значение доли правильных ответов на кросс-валидации и соответствующее значение `C`."
   ]
  },
  {
   "cell_type": "code",
   "execution_count": 30,
   "metadata": {},
   "outputs": [
    {
     "name": "stdout",
     "output_type": "stream",
     "text": [
      "Max CV score: 0.71012  C value: 0.00100\n"
     ]
    }
   ],
   "source": [
    "print(f'Max CV score: {svm_grid_searcher2.best_score_:.5f}  C value: {svm_grid_searcher2.best_estimator_.C:.5f}')"
   ]
  },
  {
   "cell_type": "markdown",
   "metadata": {},
   "source": [
    "Нарисуйте график зависимости доли правильных ответов на кросс-валидации от С."
   ]
  },
  {
   "cell_type": "code",
   "execution_count": 31,
   "metadata": {},
   "outputs": [
    {
     "data": {
      "image/png": "[encoded data removed]",
      "text/plain": [
       "<Figure size 432x288 with 1 Axes>"
      ]
     },
     "metadata": {
      "needs_background": "light"
     },
     "output_type": "display_data"
    }
   ],
   "source": [
    "plot_validation_curves(svm_params2['C'], svm_grid_searcher2.cv_results_)"
   ]
  },
  {
   "cell_type": "markdown",
   "metadata": {},
   "source": [
    "Выведите долю правильных ответов на выборке `(X_valid, y_valid)` для `LinearSVC` с лучшим найденным значением `C`."
   ]
  },
  {
   "cell_type": "code",
   "execution_count": 32,
   "metadata": {},
   "outputs": [
    {
     "name": "stdout",
     "output_type": "stream",
     "text": [
      "Accuracy score: 0.76061\n"
     ]
    }
   ],
   "source": [
    "svm_cv_acc = accuracy_score(y_valid, svm_grid_searcher1.predict(X_valid))\n",
    "\n",
    "print(f'Accuracy score: {svm_cv_acc:.5f}')"
   ]
  },
  {
   "cell_type": "markdown",
   "metadata": {},
   "source": [
    "**<font color='red'>Вопрос 2. </font> Посчитайте доли правильных ответов для `svm_grid_searcher2` на кросс-валидации для лучшего значения параметра `C` и на отложенной выборке. Округлите каждое до 3 знаков после запятой и выведите через пробел.**"
   ]
  },
  {
   "cell_type": "code",
   "execution_count": 33,
   "metadata": {},
   "outputs": [
    {
     "name": "stdout",
     "output_type": "stream",
     "text": [
      "Max CV score: 0.710  Accurasy test on y_valid: 0.761\n"
     ]
    }
   ],
   "source": [
    "print(f'Max CV score: {svm_grid_searcher2.best_score_:.3f}  Accurasy test on y_valid: {svm_cv_acc:.3f}')"
   ]
  },
  {
   "cell_type": "markdown",
   "metadata": {},
   "source": [
    "## Часть 2. Выбор параметров – длины сессии и ширины окна"
   ]
  },
  {
   "cell_type": "markdown",
   "metadata": {},
   "source": [
    "**Возьмем `LinearSVC`, показавший лучшее качество на кросс-валидации в 1 части, и проверим его работу еще на 8 выборках для 10 пользователей (с разными сочетаниями параметров *session_length* и *window_size*). Поскольку тут уже вычислений побольше, мы не будем каждый раз заново подбирать параметр регуляризации `C`.**\n",
    "\n",
    "**Определите функцию `model_assessment`, ее документация описана ниже. Обратите внимание на все детали. Например, на то, что разбиение  выборки с `train_test_split` должно быть стратифицированным. Не теряйте нигде `random_state`.**"
   ]
  },
  {
   "cell_type": "code",
   "execution_count": 34,
   "metadata": {},
   "outputs": [],
   "source": [
    "def model_assessment(estimator, path_to_X_pickle, path_to_y_pickle, cv, rand_state=17, test_sz=0.3):\n",
    "    '''\n",
    "    Estimates CV-accuracy for (1 - test_size) share of (X_sparse, y) \n",
    "    loaded from path_to_X_pickle and path_to_y_pickle and holdout accuracy for (test_size) share of (X_sparse, y).\n",
    "    The split is made with stratified train_test_split with params random_state and test_size.\n",
    "    \n",
    "    :param estimator – Scikit-learn estimator (classifier or regressor)\n",
    "    :param path_to_X_pickle – path to pickled sparse X (instances and their features)\n",
    "    :param path_to_y_pickle – path to pickled y (responses)\n",
    "    :param cv – cross-validation as in cross_val_score (use StratifiedKFold here)\n",
    "    :param random_state –  for train_test_split\n",
    "    :param test_size –  for train_test_split\n",
    "    \n",
    "    :returns mean CV-accuracy for (X_train, y_train) and accuracy for (X_valid, y_valid) where (X_train, y_train)\n",
    "    and (X_valid, y_valid) are (1 - test_size) and (testsize) shares of (X_sparse, y).\n",
    "    '''\n",
    "    \n",
    "    start_time = timeit.default_timer()\n",
    "    \n",
    "    # open pkl files with PATH_TO_DATA\n",
    "    with open(os.path.join(PATH_TO_DATA, path_to_X_pickle), 'rb') as X_pkl:\n",
    "        X_users = pickle.load(X_pkl)\n",
    "    with open(os.path.join(PATH_TO_DATA, path_to_y_pickle), 'rb') as y_pkl:\n",
    "        y_users = pickle.load(y_pkl)\n",
    "    \n",
    "    # split data\n",
    "    X_train, X_valid, y_train, y_valid = train_test_split(X_users, y_users, \n",
    "                                         test_size=test_sz, random_state=rand_state, stratify=y_users)\n",
    "    \n",
    "    # fitting data\n",
    "    estimator.fit(X_train, y_train)\n",
    "    \n",
    "    # CV score \n",
    "    cv_score_mean = cross_val_score(estimator, X_train, y_train, cv=cv, n_jobs=-1).mean()\n",
    "    \n",
    "    # Accuracy \n",
    "    acuracy_score_result = accuracy_score(y_valid, estimator.predict(X_valid))\n",
    "\n",
    "    \n",
    "    end_time = (timeit.default_timer() - start_time)/60\n",
    "    \n",
    "    return cv_score_mean, acuracy_score_result, end_time"
   ]
  },
  {
   "cell_type": "markdown",
   "metadata": {},
   "source": [
    "**Убедитесь, что функция работает.**"
   ]
  },
  {
   "cell_type": "code",
   "execution_count": 35,
   "metadata": {},
   "outputs": [
    {
     "data": {
      "text/plain": [
       "(0.7101262915969002, 0.7371415027257644, 0.2926879331333339)"
      ]
     },
     "execution_count": 35,
     "metadata": {},
     "output_type": "execute_result"
    }
   ],
   "source": [
    "model_assessment(svm_grid_searcher2.best_estimator_,'X_sparse_10users.pkl','y_10users.pkl', skf)"
   ]
  },
  {
   "cell_type": "markdown",
   "metadata": {},
   "source": [
    "**Примените функцию *model_assessment* для лучшего алгоритма из предыдущей части (а именно, `svm_grid_searcher2.best_estimator_`) и 9 выборок вида с разными сочетаниями параметров *session_length* и *window_size* для 10 пользователей. Выведите в цикле параметры *session_length* и *window_size*, а также результат вывода функции *model_assessment*. \n",
    "Удобно сделать так, чтоб *model_assessment* возвращала 3-им элементом время, за которое она выполнилась. На моем ноуте этот участок кода выполнился за 20 секунд. Но со 150 пользователями каждая итерация занимает уже несколько минут.**"
   ]
  },
  {
   "cell_type": "markdown",
   "metadata": {},
   "source": [
    "Здесь для удобства стоит создать копии ранее созданных pickle-файлов X_sparse_10users.pkl, X_sparse_150users.pkl, y_10users.pkl и y_150users.pkl, добавив к их названиям s10_w10, что означает длину сессии 10 и ширину окна 10. "
   ]
  },
  {
   "cell_type": "code",
   "execution_count": null,
   "metadata": {},
   "outputs": [],
   "source": [
    "# !cp $PATH_TO_DATA/X_sparse_10users.pkl $PATH_TO_DATA/X_sparse_10users_s10_w10.pkl \n",
    "# !cp $PATH_TO_DATA/X_sparse_150users.pkl $PATH_TO_DATA/X_sparse_150users_s10_w10.pkl \n",
    "# !cp $PATH_TO_DATA/y_10users.pkl $PATH_TO_DATA/y_10users_s10_w10.pkl \n",
    "# !cp $PATH_TO_DATA/y_150users.pkl $PATH_TO_DATA/y_150users_s10_w10.pkl "
   ]
  },
  {
   "cell_type": "code",
   "execution_count": 36,
   "metadata": {},
   "outputs": [
    {
     "name": "stdout",
     "output_type": "stream",
     "text": [
      "\n",
      "Session size: 15    Window size: 10\n",
      "(0.728389651554811, 0.7464454976303317, 0.01064937685000018)\n",
      "\n",
      "Session size: 10    Window size: 10\n",
      "(0.7101262915969002, 0.7371415027257644, 0.2932874143499987)\n",
      "\n",
      "Session size: 15    Window size: 7\n",
      "(0.7468187345025141, 0.7619442601194426, 0.014741754299999835)\n",
      "\n",
      "Session size: 10    Window size: 7\n",
      "(0.6851333837923536, 0.7033349925335988, 0.01200511191666654)\n",
      "\n",
      "Session size: 7    Window size: 7\n",
      "(0.6283046598873728, 0.6485813837730214, 0.010748393433334513)\n",
      "\n",
      "Session size: 15    Window size: 5\n",
      "(0.7707636138454546, 0.7824128940507229, 0.024187180050000735)\n",
      "\n",
      "Session size: 10    Window size: 5\n",
      "(0.7047504460028184, 0.7226502311248074, 0.020028284116665417)\n",
      "\n",
      "Session size: 7    Window size: 5\n",
      "(0.6491405937859052, 0.6687603697558663, 0.018189630666665835)\n",
      "\n",
      "Session size: 5    Window size: 5\n",
      "(0.5963315219488473, 0.6168800379326695, 0.016250195283333824)\n",
      "Wall time: 25.2 s\n"
     ]
    }
   ],
   "source": [
    "%%time\n",
    "estimator = svm_grid_searcher2.best_estimator_\n",
    "\n",
    "for window_size, session_length in itertools.product([10, 7, 5], [15, 10, 7, 5]):\n",
    "    if window_size <= session_length:\n",
    "        path_to_X_pkl = 'X_sparse_10users_s' + str(session_length) + '_w' + str(window_size) + '.pkl'\n",
    "        path_to_y_pkl = 'y_10users_s' + str(session_length) + '_w' + str(window_size) + '.pkl'\n",
    "        \n",
    "        print(f'\\nSession size: {session_length}    Window size: {window_size}')\n",
    "        print(model_assessment(estimator, path_to_X_pkl, path_to_y_pkl, skf))\n"
   ]
  },
  {
   "cell_type": "markdown",
   "metadata": {},
   "source": [
    "**<font color='red'>Вопрос 3. </font> Посчитайте доли правильных ответов для `LinearSVC` с настроенным параметром `C` и выборки `X_sparse_10users_s15_w5`. Укажите доли правильных ответов на кросс-валидации и на отложенной выборке. Округлите каждое до 3 знаков после запятой и выведите через пробел.**"
   ]
  },
  {
   "cell_type": "code",
   "execution_count": 37,
   "metadata": {},
   "outputs": [
    {
     "name": "stdout",
     "output_type": "stream",
     "text": [
      "\n",
      "CV score: 0.771    Accuracy score: 0.782\n",
      "Wall time: 1.65 s\n"
     ]
    }
   ],
   "source": [
    "%%time\n",
    "cv_scores, accuracy_scores, eval_time = model_assessment(svm_grid_searcher2.best_estimator_, \n",
    "                                        'X_sparse_10users_s15_w5.pkl','y_10users_s15_w5.pkl', skf)\n",
    "\n",
    "print(f'\\nCV score: {cv_scores:.3f}    Accuracy score: {accuracy_scores:.3f}')"
   ]
  },
  {
   "cell_type": "markdown",
   "metadata": {},
   "source": [
    "**Прокомментируйте полученные результаты. Сравните для 150 пользователей доли правильных ответов на кросс-валидации и оставленной выборке для сочетаний параметров (*session_length, window_size*): (5,5), (7,7) и (10,10). На среднем ноуте это может занять до часа – запаситесь терпением, это Data Science :) **\n",
    "\n",
    "**Сделайте вывод о том, как качество классификации зависит от длины сессии и ширины окна.**"
   ]
  },
  {
   "cell_type": "code",
   "execution_count": 38,
   "metadata": {},
   "outputs": [
    {
     "name": "stdout",
     "output_type": "stream",
     "text": [
      "\n",
      "Session size: 5    Window size: 5\n",
      "(0.326315430254784, 0.3413515355039665, 12.216923649466668)\n",
      "\n",
      "Session size: 7    Window size: 7\n",
      "(0.3491800498149031, 0.36653949654256224, 5.214321602149997)\n",
      "\n",
      "Session size: 10    Window size: 10\n",
      "(0.36524415384328096, 0.38600204349729966, 146.64915657953333)\n",
      "Wall time: 2h 44min 4s\n"
     ]
    }
   ],
   "source": [
    "%%time\n",
    "estimator = svm_grid_searcher2.best_estimator_\n",
    "\n",
    "for window_size, session_length in [(5,5), (7,7), (10,10)]:\n",
    "    path_to_X_pkl = 'X_sparse_150users_s' + str(session_length) + '_w' + str(window_size) + '.pkl'\n",
    "    path_to_y_pkl = 'y_150users_s' + str(session_length) + '_w' + str(window_size) + '.pkl'\n",
    "        \n",
    "    print(f'\\nSession size: {session_length}    Window size: {window_size}')\n",
    "    print(model_assessment(estimator, path_to_X_pkl, path_to_y_pkl, skf))"
   ]
  },
  {
   "cell_type": "code",
   "execution_count": 39,
   "metadata": {},
   "outputs": [
    {
     "name": "stdout",
     "output_type": "stream",
     "text": [
      "If session and window sizes will be equal, we get score 0.32 - 0.34,it shows that we have to change alignment -  \n",
      "Session size > Window size to get more score value\n"
     ]
    }
   ],
   "source": [
    "print('If session and window sizes will be equal, we get score 0.32 - 0.34,\\\n",
    "it shows that we have to change alignment -  \\nSession size > Window size to get more score value')"
   ]
  },
  {
   "cell_type": "markdown",
   "metadata": {},
   "source": [
    "**<font color='red'>Вопрос 4. </font> Посчитайте доли правильных ответов для `LinearSVC` с настроенным параметром `C` и выборки `X_sparse_150users`. Укажите доли правильных ответов на кросс-валидации и на отложенной выборке. Округлите каждое до 3 знаков после запятой и выведите через пробел.**"
   ]
  },
  {
   "cell_type": "code",
   "execution_count": 40,
   "metadata": {},
   "outputs": [
    {
     "name": "stdout",
     "output_type": "stream",
     "text": [
      "\n",
      "CV score: 0.365   Accuracy score: 0.386\n",
      "Wall time: 2h 56min 9s\n"
     ]
    }
   ],
   "source": [
    "%%time\n",
    "cv_scores, accuracy_scores, eval_time = model_assessment(svm_grid_searcher2.best_estimator_, \n",
    "                                        'X_sparse_150users.pkl','y_150users.pkl', skf)\n",
    "\n",
    "print(f'\\nCV score: {cv_scores:.3f}   Accuracy score: {accuracy_scores:.3f}')"
   ]
  },
  {
   "cell_type": "markdown",
   "metadata": {},
   "source": [
    "## Часть 3. Идентификация  конкретного пользователя и кривые обучения"
   ]
  },
  {
   "cell_type": "markdown",
   "metadata": {},
   "source": [
    "**Поскольку может разочаровать, что многоклассовая доля правильных ответов на выборке из 150 пользовалей невелика, порадуемся тому, что конкретного пользователя можно идентифицировать достаточно хорошо. **"
   ]
  },
  {
   "cell_type": "markdown",
   "metadata": {},
   "source": [
    "**Загрузим сериализованные ранее объекты *X_sparse_150users* и *y_150users*, соответствующие обучающей выборке для 150 пользователей с параметрами (*session_length, window_size*) = (10,10). Так же точно разобьем их на 70% и 30%.**"
   ]
  },
  {
   "cell_type": "code",
   "execution_count": 41,
   "metadata": {},
   "outputs": [],
   "source": [
    "with open(os.path.join(PATH_TO_DATA, 'X_sparse_150users.pkl'), 'rb') as X_sparse_150users_pkl:\n",
    "     X_sparse_150users = pickle.load(X_sparse_150users_pkl)\n",
    "with open(os.path.join(PATH_TO_DATA, 'y_150users.pkl'), 'rb') as y_150users_pkl:\n",
    "    y_150users = pickle.load(y_150users_pkl)"
   ]
  },
  {
   "cell_type": "code",
   "execution_count": 42,
   "metadata": {},
   "outputs": [],
   "source": [
    "X_train_150, X_valid_150, y_train_150, y_valid_150 = train_test_split(X_sparse_150users, \n",
    "                                                                      y_150users, test_size=0.3, \n",
    "                                                     random_state=17, stratify=y_150users)"
   ]
  },
  {
   "cell_type": "markdown",
   "metadata": {},
   "source": [
    "**Обучите `LogisticRegressionCV` для одного значения параметра `C` (лучшего на кросс-валидации в 1 части, используйте точное значение, не на глаз). Теперь будем решать 150 задач \"Один-против-Всех\", поэтому укажите аргумент `multi_class`='ovr'. Как всегда, где возможно, указывайте `n_jobs=-1` и `random_state`=17.**"
   ]
  },
  {
   "cell_type": "code",
   "execution_count": 43,
   "metadata": {},
   "outputs": [
    {
     "name": "stdout",
     "output_type": "stream",
     "text": [
      "C value: 0.10000\n",
      "Wall time: 43min 10s\n"
     ]
    }
   ],
   "source": [
    "%%time\n",
    "\n",
    "# defining C value\n",
    "C_value = logit_grid_searcher2.Cs_[logit_mean_cv_scores2.argmax()]\n",
    "print(f'C value: {C_value:.5f}')\n",
    "\n",
    "# estimator + fitting model\n",
    "logit_cv_150users = LogisticRegressionCV(Cs=[C_value], cv=skf, random_state=17,  multi_class='ovr', n_jobs=-1)\n",
    "logit_cv_150users.fit(X_train_150, y_train_150)"
   ]
  },
  {
   "cell_type": "markdown",
   "metadata": {},
   "source": [
    "**Посмотрите на средние доли правильных ответов на кросс-валидации в задаче идентификации каждого пользователя по отдельности.**"
   ]
  },
  {
   "cell_type": "code",
   "execution_count": 44,
   "metadata": {},
   "outputs": [
    {
     "name": "stdout",
     "output_type": "stream",
     "text": [
      "User: 1  CV score: 0.9948287691951373\n",
      "User: 2  CV score: 0.9958708412308215\n",
      "User: 3  CV score: 0.9935878111197464\n",
      "User: 4  CV score: 0.9903561097872986\n",
      "User: 5  CV score: 0.9888650645115012\n",
      "User: 6  CV score: 0.9914095535009229\n",
      "User: 7  CV score: 0.9929314389022869\n",
      "User: 8  CV score: 0.9833182716064509\n",
      "User: 9  CV score: 0.99718503373478\n",
      "User: 10  CV score: 0.9943596261513775\n",
      "User: 11  CV score: 0.9925772693638472\n",
      "User: 12  CV score: 0.9926393089254079\n",
      "User: 13  CV score: 0.9956315696532007\n",
      "User: 14  CV score: 0.9933482659303321\n",
      "User: 15  CV score: 0.9950997380838151\n",
      "User: 16  CV score: 0.9952244521249193\n",
      "User: 17  CV score: 0.9880517186245429\n",
      "User: 18  CV score: 0.9930878696146203\n",
      "User: 19  CV score: 0.993431287398927\n",
      "User: 20  CV score: 0.9898451230820272\n",
      "User: 21  CV score: 0.9784693358435662\n",
      "User: 22  CV score: 0.9964239476792068\n",
      "User: 23  CV score: 0.9937447479650884\n",
      "User: 24  CV score: 0.9901162004474139\n",
      "User: 25  CV score: 0.9958088549097343\n",
      "User: 26  CV score: 0.9927638476772946\n",
      "User: 27  CV score: 0.9936091417090287\n",
      "User: 28  CV score: 0.9908032621754844\n",
      "User: 29  CV score: 0.9840374573421364\n",
      "User: 30  CV score: 0.9961630951526321\n",
      "User: 31  CV score: 0.9961115119034298\n",
      "User: 32  CV score: 0.9961632554476737\n",
      "User: 33  CV score: 0.9966320822673463\n",
      "User: 34  CV score: 0.9959548700258156\n",
      "User: 35  CV score: 0.995527071820411\n",
      "User: 36  CV score: 0.9968935556658219\n",
      "User: 37  CV score: 0.9865710377002861\n",
      "User: 38  CV score: 0.9953601721717776\n",
      "User: 39  CV score: 0.9954957183515588\n",
      "User: 40  CV score: 0.9956421092939589\n",
      "User: 41  CV score: 0.9874259210792271\n",
      "User: 42  CV score: 0.9877285001581875\n",
      "User: 43  CV score: 0.9952561998321686\n",
      "User: 44  CV score: 0.994369922642741\n",
      "User: 45  CV score: 0.9943802642162071\n",
      "User: 46  CV score: 0.9937961955935108\n",
      "User: 47  CV score: 0.9951411289523665\n",
      "User: 48  CV score: 0.9957880459216834\n",
      "User: 49  CV score: 0.9935259691514312\n",
      "User: 50  CV score: 0.9952972947848987\n",
      "User: 51  CV score: 0.9909501422609551\n",
      "User: 52  CV score: 0.9943496115297531\n",
      "User: 53  CV score: 0.99421273354154\n",
      "User: 54  CV score: 0.9935462468581647\n",
      "User: 55  CV score: 0.9964240043375828\n",
      "User: 56  CV score: 0.9877699578392476\n",
      "User: 57  CV score: 0.9910538758171654\n",
      "User: 58  CV score: 0.9954539594405877\n",
      "User: 59  CV score: 0.9848824961741555\n",
      "User: 60  CV score: 0.9872480789190208\n",
      "User: 61  CV score: 0.9927954834899326\n",
      "User: 62  CV score: 0.9876972091358479\n",
      "User: 63  CV score: 0.9943076796997984\n",
      "User: 64  CV score: 0.9902518536817634\n",
      "User: 65  CV score: 0.9965071764211334\n",
      "User: 66  CV score: 0.9946931000185182\n",
      "User: 67  CV score: 0.9968512862558461\n",
      "User: 68  CV score: 0.9944222057262478\n",
      "User: 69  CV score: 0.9951203770967383\n",
      "User: 70  CV score: 0.9952357400004125\n",
      "User: 71  CV score: 0.9955894402300004\n",
      "User: 72  CV score: 0.9962153133198175\n",
      "User: 73  CV score: 0.9954858925911875\n",
      "User: 74  CV score: 0.9897512201262314\n",
      "User: 75  CV score: 0.9954955299643528\n",
      "User: 76  CV score: 0.9902621191371067\n",
      "User: 77  CV score: 0.9969032884177075\n",
      "User: 78  CV score: 0.9955791955569699\n",
      "User: 79  CV score: 0.9952354624966696\n",
      "User: 80  CV score: 0.9903977743672184\n",
      "User: 81  CV score: 0.9957567960894967\n",
      "User: 82  CV score: 0.9928892348826793\n",
      "User: 83  CV score: 0.9950063925057387\n",
      "User: 84  CV score: 0.9956525990125716\n",
      "User: 85  CV score: 0.9943903055078557\n",
      "User: 86  CV score: 0.9963194871446212\n",
      "User: 87  CV score: 0.9977479417433218\n",
      "User: 88  CV score: 0.9872802130807686\n",
      "User: 89  CV score: 0.9966846829970807\n",
      "User: 90  CV score: 0.9942030768082026\n",
      "User: 91  CV score: 0.9930043909870686\n",
      "User: 92  CV score: 0.9931188283710285\n",
      "User: 93  CV score: 0.9808162481981103\n",
      "User: 94  CV score: 0.9953082688065389\n",
      "User: 95  CV score: 0.9950992523586472\n",
      "User: 96  CV score: 0.9903766112832549\n",
      "User: 97  CV score: 0.9873223798021723\n",
      "User: 98  CV score: 0.9974457123942778\n",
      "User: 99  CV score: 0.9885210195931101\n",
      "User: 100  CV score: 0.9881351207594995\n",
      "User: 101  CV score: 0.9926814261987129\n",
      "User: 102  CV score: 0.9828593471393194\n",
      "User: 103  CV score: 0.9781256753839113\n",
      "User: 104  CV score: 0.9777295221971839\n",
      "User: 105  CV score: 0.9908250252494611\n",
      "User: 106  CV score: 0.9949956310715201\n",
      "User: 107  CV score: 0.9974454528285667\n",
      "User: 108  CV score: 0.9963298814845137\n",
      "User: 109  CV score: 0.997132523069676\n",
      "User: 110  CV score: 0.9968510881885537\n",
      "User: 111  CV score: 0.9938591330566683\n",
      "User: 112  CV score: 0.9961845206465876\n",
      "User: 113  CV score: 0.9958816932037173\n",
      "User: 114  CV score: 0.9963819591908764\n",
      "User: 115  CV score: 0.9945258473216407\n",
      "User: 116  CV score: 0.9953606235425975\n",
      "User: 117  CV score: 0.9940674279398493\n",
      "User: 118  CV score: 0.9958086437444534\n",
      "User: 119  CV score: 0.9954957086714727\n",
      "User: 120  CV score: 0.9948493167212898\n",
      "User: 121  CV score: 0.9951207025268646\n",
      "User: 122  CV score: 0.9958606401181781\n",
      "User: 123  CV score: 0.9955068599780926\n",
      "User: 124  CV score: 0.994650622387117\n",
      "User: 125  CV score: 0.9934944839537487\n",
      "User: 126  CV score: 0.9964863306089256\n",
      "User: 127  CV score: 0.9977896522538628\n",
      "User: 128  CV score: 0.9957354417740465\n",
      "User: 129  CV score: 0.9953086828791551\n",
      "User: 130  CV score: 0.9893027368777075\n",
      "User: 131  CV score: 0.9931808722985852\n",
      "User: 132  CV score: 0.9969868271215375\n",
      "User: 133  CV score: 0.9962362908608555\n",
      "User: 134  CV score: 0.9957981821180052\n",
      "User: 135  CV score: 0.9970702679768383\n",
      "User: 136  CV score: 0.9963191955947961\n",
      "User: 137  CV score: 0.9961113990607249\n",
      "User: 138  CV score: 0.9929933893473107\n",
      "User: 139  CV score: 0.9952042921009338\n",
      "User: 140  CV score: 0.9957879863194518\n",
      "User: 141  CV score: 0.9961216050134113\n",
      "User: 142  CV score: 0.9972579751913822\n",
      "User: 143  CV score: 0.9948912402932989\n",
      "User: 144  CV score: 0.9948805069512444\n",
      "User: 145  CV score: 0.9965802224624949\n",
      "User: 146  CV score: 0.9946622013383886\n",
      "User: 147  CV score: 0.992211222114034\n",
      "User: 148  CV score: 0.9959542597820944\n",
      "User: 149  CV score: 0.9948598069139493\n",
      "User: 150  CV score: 0.9953394571403065\n"
     ]
    }
   ],
   "source": [
    "cv_scores_by_user = {}\n",
    "for user_id in logit_cv_150users.scores_:\n",
    "    cv_scores_by_user.update({user_id: logit_cv_150users.scores_[user_id].mean()})\n",
    "    print(f'User: {user_id}  CV score: {logit_cv_150users.scores_[user_id].mean()}')"
   ]
  },
  {
   "cell_type": "markdown",
   "metadata": {},
   "source": [
    "**Результаты кажутся впечатляющими, но возможно, мы забываем про дисбаланс классов, и высокую долю правильных ответов можно получить константным прогнозом. Посчитайте для каждого пользователя разницу между долей правильных ответов на кросс-валидации (только что посчитанную с помощью `LogisticRegressionCV`) и долей меток в *y_train_150*, отличных от ID \n",
    " этого пользователя (именно такую долю правильных ответов можно получить, если классификатор всегда \"говорит\", что это не пользователь с номером $i$ в задаче классификации $i$-vs-All).**"
   ]
  },
  {
   "cell_type": "code",
   "execution_count": 45,
   "metadata": {},
   "outputs": [
    {
     "name": "stdout",
     "output_type": "stream",
     "text": [
      "User: 1    share of correct answers: 0.98440     difference: 0.01043\n",
      "User: 2    share of correct answers: 0.99570     difference: 0.00017\n",
      "User: 3    share of correct answers: 0.99440     difference: -0.00081\n",
      "User: 4    share of correct answers: 0.98472     difference: 0.00564\n",
      "User: 5    share of correct answers: 0.98795     difference: 0.00092\n",
      "User: 6    share of correct answers: 0.99445     difference: -0.00304\n",
      "User: 7    share of correct answers: 0.99255     difference: 0.00039\n",
      "User: 8    share of correct answers: 0.98391     difference: -0.00059\n",
      "User: 9    share of correct answers: 0.99712     difference: 0.00006\n",
      "User: 10    share of correct answers: 0.99383     difference: 0.00053\n",
      "User: 11    share of correct answers: 0.99415     difference: -0.00157\n",
      "User: 12    share of correct answers: 0.99204     difference: 0.00059\n",
      "User: 13    share of correct answers: 0.99692     difference: -0.00129\n",
      "User: 14    share of correct answers: 0.99486     difference: -0.00151\n",
      "User: 15    share of correct answers: 0.99635     difference: -0.00125\n",
      "User: 16    share of correct answers: 0.99619     difference: -0.00097\n",
      "User: 17    share of correct answers: 0.99007     difference: -0.00202\n",
      "User: 18    share of correct answers: 0.99415     difference: -0.00106\n",
      "User: 19    share of correct answers: 0.99475     difference: -0.00131\n",
      "User: 20    share of correct answers: 0.99044     difference: -0.00059\n",
      "User: 21    share of correct answers: 0.97700     difference: 0.00147\n",
      "User: 22    share of correct answers: 0.99602     difference: 0.00041\n",
      "User: 23    share of correct answers: 0.98722     difference: 0.00653\n",
      "User: 24    share of correct answers: 0.99000     difference: 0.00011\n",
      "User: 25    share of correct answers: 0.99594     difference: -0.00014\n",
      "User: 26    share of correct answers: 0.99366     difference: -0.00090\n",
      "User: 27    share of correct answers: 0.99406     difference: -0.00045\n",
      "User: 28    share of correct answers: 0.98751     difference: 0.00329\n",
      "User: 29    share of correct answers: 0.97960     difference: 0.00444\n",
      "User: 30    share of correct answers: 0.99711     difference: -0.00095\n",
      "User: 31    share of correct answers: 0.99678     difference: -0.00067\n",
      "User: 32    share of correct answers: 0.99654     difference: -0.00038\n",
      "User: 33    share of correct answers: 0.99708     difference: -0.00045\n",
      "User: 34    share of correct answers: 0.99626     difference: -0.00030\n",
      "User: 35    share of correct answers: 0.99650     difference: -0.00097\n",
      "User: 36    share of correct answers: 0.99618     difference: 0.00071\n",
      "User: 37    share of correct answers: 0.98636     difference: 0.00021\n",
      "User: 38    share of correct answers: 0.99647     difference: -0.00111\n",
      "User: 39    share of correct answers: 0.99624     difference: -0.00074\n",
      "User: 40    share of correct answers: 0.99675     difference: -0.00110\n",
      "User: 41    share of correct answers: 0.98878     difference: -0.00136\n",
      "User: 42    share of correct answers: 0.98801     difference: -0.00028\n",
      "User: 43    share of correct answers: 0.99627     difference: -0.00101\n",
      "User: 44    share of correct answers: 0.99578     difference: -0.00141\n",
      "User: 45    share of correct answers: 0.99610     difference: -0.00172\n",
      "User: 46    share of correct answers: 0.99466     difference: -0.00087\n",
      "User: 47    share of correct answers: 0.99577     difference: -0.00063\n",
      "User: 48    share of correct answers: 0.99712     difference: -0.00133\n",
      "User: 49    share of correct answers: 0.99510     difference: -0.00157\n",
      "User: 50    share of correct answers: 0.99630     difference: -0.00100\n",
      "User: 51    share of correct answers: 0.98992     difference: 0.00103\n",
      "User: 52    share of correct answers: 0.99556     difference: -0.00121\n",
      "User: 53    share of correct answers: 0.99576     difference: -0.00154\n",
      "User: 54    share of correct answers: 0.99518     difference: -0.00164\n",
      "User: 55    share of correct answers: 0.99708     difference: -0.00066\n",
      "User: 56    share of correct answers: 0.98910     difference: -0.00133\n",
      "User: 57    share of correct answers: 0.99160     difference: -0.00054\n",
      "User: 58    share of correct answers: 0.99620     difference: -0.00075\n",
      "User: 59    share of correct answers: 0.98575     difference: -0.00087\n",
      "User: 60    share of correct answers: 0.98512     difference: 0.00213\n",
      "User: 61    share of correct answers: 0.99373     difference: -0.00094\n",
      "User: 62    share of correct answers: 0.98824     difference: -0.00054\n",
      "User: 63    share of correct answers: 0.99595     difference: -0.00165\n",
      "User: 64    share of correct answers: 0.98977     difference: 0.00048\n",
      "User: 65    share of correct answers: 0.99548     difference: 0.00103\n",
      "User: 66    share of correct answers: 0.99497     difference: -0.00028\n",
      "User: 67    share of correct answers: 0.99711     difference: -0.00026\n",
      "User: 68    share of correct answers: 0.99534     difference: -0.00092\n",
      "User: 69    share of correct answers: 0.99663     difference: -0.00151\n",
      "User: 70    share of correct answers: 0.99682     difference: -0.00158\n",
      "User: 71    share of correct answers: 0.99497     difference: 0.00061\n",
      "User: 72    share of correct answers: 0.99592     difference: 0.00029\n",
      "User: 73    share of correct answers: 0.99651     difference: -0.00102\n",
      "User: 74    share of correct answers: 0.99191     difference: -0.00216\n",
      "User: 75    share of correct answers: 0.99678     difference: -0.00128\n",
      "User: 76    share of correct answers: 0.99103     difference: -0.00077\n",
      "User: 77    share of correct answers: 0.99722     difference: -0.00031\n",
      "User: 78    share of correct answers: 0.99663     difference: -0.00105\n",
      "User: 79    share of correct answers: 0.99530     difference: -0.00006\n",
      "User: 80    share of correct answers: 0.98923     difference: 0.00117\n",
      "User: 81    share of correct answers: 0.99663     difference: -0.00088\n",
      "User: 82    share of correct answers: 0.99416     difference: -0.00127\n",
      "User: 83    share of correct answers: 0.99525     difference: -0.00024\n",
      "User: 84    share of correct answers: 0.99715     difference: -0.00150\n",
      "User: 85    share of correct answers: 0.99502     difference: -0.00063\n",
      "User: 86    share of correct answers: 0.99709     difference: -0.00077\n",
      "User: 87    share of correct answers: 0.99702     difference: 0.00073\n",
      "User: 88    share of correct answers: 0.98799     difference: -0.00071\n",
      "User: 89    share of correct answers: 0.99613     difference: 0.00055\n",
      "User: 90    share of correct answers: 0.99525     difference: -0.00104\n",
      "User: 91    share of correct answers: 0.99398     difference: -0.00098\n",
      "User: 92    share of correct answers: 0.99264     difference: 0.00048\n",
      "User: 93    share of correct answers: 0.98097     difference: -0.00016\n",
      "User: 94    share of correct answers: 0.99631     difference: -0.00100\n",
      "User: 95    share of correct answers: 0.99513     difference: -0.00003\n",
      "User: 96    share of correct answers: 0.99183     difference: -0.00145\n",
      "User: 97    share of correct answers: 0.98505     difference: 0.00227\n",
      "User: 98    share of correct answers: 0.99570     difference: 0.00174\n",
      "User: 99    share of correct answers: 0.99096     difference: -0.00244\n",
      "User: 100    share of correct answers: 0.98860     difference: -0.00047\n",
      "User: 101    share of correct answers: 0.99439     difference: -0.00171\n",
      "User: 102    share of correct answers: 0.98048     difference: 0.00238\n",
      "User: 103    share of correct answers: 0.96604     difference: 0.01208\n",
      "User: 104    share of correct answers: 0.97844     difference: -0.00071\n",
      "User: 105    share of correct answers: 0.99060     difference: 0.00023\n",
      "User: 106    share of correct answers: 0.99506     difference: -0.00006\n",
      "User: 107    share of correct answers: 0.99507     difference: 0.00238\n",
      "User: 108    share of correct answers: 0.99704     difference: -0.00071\n",
      "User: 109    share of correct answers: 0.99602     difference: 0.00112\n",
      "User: 110    share of correct answers: 0.99725     difference: -0.00040\n",
      "User: 111    share of correct answers: 0.99458     difference: -0.00072\n",
      "User: 112    share of correct answers: 0.99667     difference: -0.00049\n",
      "User: 113    share of correct answers: 0.99590     difference: -0.00002\n",
      "User: 114    share of correct answers: 0.99687     difference: -0.00049\n",
      "User: 115    share of correct answers: 0.99525     difference: -0.00072\n",
      "User: 116    share of correct answers: 0.99618     difference: -0.00082\n",
      "User: 117    share of correct answers: 0.99362     difference: 0.00045\n",
      "User: 118    share of correct answers: 0.99586     difference: -0.00005\n",
      "User: 119    share of correct answers: 0.99678     difference: -0.00128\n",
      "User: 120    share of correct answers: 0.99531     difference: -0.00046\n",
      "User: 121    share of correct answers: 0.99577     difference: -0.00065\n",
      "User: 122    share of correct answers: 0.99495     difference: 0.00091\n",
      "User: 123    share of correct answers: 0.99704     difference: -0.00153\n",
      "User: 124    share of correct answers: 0.99521     difference: -0.00056\n",
      "User: 125    share of correct answers: 0.98950     difference: 0.00399\n",
      "User: 126    share of correct answers: 0.99697     difference: -0.00048\n",
      "User: 127    share of correct answers: 0.99691     difference: 0.00088\n",
      "User: 128    share of correct answers: 0.99678     difference: -0.00104\n",
      "User: 129    share of correct answers: 0.99014     difference: 0.00517\n",
      "User: 130    share of correct answers: 0.98810     difference: 0.00120\n",
      "User: 131    share of correct answers: 0.99048     difference: 0.00270\n",
      "User: 132    share of correct answers: 0.99579     difference: 0.00120\n",
      "User: 133    share of correct answers: 0.99517     difference: 0.00106\n",
      "User: 134    share of correct answers: 0.99635     difference: -0.00055\n",
      "User: 135    share of correct answers: 0.99733     difference: -0.00026\n",
      "User: 136    share of correct answers: 0.99700     difference: -0.00068\n",
      "User: 137    share of correct answers: 0.99683     difference: -0.00072\n",
      "User: 138    share of correct answers: 0.98873     difference: 0.00426\n",
      "User: 139    share of correct answers: 0.99174     difference: 0.00346\n",
      "User: 140    share of correct answers: 0.99543     difference: 0.00035\n",
      "User: 141    share of correct answers: 0.99592     difference: 0.00020\n",
      "User: 142    share of correct answers: 0.99634     difference: 0.00092\n",
      "User: 143    share of correct answers: 0.99535     difference: -0.00046\n",
      "User: 144    share of correct answers: 0.99483     difference: 0.00005\n",
      "User: 145    share of correct answers: 0.99744     difference: -0.00085\n",
      "User: 146    share of correct answers: 0.98744     difference: 0.00723\n",
      "User: 147    share of correct answers: 0.99242     difference: -0.00021\n",
      "User: 148    share of correct answers: 0.99631     difference: -0.00035\n",
      "User: 149    share of correct answers: 0.99546     difference: -0.00060\n",
      "User: 150    share of correct answers: 0.99505     difference: 0.00029\n"
     ]
    }
   ],
   "source": [
    "class_distr = np.bincount(y_train_150.astype('int'))\n",
    "\n",
    "acc_diff_vs_constant = []\n",
    "\n",
    "for user_id in np.unique(y_train_150):\n",
    "    \n",
    "    # share of correct answers\n",
    "    correct_answers_in_all = (class_distr.sum() - class_distr[user_id]) / class_distr.sum()\n",
    "        \n",
    "    # difference evaluation\n",
    "    acc_diff_vs_constant.append(cv_scores_by_user[user_id].mean() - correct_answers_in_all)\n",
    "    \n",
    "    print(f'User: {user_id}    share of correct answers: {correct_answers_in_all:.5f} \\\n",
    "    difference: {(cv_scores_by_user[user_id].mean() - correct_answers_in_all):.5f}')"
   ]
  },
  {
   "cell_type": "markdown",
   "metadata": {},
   "source": [
    "**<font color='red'>Вопрос 5. </font> Посчитайте долю пользователей, для которых логистическая регрессия на кросс-валидации дает прогноз лучше константного. Округлите до 3 знаков после запятой.**"
   ]
  },
  {
   "cell_type": "code",
   "execution_count": 46,
   "metadata": {},
   "outputs": [
    {
     "name": "stdout",
     "output_type": "stream",
     "text": [
      "proportion of users: 33.333 %\n"
     ]
    }
   ],
   "source": [
    "more_constant_predict = (np.array(acc_diff_vs_constant) > 0).sum()\n",
    "print(f'proportion of users: {(more_constant_predict/len(acc_diff_vs_constant) * 100):.3f} %')"
   ]
  },
  {
   "cell_type": "markdown",
   "metadata": {},
   "source": [
    "**Дальше будем строить кривые обучения для конкретного пользователя, допустим, для 128-го. Составьте новый бинарный вектор на основе *y_150users*, его значения будут 1 или 0 в зависимости от того, равен ли ID-шник пользователя 128.**"
   ]
  },
  {
   "cell_type": "code",
   "execution_count": 47,
   "metadata": {},
   "outputs": [
    {
     "name": "stdout",
     "output_type": "stream",
     "text": [
      "Quantity user 1:  2137\n"
     ]
    }
   ],
   "source": [
    "y_binary_128 = np.isin(y_150users,1).astype('int')\n",
    "print('Quantity user 1: ',y_binary_128.sum())"
   ]
  },
  {
   "cell_type": "code",
   "execution_count": 48,
   "metadata": {},
   "outputs": [],
   "source": [
    "from sklearn.model_selection import learning_curve\n",
    "\n",
    "def plot_learning_curve(val_train, val_test, train_sizes, \n",
    "                        xlabel='Training Set Size', ylabel='score'):\n",
    "    def plot_with_err(x, data, **kwargs):\n",
    "        mu, std = data.mean(1), data.std(1)\n",
    "        lines = plt.plot(x, mu, '-', **kwargs)\n",
    "        plt.fill_between(x, mu - std, mu + std, edgecolor='none',\n",
    "                         facecolor=lines[0].get_color(), alpha=0.2)\n",
    "    plot_with_err(train_sizes, val_train, label='train')\n",
    "    plot_with_err(train_sizes, val_test, label='valid')\n",
    "    plt.xlabel(xlabel); plt.ylabel(ylabel)\n",
    "    plt.legend(loc='lower right');"
   ]
  },
  {
   "cell_type": "markdown",
   "metadata": {},
   "source": [
    "**Посчитайте доли правильных ответов на кросс-валидации в задаче классификации \"user128-vs-All\" в зависимости от размера выборки. Не помешает посмотреть встроенную документацию для *learning_curve*.**"
   ]
  },
  {
   "cell_type": "code",
   "execution_count": 49,
   "metadata": {},
   "outputs": [
    {
     "name": "stdout",
     "output_type": "stream",
     "text": [
      "Wall time: 3min 21s\n"
     ]
    }
   ],
   "source": [
    "%%time\n",
    "train_sizes = np.linspace(0.25, 1, 20)\n",
    "estimator = svm_grid_searcher2.best_estimator_\n",
    "n_train, val_train, val_test = learning_curve(estimator, X_sparse_150users, y_binary_128, \n",
    "                               train_sizes=train_sizes, cv=skf, n_jobs=-1)"
   ]
  },
  {
   "cell_type": "code",
   "execution_count": 50,
   "metadata": {},
   "outputs": [
    {
     "data": {
      "image/png": "[encoded data removed]",
      "text/plain": [
       "<Figure size 432x288 with 1 Axes>"
      ]
     },
     "metadata": {
      "needs_background": "light"
     },
     "output_type": "display_data"
    }
   ],
   "source": [
    "plot_learning_curve(val_train, val_test, n_train, \n",
    "                    xlabel='train_size', ylabel='accuracy')"
   ]
  },
  {
   "cell_type": "markdown",
   "metadata": {},
   "source": [
    "**Сделайте выводы о том, помогут ли алгоритму новые размеченные данные при той же постановке задачи.**"
   ]
  },
  {
   "cell_type": "code",
   "execution_count": 51,
   "metadata": {},
   "outputs": [
    {
     "name": "stdout",
     "output_type": "stream",
     "text": [
      "Model is trained, and some increasing of training size will not increase accuracy much\n"
     ]
    }
   ],
   "source": [
    "print('Model is trained, and some increasing of training size will not increase accuracy much')"
   ]
  },
  {
   "cell_type": "code",
   "execution_count": null,
   "metadata": {},
   "outputs": [],
   "source": []
  }
 ],
 "metadata": {
  "anaconda-cloud": {},
  "kernelspec": {
   "display_name": "Python 3",
   "language": "python",
   "name": "python3"
  },
  "language_info": {
   "codemirror_mode": {
    "name": "ipython",
    "version": 3
   },
   "file_extension": ".py",
   "mimetype": "text/x-python",
   "name": "python",
   "nbconvert_exporter": "python",
   "pygments_lexer": "ipython3",
   "version": "3.7.1"
  }
 },
 "nbformat": 4,
 "nbformat_minor": 1
}
