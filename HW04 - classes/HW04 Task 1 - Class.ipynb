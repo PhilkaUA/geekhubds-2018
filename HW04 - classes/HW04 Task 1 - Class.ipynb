{
 "cells": [
  {
   "cell_type": "markdown",
   "metadata": {},
   "source": [
    "# HW04 Task 1 - Class\n",
    "\n",
    "Описать с помощью классов любой известный вам процесс или систему. Например, приготовление пищи, взаимодействие сотрудников в компании, зоопарк, двигатель и т.д. Как минимум один раз необходимо уместно использовать наследование, приватный метод и (или) приватный атрибут. У каждого модуля, класса, публичного метода и функции (если будете использовать) должно быть короткое описание на английском (docstring). У публичных методов и __init__() нужно по-возможности указать тип входящих и возвращаемых данных."
   ]
  },
  {
   "cell_type": "code",
   "execution_count": 165,
   "metadata": {},
   "outputs": [],
   "source": [
    "class CompanyPayments:\n",
    "    \"\"\"Simple finacies of company\"\"\"\n",
    "    \n",
    "    # inicialization\n",
    "    # name - str(name), work_day - number of day in week\n",
    "    def __init__(self, work_day):\n",
    "        self.work_day = work_day\n",
    "\n",
    "    # Pay\n",
    "    def getPay(self, work_day):\n",
    "        return self._intensivity(work_day)\n",
    "    \n",
    "    # Intensivity\n",
    "    def _intensivity(self, work_day):\n",
    "    # Calulated as exponent with power on day\n",
    "        day = self._day_select(work_day)\n",
    "        print(\"day = \", day)\n",
    "        return work_day**day   \n",
    "        \n",
    "    def _day_select(self, day):\n",
    "    # if u work more than 3 day u get more pay\n",
    "        if self.work_day < 3:\n",
    "            __day = day**2\n",
    "        else: __day = day**4 \n",
    "        return __day"
   ]
  },
  {
   "cell_type": "code",
   "execution_count": 166,
   "metadata": {},
   "outputs": [
    {
     "name": "stdout",
     "output_type": "stream",
     "text": [
      "day =  4\n"
     ]
    },
    {
     "data": {
      "text/plain": [
       "16"
      ]
     },
     "execution_count": 166,
     "metadata": {},
     "output_type": "execute_result"
    }
   ],
   "source": [
    "cp = CompanyPayments(2)\n",
    "cp.getPay(2)"
   ]
  },
  {
   "cell_type": "code",
   "execution_count": 164,
   "metadata": {},
   "outputs": [],
   "source": [
    "# Overriding class for a chief\n",
    "class ChiefPayments(CompanyPayments):\n",
    "\n",
    "    def _intensivity(self, work_day):\n",
    "    # Calulated as exponent with power on day + premium\n",
    "        day = self._day_select(work_day)\n",
    "        #premium for 50%\n",
    "        __premium = day * 0.5\n",
    "        print(\"__premium = \", __premium)\n",
    "        print(\"day = \", day)\n",
    "        return work_day**day + __premium"
   ]
  },
  {
   "cell_type": "code",
   "execution_count": 162,
   "metadata": {},
   "outputs": [
    {
     "name": "stdout",
     "output_type": "stream",
     "text": [
      "__premium =  2.0\n",
      "day =  4\n"
     ]
    },
    {
     "data": {
      "text/plain": [
       "18.0"
      ]
     },
     "execution_count": 162,
     "metadata": {},
     "output_type": "execute_result"
    }
   ],
   "source": [
    "chieh = ChiefPayments(2)\n",
    "chieh.getPay(2)"
   ]
  },
  {
   "cell_type": "code",
   "execution_count": null,
   "metadata": {},
   "outputs": [],
   "source": []
  },
  {
   "cell_type": "code",
   "execution_count": null,
   "metadata": {},
   "outputs": [],
   "source": []
  },
  {
   "cell_type": "code",
   "execution_count": null,
   "metadata": {},
   "outputs": [],
   "source": []
  },
  {
   "cell_type": "code",
   "execution_count": null,
   "metadata": {},
   "outputs": [],
   "source": []
  },
  {
   "cell_type": "code",
   "execution_count": null,
   "metadata": {},
   "outputs": [],
   "source": []
  },
  {
   "cell_type": "code",
   "execution_count": null,
   "metadata": {},
   "outputs": [],
   "source": []
  },
  {
   "cell_type": "code",
   "execution_count": null,
   "metadata": {},
   "outputs": [],
   "source": []
  },
  {
   "cell_type": "code",
   "execution_count": null,
   "metadata": {},
   "outputs": [],
   "source": []
  },
  {
   "cell_type": "code",
   "execution_count": null,
   "metadata": {},
   "outputs": [],
   "source": []
  },
  {
   "cell_type": "code",
   "execution_count": null,
   "metadata": {},
   "outputs": [],
   "source": []
  },
  {
   "cell_type": "code",
   "execution_count": null,
   "metadata": {},
   "outputs": [],
   "source": []
  },
  {
   "cell_type": "code",
   "execution_count": null,
   "metadata": {},
   "outputs": [],
   "source": []
  },
  {
   "cell_type": "code",
   "execution_count": null,
   "metadata": {},
   "outputs": [],
   "source": []
  },
  {
   "cell_type": "code",
   "execution_count": null,
   "metadata": {},
   "outputs": [],
   "source": []
  },
  {
   "cell_type": "code",
   "execution_count": null,
   "metadata": {},
   "outputs": [],
   "source": [
    "# This doesnt work properly it will be for task 2-3"
   ]
  },
  {
   "cell_type": "code",
   "execution_count": 167,
   "metadata": {},
   "outputs": [],
   "source": [
    "class Company:\n",
    "    \"\"\"Description finacies of company\"\"\"\n",
    "    \n",
    "    # inicialization\n",
    "    # name - str; day - works days, job - closed tasks\n",
    "    def __init__(self, name: str, day: int, job): \n",
    "        #atribute \n",
    "        self.name = name\n",
    "        self.day = day\n",
    "        self.job = job\n",
    "    \n",
    "    # Class atributes\n",
    "    name = []\n",
    "    pay = []\n",
    "        \n",
    "    # Job clasification    \n",
    "    \n",
    "    # Payment calculation\n",
    "    def _set(self):\n",
    "        if name != \"cheif\":\n",
    "            Company.name.append(self.name)\n",
    "            Company.pay.append(self.day)\n",
    "            print(12343242)\n",
    "        else:\n",
    "            _chief = (self.job)**2\n",
    "            name_pay.append(self.name)\n",
    "            pay.append(self.day*_chief)\n",
    "    \n",
    "    #payment in company\n",
    "    def getPay(self):\n",
    "        return self.pay\n",
    "        \n",
    "    #payment for a name\n",
    "    def getName(self):\n",
    "        return self.name"
   ]
  },
  {
   "cell_type": "code",
   "execution_count": 169,
   "metadata": {},
   "outputs": [],
   "source": [
    "c = Company(\"chichi\", 24, 2)"
   ]
  },
  {
   "cell_type": "code",
   "execution_count": null,
   "metadata": {},
   "outputs": [],
   "source": []
  }
 ],
 "metadata": {
  "kernelspec": {
   "display_name": "Python 3",
   "language": "python",
   "name": "python3"
  },
  "language_info": {
   "codemirror_mode": {
    "name": "ipython",
    "version": 3
   },
   "file_extension": ".py",
   "mimetype": "text/x-python",
   "name": "python",
   "nbconvert_exporter": "python",
   "pygments_lexer": "ipython3",
   "version": "3.6.5"
  }
 },
 "nbformat": 4,
 "nbformat_minor": 2
}
