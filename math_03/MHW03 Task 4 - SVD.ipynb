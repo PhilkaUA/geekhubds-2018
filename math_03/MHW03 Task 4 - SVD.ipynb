{
 "cells": [
  {
   "cell_type": "markdown",
   "metadata": {},
   "source": [
    "# MHW03 Task 4 - SVD\n",
    "Реализовать\tна\tPython SVD-разложение, как же без numpy :\\"
   ]
  },
  {
   "cell_type": "code",
   "execution_count": 1,
   "metadata": {},
   "outputs": [],
   "source": [
    "import numpy as np\n",
    "import sympy as sp"
   ]
  },
  {
   "cell_type": "code",
   "execution_count": 2,
   "metadata": {},
   "outputs": [
    {
     "name": "stdout",
     "output_type": "stream",
     "text": [
      "\n",
      " input matrix: \n",
      " [[ 3.  1.  1.]\n",
      " [-1.  3.  1.]]\n",
      "\n",
      " trasponse matrix: \n",
      " [[ 3. -1.]\n",
      " [ 1.  3.]\n",
      " [ 1.  1.]]\n"
     ]
    }
   ],
   "source": [
    "# input Matrix A \n",
    "a_matrix = np.array([[3, 1, 1], [-1, 3, 1]], dtype=float)\n",
    "print('\\n input matrix: \\n', a_matrix)\n",
    "\n",
    "# Eigenvalue as a symbol\n",
    "lamda = sp.symbols('lamda')\n",
    "\n",
    "#Transponsing\n",
    "a_transponse = a_matrix.transpose()\n",
    "print('\\n trasponse matrix: \\n', a_transponse)"
   ]
  },
  {
   "cell_type": "markdown",
   "metadata": {},
   "source": [
    "# Algorytm SVD by functions"
   ]
  },
  {
   "cell_type": "code",
   "execution_count": 3,
   "metadata": {},
   "outputs": [],
   "source": [
    "# Matrix dot\n",
    "def matrix_dot(matrix1, matrix2):  \n",
    "    return np.dot(matrix1, matrix2)"
   ]
  },
  {
   "cell_type": "code",
   "execution_count": 4,
   "metadata": {},
   "outputs": [],
   "source": [
    "# Variables transorm into Symbols\n",
    "def symbol_data(matrix_length):\n",
    "    indexes = []\n",
    "    for columns in np.arange(matrix_length):\n",
    "        indexes.append(sp.symbols('x'+str(columns+1)))\n",
    "    return indexes"
   ]
  },
  {
   "cell_type": "code",
   "execution_count": 5,
   "metadata": {},
   "outputs": [],
   "source": [
    "# Main matrix equations\n",
    "def matrix_equations(matrix, matrix_length, lammda, indexes):\n",
    "    # Matrix equations\n",
    "    main_equations = (np.dot(matrix,indexes) - np.dot(lamda,indexes))\n",
    "    print(\"\\n main equations:  \\n\", main_equations)\n",
    "\n",
    "    # collect by symbols\n",
    "    colected_exp = []\n",
    "    for columns in np.arange(matrix_length):\n",
    "        colected_exp.append(sp.collect(main_equations[columns], indexes))\n",
    "    print(\"\\n collect equations:  \\n\", colected_exp)\n",
    "\n",
    "    # Eigenvalue zero matrix\n",
    "    lamda_matrix = np.empty((matrix_length, matrix_length), dtype = object)\n",
    "\n",
    "    # Input to matrix and collect by symbols\n",
    "    for column in np.arange(matrix_length):\n",
    "        for index in np.arange(matrix_length):\n",
    "            lamda_matrix[column,index] = sp.N(colected_exp[column].coeff(indexes[index]),1)\n",
    "    print(\"\\n lamda matrix:  \\n\", lamda_matrix)\n",
    "\n",
    "    # Determinant by symbols\n",
    "    lamda_matrix_symbols = sp.Matrix(lamda_matrix)\n",
    "    det_lambda = lamda_matrix_symbols.det()\n",
    "\n",
    "    # Solving equation for Eigenvalue\n",
    "    lamda_num = sp.solve(det_lambda, lamda)\n",
    "    lamda_num = sorted(lamda_num, reverse=True)\n",
    "    print(\"\\n Eigenvalue value:  \\n\", lamda_num)\n",
    "    \n",
    "    return (lamda_num, colected_exp)"
   ]
  },
  {
   "cell_type": "code",
   "execution_count": 6,
   "metadata": {},
   "outputs": [],
   "source": [
    "# Solving equations system for a eigen matrix\n",
    "def solving_system(colected_expresion, matrix_length, lamda_numerical, lamda_symbol, indexes):\n",
    "    \n",
    "    # Substitution eigenvalue in equation system\n",
    "    x_answers = np.empty((matrix_length, matrix_length), dtype = object)\n",
    "    for lmda in np.arange(matrix_length):\n",
    "        for column in np.arange(matrix_length):\n",
    "            x_answers[lmda, column] = colected_expresion[column].subs(lamda_symbol, lamda_numerical[lmda])   \n",
    "    print(\"\\n Substitution Lambda value:  \\n\", x_answers)\n",
    "    \n",
    "    # Modify equation system, Defining in first equation x1 = 1\n",
    "    value = 1\n",
    "    for column in np.arange(matrix_length):\n",
    "        for index in np.arange(matrix_length):\n",
    "            x_answers[column, index] = x_answers[column, index].subs(indexes[0], (value)**column)\n",
    "    print(\"\\n Modify equation system for solving: x1 = {}\".format(value),\"\\n\", x_answers)    \n",
    "    \n",
    "    # Solving equation system for eigen matrix\n",
    "    Nu_matrix = np.empty((matrix_length, matrix_length), dtype = float)\n",
    "\n",
    "    for column in np.arange(matrix_length):\n",
    "        for index in np.arange(matrix_length):\n",
    "            Nu_matrix[column, index] = (sp.solve(x_answers[column],indexes)).get(indexes[index])\n",
    "    Nu_matrix[:,0] = value\n",
    "    print(\"\\n Eigen matrix:  \\n\", Nu_matrix)\n",
    "    \n",
    "    return Nu_matrix"
   ]
  },
  {
   "cell_type": "code",
   "execution_count": 7,
   "metadata": {},
   "outputs": [],
   "source": [
    "#Gram-Schmidt orthonormalization process:\n",
    "def ortho_normalization(Nu_matrix, matrix_length):\n",
    "    if matrix_length == 2:\n",
    "        \n",
    "        # Normalization of U matrix\n",
    "        U_first_column = Nu_matrix[:,0] / np.linalg.norm(Nu_matrix[:,0])\n",
    "        Wu = Nu_matrix[:,1] - np.dot(U_first_column,Nu_matrix[:,1]) * U_first_column\n",
    "        U_second_column = Wu / np.linalg.norm(Wu)\n",
    "        #print('\\n First column:  ', U_first_column)\n",
    "        #print(' Second column:  ', U_second_column)\n",
    "     \n",
    "        U_matrix = np.zeros((matrix_length, matrix_length), dtype = float)\n",
    "        U_matrix[:,0] = U_first_column\n",
    "        U_matrix[:,1] = U_second_column\n",
    "\n",
    "        print('\\n U matrix:  \\n',U_matrix)\n",
    "        return U_matrix\n",
    "    \n",
    "    elif matrix_length == 3:\n",
    "        \n",
    "        # Normalization of U matrix\n",
    "        V_first_column = Nu_matrix[:,0] / np.linalg.norm(Nu_matrix[:,0])\n",
    "        \n",
    "        Wu = Nu_matrix[:,1] - np.dot(V_first_column,Nu_matrix[:,1]) * V_first_column\n",
    "        V_second_column = Wu / np.linalg.norm(Wu)\n",
    "\n",
    "        Wu1 = Nu_matrix[:,2] - np.dot(V_first_column,Nu_matrix[:,2]) * V_first_column - np.dot(V_second_column,Nu_matrix[:,2]) * V_second_column\n",
    "        V_third_column = Wu1 / np.linalg.norm(Wu1)\n",
    "        \n",
    "        #print('\\n First column:  ', V_first_column)\n",
    "        #print(' Second column: ', V_second_column)\n",
    "        #print(' Third column: ', V_third_column)\n",
    "\n",
    "        V_matrix = np.zeros((matrix_length, matrix_length), dtype = float)\n",
    "        V_matrix[:,0] = V_first_column\n",
    "        V_matrix[:,1] = V_second_column\n",
    "        V_matrix[:,2] = V_second_column\n",
    "        \n",
    "        print('\\n V matrix:  \\n',V_matrix)\n",
    "        return V_matrix\n",
    "        \n",
    "    else: print('\\n Sorry, but not this time :) \\n') "
   ]
  },
  {
   "cell_type": "code",
   "execution_count": null,
   "metadata": {},
   "outputs": [],
   "source": []
  },
  {
   "cell_type": "markdown",
   "metadata": {},
   "source": [
    "# Matrix U"
   ]
  },
  {
   "cell_type": "code",
   "execution_count": 8,
   "metadata": {},
   "outputs": [
    {
     "name": "stdout",
     "output_type": "stream",
     "text": [
      "\n",
      " U matrix \n",
      " \n",
      "\n",
      " main equations:  \n",
      " [-lamda*x1 + 11.0*x1 + 1.0*x2 -lamda*x2 + 1.0*x1 + 11.0*x2]\n",
      "\n",
      " collect equations:  \n",
      " [x1*(-lamda + 11.0) + 1.0*x2, 1.0*x1 + x2*(-lamda + 11.0)]\n",
      "\n",
      " lamda matrix:  \n",
      " [[-lamda + 1.0e+1 1.]\n",
      " [1. -lamda + 1.0e+1]]\n",
      "\n",
      " Eigenvalue value:  \n",
      " [12.0000000000000, 10.0000000000000]\n",
      "\n",
      " Substitution Lambda value:  \n",
      " [[-1.0*x1 + 1.0*x2 1.0*x1 - 1.0*x2]\n",
      " [1.0*x1 + 1.0*x2 1.0*x1 + 1.0*x2]]\n",
      "\n",
      " Modify equation system for solving: x1 = 1 \n",
      " [[1.0*x2 - 1.0 -1.0*x2 + 1.0]\n",
      " [1.0*x2 + 1.0 1.0*x2 + 1.0]]\n",
      "\n",
      " Eigen matrix:  \n",
      " [[ 1.  1.]\n",
      " [ 1. -1.]]\n",
      "\n",
      " U matrix:  \n",
      " [[ 0.70710678  0.70710678]\n",
      " [ 0.70710678 -0.70710678]]\n"
     ]
    }
   ],
   "source": [
    "print(\"\\n U matrix \\n \")\n",
    "\n",
    "# Input matrix\n",
    "matrix = matrix_dot(a_matrix,a_transponse)\n",
    "# Column lenth\n",
    "matrix_len = matrix.shape[0]\n",
    "# Symbols variables\n",
    "indexes = symbol_data(matrix_len)\n",
    "\n",
    "# Matrix operations for Eigenvalue values\n",
    "matrix_eq = matrix_equations(matrix, matrix_len, lamda, indexes)\n",
    "\n",
    "# Solving equation system for a Eigen Matrix:\n",
    "matrix_eigen = solving_system(matrix_eq[1], matrix_len, matrix_eq[0], lamda, indexes)\n",
    "\n",
    "# U matrix:\n",
    "U_matrix = ortho_normalization(matrix_eigen, matrix_len)"
   ]
  },
  {
   "cell_type": "markdown",
   "metadata": {},
   "source": [
    "# Matrix V"
   ]
  },
  {
   "cell_type": "code",
   "execution_count": 9,
   "metadata": {},
   "outputs": [
    {
     "name": "stdout",
     "output_type": "stream",
     "text": [
      "\n",
      " V matrix \n",
      " \n",
      "\n",
      " main equations:  \n",
      " [-lamda*x1 + 10.0*x1 + 2.0*x3 -lamda*x2 + 10.0*x2 + 4.0*x3\n",
      " -lamda*x3 + 2.0*x1 + 4.0*x2 + 2.0*x3]\n",
      "\n",
      " collect equations:  \n",
      " [x1*(-lamda + 10.0) + 2.0*x3, x2*(-lamda + 10.0) + 4.0*x3, 2.0*x1 + 4.0*x2 + x3*(-lamda + 2.0)]\n",
      "\n",
      " lamda matrix:  \n",
      " [[-lamda + 1.0e+1 0 2.]\n",
      " [0 -lamda + 1.0e+1 4.]\n",
      " [2. 4. -lamda + 2.0]]\n",
      "\n",
      " Eigenvalue value:  \n",
      " [12.0000000000000, 10.0000000000000, 0.0]\n",
      "\n",
      " Substitution Lambda value:  \n",
      " [[-2.0*x1 + 2.0*x3 -2.0*x2 + 4.0*x3 2.0*x1 + 4.0*x2 - 10.0*x3]\n",
      " [2.0*x3 4.0*x3 2.0*x1 + 4.0*x2 - 8.0*x3]\n",
      " [10.0*x1 + 2.0*x3 10.0*x2 + 4.0*x3 2.0*x1 + 4.0*x2 + 2.0*x3]]\n",
      "\n",
      " Modify equation system for solving: x1 = 1 \n",
      " [[2.0*x3 - 2.0 -2.0*x2 + 4.0*x3 4.0*x2 - 10.0*x3 + 2.0]\n",
      " [2.0*x3 4.0*x3 4.0*x2 - 8.0*x3 + 2.0]\n",
      " [2.0*x3 + 10.0 10.0*x2 + 4.0*x3 4.0*x2 + 2.0*x3 + 2.0]]\n",
      "\n",
      " Eigen matrix:  \n",
      " [[ 1.   2.   1. ]\n",
      " [ 1.  -0.5  0. ]\n",
      " [ 1.   2.  -5. ]]\n",
      "\n",
      " V matrix:  \n",
      " [[ 0.57735027  0.40824829  0.40824829]\n",
      " [ 0.57735027 -0.81649658 -0.81649658]\n",
      " [ 0.57735027  0.40824829  0.40824829]]\n"
     ]
    }
   ],
   "source": [
    "print(\"\\n V matrix \\n \")\n",
    "\n",
    "# Input matrix\n",
    "v_matrix = matrix_dot(a_transponse,a_matrix)\n",
    "# Column lenth\n",
    "v_matrix_len = v_matrix.shape[0]\n",
    "# Symbols variables\n",
    "v_indexes = symbol_data(v_matrix_len)\n",
    "\n",
    "# Matrix operations for Eigenvalue values\n",
    "v_matrix_eq = matrix_equations(v_matrix, v_matrix_len, lamda, v_indexes)\n",
    "\n",
    "# Solving equation system for a Eigen Matrix:\n",
    "v_matrix_eigen = solving_system(v_matrix_eq[1], v_matrix_len, v_matrix_eq[0], lamda, v_indexes)\n",
    "\n",
    "# U matrix:\n",
    "V_matrix = ortho_normalization(v_matrix_eigen, v_matrix_len)"
   ]
  },
  {
   "cell_type": "markdown",
   "metadata": {},
   "source": [
    "# Matrix S"
   ]
  },
  {
   "cell_type": "code",
   "execution_count": 10,
   "metadata": {},
   "outputs": [],
   "source": [
    "# Eigenvalue values\n",
    "eigen_unique_values = sorted(np.unique(matrix_eq[0] + v_matrix_eq[0]), reverse=True)"
   ]
  },
  {
   "cell_type": "code",
   "execution_count": 11,
   "metadata": {},
   "outputs": [],
   "source": [
    "# Function for matrix (sqrt)\n",
    "from math import sqrt \n",
    "def sqrt_round(element):\n",
    "    return round(sqrt(element),1)    \n",
    "vector_sqrt_round = np.vectorize(sqrt_round)"
   ]
  },
  {
   "cell_type": "code",
   "execution_count": 12,
   "metadata": {},
   "outputs": [
    {
     "name": "stdout",
     "output_type": "stream",
     "text": [
      "\n",
      " S matrix:  \n",
      " [[3.5 0.  0. ]\n",
      " [0.  3.2 0. ]\n",
      " [0.  0.  0. ]]\n"
     ]
    }
   ],
   "source": [
    "# Singular matrix\n",
    "S_matrix = np.diag(vector_sqrt_round(eigen_unique_values))\n",
    "print('\\n S matrix:  \\n',S_matrix)"
   ]
  }
 ],
 "metadata": {
  "kernelspec": {
   "display_name": "Python 3",
   "language": "python",
   "name": "python3"
  },
  "language_info": {
   "codemirror_mode": {
    "name": "ipython",
    "version": 3
   },
   "file_extension": ".py",
   "mimetype": "text/x-python",
   "name": "python",
   "nbconvert_exporter": "python",
   "pygments_lexer": "ipython3",
   "version": "3.6.5"
  }
 },
 "nbformat": 4,
 "nbformat_minor": 2
}
