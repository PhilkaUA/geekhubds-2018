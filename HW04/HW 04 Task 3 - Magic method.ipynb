{
 "cells": [
  {
   "cell_type": "markdown",
   "metadata": {},
   "source": [
    "# HW 04 Task 3 - Magic method\n",
    "Описать с помощью классов любой известный вам процесс или систему.\n",
    "\n",
    "*3. Использовать магический метод."
   ]
  },
  {
   "cell_type": "code",
   "execution_count": 110,
   "metadata": {},
   "outputs": [],
   "source": [
    "class ListString:\n",
    "    \"\"\"Compare by surnames\"\"\"\n",
    "\n",
    "    # inicialization\n",
    "    def __init__(self, name, surname):\n",
    "        self.name = name\n",
    "        self.surname = surname    \n",
    "        \n",
    "    # Defining Hash, surname will be hashable\n",
    "    def __hash__(self):\n",
    "        return hash(self.surname)\n",
    "    \n",
    "    # Defining Equal, for surname\n",
    "    def __eq__(self, other_surname: str):\n",
    "        return self.surname == other_surname.surname\n",
    "    \n",
    "    # Defining str output\n",
    "    def __str__(self):\n",
    "        return '{} ({})'.format(self.name, self.surname)"
   ]
  },
  {
   "cell_type": "code",
   "execution_count": 111,
   "metadata": {},
   "outputs": [
    {
     "name": "stdout",
     "output_type": "stream",
     "text": [
      "True\n",
      "True\n",
      "Vitalii (Filipov)\n"
     ]
    }
   ],
   "source": [
    "# Result\n",
    "person1 = ListString('Vitalii','Filipov')\n",
    "person2 = ListString('Olexander','Filipov')\n",
    "print(person1 == person2)\n",
    "print(hash(person1) == hash(person2))\n",
    "print(person1)"
   ]
  }
 ],
 "metadata": {
  "kernelspec": {
   "display_name": "Python 3",
   "language": "python",
   "name": "python3"
  },
  "language_info": {
   "codemirror_mode": {
    "name": "ipython",
    "version": 3
   },
   "file_extension": ".py",
   "mimetype": "text/x-python",
   "name": "python",
   "nbconvert_exporter": "python",
   "pygments_lexer": "ipython3",
   "version": "3.6.5"
  }
 },
 "nbformat": 4,
 "nbformat_minor": 2
}
