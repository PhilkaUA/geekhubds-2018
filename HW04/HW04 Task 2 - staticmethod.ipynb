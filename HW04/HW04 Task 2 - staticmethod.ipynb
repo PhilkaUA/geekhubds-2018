{
 "cells": [
  {
   "cell_type": "markdown",
   "metadata": {},
   "source": [
    "# HW04 Task 2 - @staticmethod\n",
    "Описать с помощью классов любой известный вам процесс или систему.\n",
    "*2. Использовать статический и метод класса, property."
   ]
  },
  {
   "cell_type": "code",
   "execution_count": 387,
   "metadata": {},
   "outputs": [],
   "source": [
    "class Counter:\n",
    "    \"\"\"Counter with static method\"\"\"\n",
    "    \n",
    "    var = 0 # variable for count\n",
    "    items_name = [] # name of variable\n",
    "\n",
    "    #Initialization, constructor\n",
    "    def __init__(self, item):\n",
    "        self.item = item\n",
    "        Counter.var += 1\n",
    "        Counter.items_name.append(item)\n",
    "\n",
    "    # Method for duplication output items // Just some Method\n",
    "    def duplicate(self, k):\n",
    "        print(\"{} ->> duplication ->>: {}\".format(self.item, self.item * k))\n",
    "   \n",
    "    # Its only outup - using staticmethod for result output\n",
    "    @staticmethod\n",
    "    def countName(k):\n",
    "        print(\"All items are -->> {}\".format(Counter.var))\n",
    "        if k <= len(Counter.items_name):\n",
    "            print(\"On index {} item -->> {}.\".format(k, Counter.items_name[k]))\n",
    "        else: print(\"Intup correct index\")"
   ]
  },
  {
   "cell_type": "code",
   "execution_count": 429,
   "metadata": {},
   "outputs": [
    {
     "name": "stdout",
     "output_type": "stream",
     "text": [
      "Firts ->> duplication ->>: FirtsFirtsFirtsFirtsFirts\n",
      "Second ->> duplication ->>: Second\n",
      "Third ->> duplication ->>: \n"
     ]
    }
   ],
   "source": [
    "# Result input items\n",
    "first = Counter(\"Firts\")\n",
    "second = Counter(\"Second\")\n",
    "third = Counter(\"Third\")\n",
    "# Just duplicate example\n",
    "first.duplicate(5) \n",
    "second.duplicate(1)\n",
    "third.duplicate(0)"
   ]
  },
  {
   "cell_type": "code",
   "execution_count": 430,
   "metadata": {},
   "outputs": [
    {
     "name": "stdout",
     "output_type": "stream",
     "text": [
      "All items are -->> 18\n",
      "On index 5 item -->> Third.\n",
      "All items are -->> 18\n",
      "On index 1 item -->> Second.\n",
      "All items are -->> 18\n",
      "On index 4 item -->> Second.\n"
     ]
    }
   ],
   "source": [
    "# Result Count items\n",
    "first.countName(5)\n",
    "second.countName(1)\n",
    "third.countName(4)"
   ]
  },
  {
   "cell_type": "code",
   "execution_count": 423,
   "metadata": {},
   "outputs": [],
   "source": [
    "# using property atribute\n",
    "class NameList:\n",
    "    \"\"\"Modify of name list\"\"\"\n",
    "    \n",
    "    # Get item by index\n",
    "    def getNameList(self, k):\n",
    "        #print(\"Getting value\")\n",
    "        print(\"Length of items name -->> \", Counter.var)\n",
    "        return Counter.items_name[k]\n",
    "    \n",
    "    def sliceNameList(self, k):\n",
    "        print(\"Slicing List\")\n",
    "        _items_name = Counter.items_name[:k]\n",
    "        print(\"Length of items name -->> \", len(_items_name))\n",
    "        return _items_name       \n",
    "    \n",
    "    modifyNameList = property(getNameList,sliceNameList) "
   ]
  },
  {
   "cell_type": "code",
   "execution_count": 431,
   "metadata": {},
   "outputs": [
    {
     "name": "stdout",
     "output_type": "stream",
     "text": [
      "Length of items name -->>  18\n"
     ]
    },
    {
     "data": {
      "text/plain": [
       "'Third'"
      ]
     },
     "execution_count": 431,
     "metadata": {},
     "output_type": "execute_result"
    }
   ],
   "source": [
    "# Geting item by Index\n",
    "NameList.getNameList(_, 2)"
   ]
  },
  {
   "cell_type": "code",
   "execution_count": 432,
   "metadata": {},
   "outputs": [
    {
     "name": "stdout",
     "output_type": "stream",
     "text": [
      "Slicing List\n",
      "Length of items name -->>  4\n"
     ]
    },
    {
     "data": {
      "text/plain": [
       "['Firts', 'Second', 'Third', 'Firts']"
      ]
     },
     "execution_count": 432,
     "metadata": {},
     "output_type": "execute_result"
    }
   ],
   "source": [
    "# Slicing List by index\n",
    "NameList.sliceNameList(_, 4)"
   ]
  },
  {
   "cell_type": "code",
   "execution_count": 433,
   "metadata": {},
   "outputs": [
    {
     "name": "stdout",
     "output_type": "stream",
     "text": [
      "Slicing List\n",
      "Length of items name -->>  5\n"
     ]
    }
   ],
   "source": [
    "# Slicing List by index with property\n",
    "_list = NameList()\n",
    "_list.modifyNameList = 5"
   ]
  }
 ],
 "metadata": {
  "kernelspec": {
   "display_name": "Python 3",
   "language": "python",
   "name": "python3"
  },
  "language_info": {
   "codemirror_mode": {
    "name": "ipython",
    "version": 3
   },
   "file_extension": ".py",
   "mimetype": "text/x-python",
   "name": "python",
   "nbconvert_exporter": "python",
   "pygments_lexer": "ipython3",
   "version": "3.6.5"
  }
 },
 "nbformat": 4,
 "nbformat_minor": 2
}
