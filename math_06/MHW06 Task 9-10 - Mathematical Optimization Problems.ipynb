{
 "cells": [
  {
   "cell_type": "markdown",
   "metadata": {},
   "source": [
    "# Оптимизация в Python: глобальная оптимизация и оптимизация негладкой функции"
   ]
  },
  {
   "cell_type": "markdown",
   "metadata": {},
   "source": [
    "Данное задание основано на материалах секции, посвященной оптимизационным задачам и методам их решения. Вам понадобится компьютер с установленным интерпретатором Python и подключенными библиотеками NumPy, SciPy и Matplotlib."
   ]
  },
  {
   "cell_type": "markdown",
   "metadata": {},
   "source": [
    "### Вы научитесь:\n",
    "1. применять библиотеку SciPy для минимизации функций\n",
    "2. делать выбор между градиентными и неградиентными методами оптимизации, исходя из особенностей задачи и ваших пожеланий к итоговому решению"
   ]
  },
  {
   "cell_type": "markdown",
   "metadata": {},
   "source": [
    "### Введение\n",
    "В этом задании вы научитесь решать задачи оптимизации с помощью библиотеки SciPy. Сначала вы решите задачу поиска минимума функции с помощью одного из градиентных методов оптимизации, затем увидите отличия в работе градиентного метода и одного из методов глобальной оптимизации, а в заключение – найдете глобальный минимум негладкой функции, т.е. функции, у которой не всегда определен градиент.\n",
    "\n",
    "Понимание задачи глобальной оптимизации и отличий градиентных методов, от методов, не использующих градиент, очень полезно в задачах анализа данных, в частности, для подбора параметров алгоритмов."
   ]
  },
  {
   "cell_type": "markdown",
   "metadata": {},
   "source": [
    "### Материалы\n",
    "1. Справка по функциям пакета scipy.optimize: http://docs.scipy.org/doc/scipy/reference/optimize.html\n",
    "2. Matplotlib User Guide: http://matplotlib.org/users/index.html"
   ]
  },
  {
   "cell_type": "markdown",
   "metadata": {},
   "source": [
    "### Инструкция по выполнению\n",
    "Данное задание состоит из трех частей. В каждой ответом будет набор чисел, сохраните его. Правильные ответы оглашу 14 декабря)"
   ]
  },
  {
   "cell_type": "markdown",
   "metadata": {},
   "source": [
    "## Задача 1. Минимизация гладкой функции\n",
    "1. Рассмотрим функцию: f(x) = sin(x / 5) * exp(x / 10) + 5 * exp(-x / 2), на промежутке [1, 30]\n",
    "2. В первом задании будем искать минимум этой функции на заданном промежутке с помощью scipy.optimize. Разумеется, в дальнейшем вы будете использовать методы оптимизации для более сложных функций, а f(x) мы рассмотрим как удобный учебный пример.\n",
    "3. Напишите на Питоне функцию, вычисляющую значение f(x) по известному x. Будьте внимательны: не забывайте про то, что по умолчанию в питоне целые числа делятся нацело, и о том, что функции sin и exp нужно импортировать из модуля math.\n",
    "4. Изучите примеры использования scipy.optimize.minimize в документации Scipy (см. \"Материалы\")\n",
    "5. Попробуйте найти минимум, используя стандартные параметры в функции scipy.optimize.minimize (т.е. задав только функцию и начальное приближение). Попробуйте менять начальное приближение и изучить, меняется ли результат.\n",
    "6. Укажите в scipy.optimize.minimize в качестве метода BFGS (один из самых точных в большинстве случаев градиентных методов оптимизации), запустите из начального приближения x=2. Градиент функции при этом указывать не нужно – он будет оценен численно. Полученное значение функции в точке минимума - ваш первый ответ по заданию 1, его надо записать с точностью до 2 знака после запятой.\n",
    "7. Теперь измените начальное приближение на x=30. Значение функции в точке минимума - ваш второй ответ по заданию 1, его надо записать через пробел после первого, с точностью до 2 знака после запятой.\n",
    "8. Стоит обдумать полученный результат. Почему ответ отличается в зависимости от начального приближения? Если нарисовать график функции (например, как это делалось в видео, где мы знакомились с Numpy, Scipy и Matplotlib), можно увидеть, в какие именно минимумы мы попали. В самом деле, градиентные методы обычно не решают задачу глобальной оптимизации, поэтому результаты работы ожидаемые и вполне корректные."
   ]
  },
  {
   "cell_type": "code",
   "execution_count": 1,
   "metadata": {},
   "outputs": [],
   "source": [
    "import numpy as np\n",
    "import matplotlib.pyplot as plt\n",
    "\n",
    "from scipy import optimize\n",
    "from scipy.optimize import differential_evolution"
   ]
  },
  {
   "cell_type": "markdown",
   "metadata": {},
   "source": [
    "# Task 1. Minimizing smooth function"
   ]
  },
  {
   "cell_type": "code",
   "execution_count": 2,
   "metadata": {},
   "outputs": [],
   "source": [
    "#1-3 Function: f (x) = sin (x / 5) * exp (x / 10) + 5 * exp (-x / 2), on the interval [1, 30]\n",
    "\n",
    "def f(x):\n",
    "    return  np.sin(x/5.0) * np.exp(x/10.0) + 5.0*np.exp(-x/2.0)\n",
    "\n",
    "def discretize(function, x_min, x_max, points):\n",
    "    '''\n",
    "    function discretization\n",
    "    discrete_arguments - x_min - first argument, x_max - last argument, points - number of plot points\n",
    "    '''\n",
    "    discrete_arguments = np.linspace(x_min, x_max, num=points)\n",
    "    discrete_function = [f(x_element) for x_element in discrete_arguments]\n",
    "    return [discrete_arguments, discrete_function]\n",
    "    \n",
    "# Discrete function\n",
    "discrete_f = discretize(f, 1, 30, 100)"
   ]
  },
  {
   "cell_type": "code",
   "execution_count": 3,
   "metadata": {},
   "outputs": [
    {
     "name": "stdout",
     "output_type": "stream",
     "text": [
      "The minimum value depends on the initial value\n"
     ]
    }
   ],
   "source": [
    "# 4-5 Try to find the minimum using the standard parameters in the scipy.optimize.minimize function \n",
    "# Try changing the initial approximation and examine whether the result is changing.\n",
    "\n",
    "# Minimizing for different inital approximations\n",
    "minimize_f = [optimize.minimize(f, [initial_value]).fun for initial_value in np.linspace(1, 30, num=100)]\n",
    "\n",
    "print('The minimum value depends on the initial value')"
   ]
  },
  {
   "cell_type": "code",
   "execution_count": 4,
   "metadata": {},
   "outputs": [
    {
     "name": "stdout",
     "output_type": "stream",
     "text": [
      "Minimun by BSFG (inital: x = 2) -> 1.75\n",
      "Minimun by BSFG (inital: x = 30) -> -11.90\n"
     ]
    }
   ],
   "source": [
    "# 6-7 Specify scipy.optimize.minimize as the BFGS method, run x = 2, 30 from the initial approximation. \n",
    "# The obtained value of the function at the minimum point is your first answer for task 1,\n",
    "# it must be written with an accuracy of 2 decimal places.\n",
    "\n",
    "# Mininun by BFGS\n",
    "inital_values = [2, 30]\n",
    "minimize_f_bfgs = [optimize.minimize(f, [inital_value], method='BFGS').fun for inital_value in inital_values]\n",
    "\n",
    "# Result printing (f'{value:{width}.{precision}}')\n",
    "[print(f'Minimun by BSFG (inital: x = {inital_value}) -> {minimize_f_bfgs[index]:.2f}')\\\n",
    "for index, inital_value in enumerate(inital_values)];"
   ]
  },
  {
   "cell_type": "code",
   "execution_count": 5,
   "metadata": {},
   "outputs": [
    {
     "data": {
      "image/png": "[encoded data removed]",
      "text/plain": [
       "<Figure size 432x288 with 1 Axes>"
      ]
     },
     "metadata": {
      "needs_background": "light"
     },
     "output_type": "display_data"
    }
   ],
   "source": [
    "# 8 Result analys\n",
    "fig, axs = plt.subplots()\n",
    "\n",
    "axs.plot(discrete_f[0], discrete_f[1], 'r', label=\"function\")\n",
    "axs.plot(discrete_f[0], minimize_f, 'g', label=\"minimum value\")\n",
    "axs.plot(inital_values, minimize_f_bfgs, 'bo', label=\"initual values \\n BSFG\")\n",
    "\n",
    "axs.grid(True)\n",
    "axs.set_xlim(0, 32)\n",
    "axs.set_ylim(-15, 5)\n",
    "legend = axs.legend(loc='best', shadow=True)\n",
    "\n",
    "plt.show()"
   ]
  },
  {
   "cell_type": "markdown",
   "metadata": {},
   "source": [
    "## Задача 2. Глобальная оптимизация\n",
    "1. Теперь попробуем применить к той же функции f(x) метод глобальной оптимизации — дифференциальную эволюцию.\n",
    "2. Изучите документацию и примеры использования функции scipy.optimize.differential_evolution.\n",
    "3. Обратите внимание, что границы значений аргументов функции представляют собой список кортежей (list, в который помещены объекты типа tuple). Даже если у вас функция одного аргумента, возьмите границы его значений в квадратные скобки, чтобы передавать в этом параметре список из одного кортежа, т.к. в реализации scipy.optimize.differential_evolution длина этого списка используется чтобы определить количество аргументов функции.\n",
    "4. Запустите поиск минимума функции f(x) с помощью дифференциальной эволюции на промежутке [1, 30]. Полученное значение функции в точке минимума - ответ в задаче 2. Запишите его с точностью до второго знака после запятой. В этой задаче ответ - только одно число.\n",
    "5. Заметьте, дифференциальная эволюция справилась с задачей поиска глобального минимума на отрезке, т.к. по своему устройству она предполагает борьбу с попаданием в локальные минимумы.\n",
    "6. Сравните количество итераций, потребовавшихся BFGS для нахождения минимума при хорошем начальном приближении, с количеством итераций, потребовавшихся дифференциальной эволюции. При повторных запусках дифференциальной эволюции количество итераций будет меняться, но в этом примере, скорее всего, оно всегда будет сравнимым с количеством итераций BFGS. Однако в дифференциальной эволюции за одну итерацию требуется выполнить гораздо больше действий, чем в BFGS. Например, можно обратить внимание на количество вычислений значения функции (nfev) и увидеть, что у BFGS оно значительно меньше. Кроме того, время работы дифференциальной эволюции очень быстро растет с увеличением числа аргументов функции."
   ]
  },
  {
   "cell_type": "code",
   "execution_count": 6,
   "metadata": {},
   "outputs": [
    {
     "name": "stdout",
     "output_type": "stream",
     "text": [
      " Global function minimun by Diff.Evolution -> -11.90 \n",
      " x value of function -> 25.88\n"
     ]
    }
   ],
   "source": [
    "# 4 Start the search for the minimum of the function f (x) using differential evolution on the interval [1,30].\n",
    "# Write it down to the second decimal place\n",
    "\n",
    "bounds = [(1, 30)]\n",
    "minimum_global_de = differential_evolution(f, bounds)\n",
    "\n",
    "print(f' Global function minimun by Diff.Evolution -> {minimum_global_de.fun[0]:.2f}',\\\n",
    "      f'\\n x value of function -> {minimum_global_de.x[0]:.2f}')"
   ]
  },
  {
   "cell_type": "code",
   "execution_count": 7,
   "metadata": {},
   "outputs": [
    {
     "name": "stdout",
     "output_type": "stream",
     "text": [
      " Iterations: \n",
      " Differential evolution -> 5 \n",
      " BSFG -> 6\n",
      "\n",
      " Operations in: \n",
      " Differential evolution ->  96 \n",
      " BSFG ->  21\n"
     ]
    }
   ],
   "source": [
    "#6 Compare the number of iterations required by the BFGS to find the minimum with a good initial approximation\n",
    "# with the number of iterations required by the differential evolution\n",
    "\n",
    "# Itarations for DE and BFGS\n",
    "iterations_minimum_global_de = minimum_global_de.nit\n",
    "iterations_minimize_f_bfgs = optimize.minimize(f, [30], method='BFGS').nit\n",
    "print(' Iterations: \\n Differential evolution ->', iterations_minimum_global_de, '\\n BSFG ->', iterations_minimize_f_bfgs)\n",
    "\n",
    "# Count operations in one iteration\n",
    "operations_minimum_global_de = minimum_global_de.nfev\n",
    "operations_minimize_f_bfgs = optimize.minimize(f, [30], method='BFGS').nfev\n",
    "print('\\n Operations in: \\n Differential evolution -> ', operations_minimum_global_de,\\\n",
    "      '\\n BSFG -> ', operations_minimize_f_bfgs)"
   ]
  },
  {
   "cell_type": "markdown",
   "metadata": {},
   "source": [
    "## Задача 3. Минимизация негладкой функции\n",
    "1. Теперь рассмотрим функцию h(x) = int(f(x)) на том же отрезке [1, 30], т.е. теперь каждое значение f(x) приводится к типу int и функция принимает только целые значения.\n",
    "2. Такая функция будет негладкой и даже разрывной, а ее график будет иметь ступенчатый вид. Убедитесь в этом, построив график h(x) с помощью matplotlib.\n",
    "3. Попробуйте найти минимум функции h(x) с помощью BFGS, взяв в качестве начального приближения x=30. Получившееся значение функции – ваш первый ответ в этой задаче.\n",
    "4. Теперь попробуйте найти минимум h(x) на отрезке [1, 30] с помощью дифференциальной эволюции. Значение функции h(x) в точке минимума – это ваш второй ответ в этом задании. Запишите его через пробел после предыдущего.\n",
    "5. Обратите внимание на то, что полученные ответы различаются. Это ожидаемый результат, ведь BFGS использует градиент (в одномерном случае – производную) и явно не пригоден для минимизации рассмотренной нами разрывной функции. Попробуйте понять, почему минимум, найденный BFGS, именно такой (возможно в этом вам поможет выбор разных начальных приближений).\n",
    "6. Выполнив это задание, вы увидели на практике, чем поиск минимума функции отличается от глобальной оптимизации, и когда может быть полезно применить вместо градиентного метода оптимизации метод, не использующий градиент. Кроме того, вы попрактиковались в использовании библиотеки SciPy для решения оптимизационных задач, и теперь знаете, насколько это просто и удобно."
   ]
  },
  {
   "cell_type": "code",
   "execution_count": 8,
   "metadata": {},
   "outputs": [],
   "source": [
    "#1 Function h(x) = int(f(x)) on the same interval [1,30], now each value of f (x) changed to type int \n",
    "# and the function takes only integer values\n",
    "\n",
    "def f_int(x):\n",
    "    return  int(np.sin(x/5.0) * np.exp(x/10.0) + 5.0*np.exp(-x/2.0))\n",
    "\n",
    "def discretize_int(function, x_min, x_max, points):\n",
    "    '''\n",
    "    function discretization\n",
    "    discrete_arguments - x_min - first argument, x_max - last argument, points - number of plot points\n",
    "    '''\n",
    "    discrete_arguments = np.linspace(x_min, x_max, num=points)\n",
    "    discrete_function = [f_int(x_element) for x_element in discrete_arguments]\n",
    "    return [discrete_arguments, discrete_function]\n",
    "\n",
    "# Discrete function\n",
    "discrete_f_int = discretize_int(f, 1, 30, 1000)"
   ]
  },
  {
   "cell_type": "code",
   "execution_count": 9,
   "metadata": {},
   "outputs": [
    {
     "data": {
      "image/png": "[encoded data removed]",
      "text/plain": [
       "<Figure size 432x288 with 1 Axes>"
      ]
     },
     "metadata": {
      "needs_background": "light"
     },
     "output_type": "display_data"
    }
   ],
   "source": [
    "#2 Plot result graphic for int and float values\n",
    "fig, axs = plt.subplots()\n",
    "\n",
    "axs.plot(discrete_f[0], discrete_f[1], 'k', label=\"function\")\n",
    "axs.plot(discrete_f_int[0], discrete_f_int[1], 'r', label=\"function \\n int\")\n",
    "axs.grid(True)\n",
    "axs.set_xlim(0, 32)\n",
    "axs.set_ylim(-15, 5)\n",
    "legend = axs.legend(loc='best', shadow=True)\n",
    "\n",
    "plt.show()"
   ]
  },
  {
   "cell_type": "code",
   "execution_count": 10,
   "metadata": {},
   "outputs": [
    {
     "name": "stdout",
     "output_type": "stream",
     "text": [
      " Minimum: \n",
      " BSFG ->  -5 \n",
      " Differential evolution ->  -11.0\n"
     ]
    }
   ],
   "source": [
    "#3 Minimum of the function h(x) using the BFGS, taking x = 30 as the initial approximation\n",
    "minimize_f_int_bfgs = optimize.minimize(f_int, [30], method='BFGS').fun\n",
    "\n",
    "#4 Minimum h(x) on the interval [1,30] using differential evolution\n",
    "minimize_f_int_de = differential_evolution(f_int, bounds).fun\n",
    "\n",
    "print(' Minimum: \\n BSFG -> ', minimize_f_int_bfgs, '\\n Differential evolution -> ', minimize_f_int_de)"
   ]
  },
  {
   "cell_type": "code",
   "execution_count": 11,
   "metadata": {
    "scrolled": true
   },
   "outputs": [
    {
     "data": {
      "image/png": "[encoded data removed]",
      "text/plain": [
       "<Figure size 432x288 with 1 Axes>"
      ]
     },
     "metadata": {
      "needs_background": "light"
     },
     "output_type": "display_data"
    },
    {
     "name": "stdout",
     "output_type": "stream",
     "text": [
      "The minimum values coincide with the values of the piecewise function\n"
     ]
    }
   ],
   "source": [
    "# 5 Try to understand why the minimum, found by BFGS, is false\n",
    "# (perhaps this will help you with a choice of different initial approximations)\n",
    "\n",
    "# Minimizing by BFGS for different inital approximations\n",
    "list_minimize_f_int_bfgs = [optimize.minimize(f_int, [initial_value], method='BFGS').fun\\\n",
    "                            for initial_value in np.linspace(1, 30, num=1000)]\n",
    "\n",
    "# Result analys\n",
    "fig, axs = plt.subplots()\n",
    "\n",
    "axs.plot(discrete_f_int[0], discrete_f_int[1], 'r', label=\"function \\n int\")\n",
    "axs.plot(discrete_f_int[0], list_minimize_f_int_bfgs, 'g', label=\"minimum value \\n BFGS\")\n",
    "\n",
    "axs.grid(True)\n",
    "axs.set_xlim(0, 32)\n",
    "axs.set_ylim(-15, 5)\n",
    "legend = axs.legend(loc='best', shadow=True)\n",
    "\n",
    "plt.show()\n",
    "\n",
    "print('The minimum values coincide with the values of the piecewise function')"
   ]
  },
  {
   "cell_type": "code",
   "execution_count": null,
   "metadata": {},
   "outputs": [],
   "source": []
  }
 ],
 "metadata": {
  "kernelspec": {
   "display_name": "Python 3",
   "language": "python",
   "name": "python3"
  },
  "language_info": {
   "codemirror_mode": {
    "name": "ipython",
    "version": 3
   },
   "file_extension": ".py",
   "mimetype": "text/x-python",
   "name": "python",
   "nbconvert_exporter": "python",
   "pygments_lexer": "ipython3",
   "version": "3.6.6"
  }
 },
 "nbformat": 4,
 "nbformat_minor": 2
}
